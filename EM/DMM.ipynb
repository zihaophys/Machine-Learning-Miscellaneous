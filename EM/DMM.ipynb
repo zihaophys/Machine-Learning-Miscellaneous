{
 "cells": [
  {
   "cell_type": "markdown",
   "id": "f5aab693-b422-48e3-903e-3e3cbd58bff9",
   "metadata": {},
   "source": [
    "### Problem 2"
   ]
  },
  {
   "cell_type": "markdown",
   "id": "aa3443a8-4859-4656-af89-b9cde3d1b2d7",
   "metadata": {},
   "source": [
    "#### (a)"
   ]
  },
  {
   "cell_type": "markdown",
   "id": "544370e6-9b39-42c7-afc9-e93c72f0f841",
   "metadata": {},
   "source": [
    "Denote latent variable $\\{ \\pmb\\mu_1, \\cdots, \\pmb\\mu_n\\}$ by $Z$.\n",
    "$$\n",
    "\\hat{\\alpha} = \\arg\\max_\\alpha \\log P(\\mathcal{D};\\alpha) =\\arg\\max_{\\alpha}\\sum_{i=1}^n \\log p(\\pmb y_i;\\alpha)\n",
    "$$"
   ]
  },
  {
   "cell_type": "markdown",
   "id": "72e17945-9609-44bc-a34d-1fb77971c098",
   "metadata": {},
   "source": [
    "$$\n",
    "\\log p(\\pmb y;\\alpha) = \\int p(\\pmb y|\\pmb \\mu; \\alpha) p(\\pmb \\mu;\\alpha)d\\pmb \\mu\\\\\n",
    "=\\binom{N}{y_1 \\cdots y_K}\\frac{\n",
    "\\prod_{k=1}^K\\Gamma(\\alpha_k+y_k)\n",
    "}{\\Gamma(\\alpha_1+\\cdots\\alpha_K+N)}\\cdot \\frac{\\Gamma(\\alpha_1+\\cdots\\alpha_K)}{\n",
    "\\prod_{k=1}^K\\Gamma(\\alpha_k)\n",
    "}\n",
    "$$"
   ]
  },
  {
   "cell_type": "markdown",
   "id": "1b9e72c7-0635-4221-b752-4878a408eb76",
   "metadata": {},
   "source": [
    "$$\n",
    "\\log P(\\mathcal{D};\\alpha) =\n",
    "\\sum_{i=1}^n\\left\\{\n",
    "\\log \\binom{N}{y_{i,1} \\cdots y_{i,K}} + \\sum_{k=1}^K \\sum_{z=0}^{y_{i,k}\\ -1}\\log(\\alpha_k + z) \n",
    "- \\sum_{z=0}^{N-1} \\log(\\alpha_1\\cdots\\alpha_K + z)\n",
    "\\right\\}\n",
    "$$"
   ]
  },
  {
   "cell_type": "markdown",
   "id": "d2891aa4-69d7-4b18-b07e-f8c030faea16",
   "metadata": {},
   "source": [
    "1\\. Derive the complete-data loglikelihood:\n",
    "$$\n",
    "\\log P(\\mathcal{D}, \\pmb \\mu;\\alpha) = \\log P(\\mathcal{D}|\\pmb \\mu;\\alpha) + \\log P(\\pmb \\mu;\\alpha)\\\\\n",
    "=\\sum_{i=1}^n \\log P(\\pmb y_i |\\pmb \\mu_i;\\alpha) + \\sum_{i=1}^n \\log P(\\pmb \\mu_i;\\alpha)\\\\\n",
    "=\\sum_{i=1}^n \\left\\{\n",
    "\\sum_{k=1}^K y_{i,k} \\log \\mu_{i,k}+\\log \\binom{N}{y_{i,1} \\cdots y_{i,K}}\n",
    "+\n",
    "\\sum_{k=1}^K (\\alpha_{k}-1)\\log \\mu_{i,k} + \\log \\frac{\\Gamma(\\sum_{k=1}^K \\alpha_k)}{\\prod_{k=1}^K\\Gamma(\\alpha_k)}\n",
    "\\right\\}\n",
    "$$"
   ]
  },
  {
   "cell_type": "markdown",
   "id": "15b3b200-afd9-4207-8c16-b42cd36f9ea6",
   "metadata": {},
   "source": [
    "2\\. E-step: Denote by $\\alpha^t$ the $t$-th step estimation.\n",
    "$$\n",
    "Q(\\alpha, \\alpha^t)=\n",
    "\\mathbb{E}_{\\pmb \\mu|\\mathcal{D}, \\alpha^t}\\left[\\log P(\\mathcal{D}, \\pmb\\mu; \\alpha)\\right]\\\\\n",
    "=\\sum_{i=1}^n \\left\\{\n",
    "\\mathbb{E}_{\\pmb \\mu_i|\\pmb y_i;\\alpha^t}\\left[\\sum_{k=1}^K y_{i,k} \\log \\mu_{i,k}\\right]+\\log \\frac{N!}{y_{i,1}!\\cdots, y_{i,K}!}\n",
    "+\\mathbb{E}_{\\pmb \\mu_i|\\pmb y_i;\\alpha^t}\\left[\n",
    "\\sum_{k=1}^K (\\alpha_{k}-1)\\log \\mu_{i,k} \\right]+  \\log \\frac{\\Gamma(\\sum_{k=1}^K \\alpha_k)}{\\Gamma(\\alpha_1)\\cdots\\Gamma(\\alpha_K)}\n",
    "\\right\\}\n",
    "$$\n",
    "where \n",
    "$$\n",
    "\\pmb \\mu|\\pmb y; \\alpha\\sim \\text{Dir}(\\pmb \\mu; \\alpha + \\pmb y).\n",
    "$$\n",
    "Use the notation digamma function:\n",
    "$$\n",
    "\\psi(x) = \\frac{\\Gamma'(x)}{\\Gamma(x)},\n",
    "$$\n",
    "we can futher simplify $Q(\\alpha, \\alpha^t)$:"
   ]
  },
  {
   "cell_type": "markdown",
   "id": "4d130679-47db-40a1-a6ac-0bda7947dcb8",
   "metadata": {},
   "source": [
    "$$\n",
    "Q(\\alpha, \\alpha^t) = \\sum_{i=1}^n \\log \\binom{N}{y_{i,1} \\cdots y_{i,K}} + \\sum_{i=1}^n \\sum_{k=1}^K(y_{i,k}+\\alpha_k -1)\n",
    "\\psi(y_{i,k} + \\alpha_k^t) \n",
    "-n(N+ \\sum_{k=1}^K\\alpha_k-K)\\psi(N+\\sum_{k=1}^K\\alpha_k^t)\n",
    "+ n\\log \\Gamma(\\sum_{k=1}^K\\alpha_k) - n\\sum_{k=1}^K \\log\\Gamma(\\alpha_k)\n",
    "$$"
   ]
  },
  {
   "cell_type": "markdown",
   "id": "b036bc6c-ccda-4842-b331-2b23a25db34e",
   "metadata": {},
   "source": [
    "3\\. M-step: \n",
    "$$\n",
    "\\alpha^{t+1} = \\arg\\max_{\\alpha} Q(\\alpha, \\alpha^t)\n",
    "$$\n",
    "Note that $\\log\\Gamma(\\cdot)$ is convex, $Q$ is non-concave, \n",
    "thus this non-concave maximization problem cannot be solved in closed form.\n",
    "$$ \\\\ $$\n",
    "We shall apply Newton's method to solve it. Denote by $\\alpha(m)$ the $m$-th iteration value in Newton's method. \n",
    "$$\n",
    "\\alpha(m+1)= \\alpha(m) - H^{-1}(\\alpha(m), \\alpha^t) \\cdot \\nabla Q(\\alpha(m), \\alpha^t).\n",
    "$$\n",
    "where \n",
    "$$\n",
    "[\\nabla Q(\\alpha, \\alpha^t)]_k = \\sum_{i=1}^n \\psi(y_{i,k} + \\alpha_k^t) - n\\psi(N+\\sum_{j=1}^K \\alpha_j^t) + n\\psi(\\sum_{j=1}^K \\alpha_j)-n\\psi(\\alpha_k)\n",
    "$$\n",
    "$$\n",
    "[H(\\alpha, \\alpha^t)]_{k,k'} = n\\phi(\\sum_{j=1}^K \\alpha_j ) - n\\phi(\\alpha_k)\\pmb 1\\left\\{k=k'\\right\\}\n",
    "$$\n",
    "where $\\phi(x) = \\psi'(x)$."
   ]
  },
  {
   "cell_type": "markdown",
   "id": "fc7b8427-7569-4680-9700-9e045f10520d",
   "metadata": {},
   "source": [
    "$$\n",
    "\\\\\n",
    "$$"
   ]
  },
  {
   "cell_type": "markdown",
   "id": "26f49392-b05d-490b-a224-c4dcba653186",
   "metadata": {},
   "source": [
    "We can not guatantee that the EM algorithm converges to MLE $\\hat{\\alpha}$.\n",
    "First, the loglikelihood $\\log P(\\mathcal{D}; \\alpha)$ is not concave. Moreover, in M-step, the $Q(\\alpha, \\alpha^t)$ is not concave (noting that $\\log \\Gamma(\\cdot)$ is convex and the objective function invloves evaluating $n\\log \\Gamma(\\sum_{k=1}^K\\alpha_k) - n\\sum_{k=1}^K \\log\\Gamma(\\alpha_k)$), either, thus we have to use other numerical method (e.g. Newton method) to solve it."
   ]
  },
  {
   "cell_type": "markdown",
   "id": "52871c3d-722d-452b-a728-42791bf3029b",
   "metadata": {},
   "source": [
    "#### (b)"
   ]
  },
  {
   "cell_type": "markdown",
   "id": "482c6702-be81-43b0-b685-6b29956797c9",
   "metadata": {},
   "source": [
    "We follow the same procedure as (a). Denote $\\beta = [\\beta_1, \\cdots, \\beta_K]$. Then $\\alpha_{i,j} = \\exp(\\beta_j^Tx_i)=\\exp(x_i^T\\beta_j)$"
   ]
  },
  {
   "cell_type": "markdown",
   "id": "3cae2cab-12d9-45b9-abbb-3d65caba6fc8",
   "metadata": {},
   "source": [
    "$$\n",
    "\\hat{\\beta}=\\arg\\max_\\beta \\log P(\\mathcal{D};\\beta)\n",
    "$$"
   ]
  },
  {
   "cell_type": "markdown",
   "id": "b38e6b25-a97d-433e-96be-eea490b27f1e",
   "metadata": {},
   "source": [
    "1\\. Derive the complete-data loglikelihood:\n",
    "$$\n",
    "\\log P(\\mathcal{D}, \\pmb \\mu;\\beta) = \\sum_{i=1}^n \\log P(\\pmb y_i |\\pmb \\mu_i) + \\sum_{i=1}^n \\log P(\\pmb \\mu_i;\\beta)\\\\\n",
    "=\\sum_{i=1}^n \\left\\{\n",
    "\\sum_{k=1}^K y_{i,k} \\log \\mu_{i,k}+\\log \\binom{N}{y_{i,1} \\cdots y_{i,K}}\n",
    "+\n",
    "\\sum_{k=1}^K (\\alpha_{i,k}-1)\\log \\mu_{i,k} + \\log \\frac{\\Gamma(\\sum_{k=1}^K \\alpha_{i,k})}{\\prod_{k=1}^K\\Gamma(\\alpha_{i,k})}\n",
    "\\right\\}\n",
    "$$"
   ]
  },
  {
   "cell_type": "markdown",
   "id": "61eacecd-fa28-458c-85de-488c0e95610c",
   "metadata": {},
   "source": [
    "2\\. E-step: Denote by $\\beta^t$ the $t$-th step estimation.\n",
    "$$\n",
    "Q(\\beta, \\beta^t)=\n",
    "\\mathbb{E}_{\\pmb \\mu|\\mathcal{D}, \\alpha^t}\\left[\\log P(\\mathcal{D}, \\pmb\\mu; \\beta)\\right]\\\\\n",
    "=\\sum_{i=1}^n \\left\\{\n",
    "\\mathbb{E}_{\\pmb \\mu_i|\\pmb y_i;\\alpha_i^t}\\left[\\sum_{k=1}^K y_{i,k} \\log \\mu_{i,k}\\right]+\\log \\frac{N!}{y_{i,1}!\\cdots, y_{i,K}!}\n",
    "+\\mathbb{E}_{\\pmb \\mu_i|\\pmb y_i;\\alpha_i^t}\\left[\n",
    "\\sum_{k=1}^K (\\alpha_{i,k}-1)\\log \\mu_{i,k} \\right]+  \\log \\frac{\\Gamma(\\sum_{k=1}^K \\alpha_{i,k})}{\\prod_{k=1}^K\\Gamma(\\alpha_{i,k})}\n",
    "\\right\\}\n",
    "$$\n",
    "where \n",
    "$$\n",
    "\\pmb \\mu|\\pmb y; \\alpha\\sim \\text{Dir}(\\pmb \\mu; \\alpha + \\pmb y).\n",
    "$$\n",
    "Use the notation digamma function:\n",
    "$$\n",
    "\\psi(x) = \\frac{\\Gamma'(x)}{\\Gamma(x)},\n",
    "$$\n",
    "we can futher simplify $Q(\\beta, \\beta^t)$:"
   ]
  },
  {
   "cell_type": "markdown",
   "id": "9b052bda-f412-472d-880c-5bc9cb484bd1",
   "metadata": {},
   "source": [
    "$$\n",
    "Q(\\beta, \\beta^t) = \\sum_{i=1}^n \\log \\binom{N}{y_{i,1} \\cdots y_{i,K}} + \\sum_{i=1}^n \\sum_{k=1}^K(y_{i,k}+\\alpha_{i,k} -1)\n",
    "\\left[\n",
    "\\psi(y_{i,k} + \\alpha_{i,k}^t) \n",
    "- \\psi(N+\\sum_{j=1}^K\\alpha_{i,j}^t)  \n",
    "\\right] \n",
    "+ \\sum_{i=1}^n\\log \\Gamma(\\sum_{k=1}^K\\alpha_{i,k}) - \\sum_{i=1}^n\\sum_{k=1}^K \\log\\Gamma(\\alpha_{i,k})\n",
    "$$"
   ]
  },
  {
   "cell_type": "markdown",
   "id": "5bd5b9da-d679-4ad4-9177-1759dd5e5369",
   "metadata": {},
   "source": [
    "3\\. M-step: \n",
    "$$\n",
    "\\beta^{t+1} = \\arg\\max_{\\beta} Q(\\beta, \\beta^t)\n",
    "$$\n",
    "We will apply Newton's method to solve it.\n",
    "$$\n",
    "\\beta(m+1)= \\beta(m) - H^{-1}(\\beta(m), \\beta^t) \\cdot \\nabla Q(\\beta(m), \\beta^t)\n",
    "$$"
   ]
  },
  {
   "cell_type": "markdown",
   "id": "2cebf9c9-47d5-46a2-931e-44853cad7021",
   "metadata": {},
   "source": [
    "4\\. Newton's method. Recall the definition of our $\\beta = [\\beta_1, \\cdots, \\beta_K]$, (for convenience, a little bit confusing) and $\\alpha_{i,k} = \\exp(\\beta_k^Tx_i)=\\exp(x_i^T\\beta_k)$"
   ]
  },
  {
   "cell_type": "markdown",
   "id": "78820cd8-cb72-4078-b7fa-76b297730b2d",
   "metadata": {},
   "source": [
    "$$\n",
    "\\frac{\\partial Q(\\beta, \\beta^t)}{\\partial \\beta_{k, p}} = \\sum_{i=1}^n \n",
    "% \\langle\\frac{\\partial Q}{\\partial \\alpha_{i}}, \\frac{\\partial \\alpha_{i}}{\\partial \\beta_j}\\rangle\n",
    "\\sum_{k'=1}^K \\frac{\\partial Q}{\\partial \\alpha_{i,k'}}\\frac{\\partial \\alpha_{i,k'}}{\\partial \\beta_{k,p}}\n",
    "=\n",
    "\\sum_{i=1}^n  \\frac{\\partial Q}{\\partial \\alpha_{i,k}}\\frac{\\partial \\alpha_{i,k}}{\\partial \\beta_{k,p}}\n",
    ":=\\sum_{i=1}^n f_{i,k} g_{i,k,p}\n",
    "$$\n",
    "$$\n",
    "f_{i,k}=\\frac{\\partial Q}{\\partial \\alpha_{i,k}} =  \\psi(y_{i,k} + \\alpha_{i,k}^t) - \\psi(N+\\sum_{k'=1}^K \\alpha_{i,k'}^t) + \\psi(\\sum_{k'=1}^K \\alpha_{i,k'})-\\psi(\\alpha_{i,k})\n",
    "$$\n",
    "$$\n",
    "g_{i,k,p}=\\frac{\\partial \\alpha_{i,k}}{\\partial \\beta_{k,p}} = e^{x_i^T\\beta_k}\\cdot x_{i,p}\n",
    "$$"
   ]
  },
  {
   "cell_type": "markdown",
   "id": "c27b66e2-cc8e-499d-8871-668d6a1c3b87",
   "metadata": {},
   "source": [
    "Define $\\phi(x) = \\psi'(x)$."
   ]
  },
  {
   "cell_type": "markdown",
   "id": "8a347d60-3a64-40b5-8b02-3d8302551653",
   "metadata": {},
   "source": [
    "$$\n",
    "\\frac{\\partial^2 Q(\\beta, \\beta^t)}{\\partial \\beta_{k, p}\\partial \\beta_{k', p'}}=\\sum_{i=1}^n \\frac{\\partial f_{i,k}}{\\partial \\beta_{k',p'}}g_{i,k,p}+f_{i,k}\\frac{\\partial g_{i,k,p}}{\\partial \\beta_{k',p'}}\n",
    "$$"
   ]
  },
  {
   "cell_type": "markdown",
   "id": "2736ccad-471b-448e-8eb5-27bd2e838fec",
   "metadata": {},
   "source": [
    "$$\n",
    "\\frac{\\partial f_{i,k}}{\\partial \\beta_{k',p'}} = \\phi(\\sum_{j=1}^K \\alpha_{i,j}) g_{i, k', p'} - \\phi(\\alpha_{i,k}) g_{i,k,p'} \\pmb 1\\left\\{k=k'\\right\\}\n",
    "$$"
   ]
  },
  {
   "cell_type": "markdown",
   "id": "139aba23-bee9-46a7-a8ab-49044a1fdb1d",
   "metadata": {},
   "source": [
    "$$\n",
    "\\frac{\\partial g_{i,k,p}}{\\partial \\beta_{k',p'}} = x_{i,p}g_{i,k,p} \\pmb 1\\left\\{k=k'\\right\\}\n",
    "$$"
   ]
  },
  {
   "cell_type": "markdown",
   "id": "9d9870e9-a3f3-42df-b956-156e64317438",
   "metadata": {},
   "source": [
    "After writing down this version of EM, we can find that it still can not efficiently generate the solution. \n",
    "The main reason is that we are facing at solving a non-convex optimization problem in the M-step. Calling Netwon-Raphson method will inevitably suffer from Hessian divergence and local optimum. Even we implement firs-order method, the learning rate need to be carefully tuned by a line search."
   ]
  },
  {
   "cell_type": "markdown",
   "id": "82ceed94-6551-42e1-abb6-e8583535e288",
   "metadata": {},
   "source": [
    "A more efficient algirthm is published by Y. Zhang, H. Zhou, W. Sun, Regression Models for Multivariate Count Data. \n",
    "Instead of using standard EM, they follow a minimization-maximization  priniciple and derive a lower bound of log-likelihood."
   ]
  },
  {
   "cell_type": "markdown",
   "id": "5cf53777-4c8c-4405-847d-8bc01e6f9431",
   "metadata": {},
   "source": [
    "$$\n",
    "\\log P(\\beta) =\n",
    "\\sum_{i=1}^n\\left\\{\n",
    "\\log \\binom{N}{y_{i,1} \\cdots y_{i,K}} + \\sum_{k=1}^K \\sum_{z=0}^{y_{i,k}\\ -1}\\log(\\alpha_{i,k} + z) \n",
    "- \\sum_{z=0}^{N-1} \\log(\\alpha_{i,1}\\cdots\\alpha_{i,K} + z)\n",
    "\\right\\}\n",
    "$$"
   ]
  },
  {
   "cell_type": "markdown",
   "id": "b7d32aaa-b5bd-4f5e-9096-942f8b8936f3",
   "metadata": {},
   "source": [
    "Using Jensen's inequality and supporting hyperplane inequality yields the lower bound $g(\\beta, \\beta^t)$\n",
    "$$\n",
    "\\log P(\\beta^{t+1}) \\geq g(\\beta, \\beta^t) \\equiv \\sum_{i=1}^n \\sum_{k=1}^K\\sum_{z=0}^{y_{i,k}\\ -1} \\frac{e^{x_i^T\\beta_k^t}}{e^{x_i^T\\beta_k^t}+z}x_i^T\\beta_k - \\sum_{i=1}^n \\sum_{k=1}^K\\sum_{z=0}^{N\\ -1} \\frac{e^{x_i^T\\beta_k^t}}{\\sum_{k'}e^{x_i^T\\beta_{k'}^t}+z} + \\text{const}\n",
    "$$"
   ]
  },
  {
   "cell_type": "markdown",
   "id": "2c4287be-f210-49da-a6bb-375a3a2b2ee6",
   "metadata": {},
   "source": [
    "It remains to maximize $g(\\beta, \\beta^t)$. This reduces to $k$ independent weighted Poisson regressions with weights and responses as follows:\n",
    "$$\n",
    "w_{i,k}^t = \\sum_{z=0}^{N-1} (\\sum_{k'}e^{x_i^T\\beta_{k'}^t}+z)^{-1}\n",
    "$$\n",
    "$$\n",
    "y_{i,k}^t =(w_{i,k}^t)^{-1}\\left(\n",
    "\\sum_{z=0}^{y_{i,k}\\ -1} \\frac{e^{x_i^T\\beta_k^t}}{e^{x_i^T\\beta_k^t}+z}\n",
    "\\right)\n",
    "$$"
   ]
  },
  {
   "cell_type": "markdown",
   "id": "27b23ecb-c0d3-43f0-bf74-4ef2c3688202",
   "metadata": {},
   "source": [
    "#### (c): Coding Part"
   ]
  },
  {
   "cell_type": "code",
   "execution_count": 1,
   "id": "71fcab73-56c8-4098-8695-7af829e3fd54",
   "metadata": {},
   "outputs": [],
   "source": [
    "import numpy as np\n",
    "import matplotlib.pyplot as plt\n",
    "import pandas as pd\n",
    "from sklearn import linear_model"
   ]
  },
  {
   "cell_type": "code",
   "execution_count": 2,
   "id": "c0c3f791-ebfd-4ace-835d-0ae0f7775edb",
   "metadata": {},
   "outputs": [],
   "source": [
    "df = pd.read_csv(\"../data/data.txt\", delimiter=' ')\n",
    "Y = df[['Y1', 'Y2', 'Y3', 'Y4']].values\n",
    "X = df[['X1', 'X2', 'X3', 'X4', 'X5']].values\n",
    "K = 4 \n",
    "N = 50 \n",
    "p = 5\n",
    "B = np.ones((p, K))"
   ]
  },
  {
   "cell_type": "code",
   "execution_count": 3,
   "id": "63945daf-42a4-45f1-beea-9acf1de83611",
   "metadata": {},
   "outputs": [],
   "source": [
    "class DDM:\n",
    "    '''\n",
    "    Dirichlet Multinomial Regression\n",
    "    '''\n",
    "    def __init__(self, X, Y):\n",
    "        self.X = X\n",
    "        self.Y = Y\n",
    "        self.n, self.p = X.shape\n",
    "        self.K = Y.shape[1]\n",
    "        self.N = np.sum(Y[0,:])\n",
    "    \n",
    "    def loglikelihood(self, B):\n",
    "        # without calculating the constant\n",
    "        N = self.N \n",
    "        n = self.n\n",
    "        K = self.K\n",
    "        alpha = np.zeros((n, K))\n",
    "        for i in range(n):\n",
    "            for j in range(K):\n",
    "                alpha[i, j] = np.exp(X[i,:].dot(B[:, j]))\n",
    "        alpha_is = alpha.sum(axis=1)\n",
    "        first_term = 0.0\n",
    "        for i in range(n):\n",
    "            for k in range(K):\n",
    "                for z in range(Y[i,k]):\n",
    "                    first_term += np.log(alpha[i,k] + z)\n",
    "        second_term = 0.0\n",
    "        for i in range(n):\n",
    "            for z in range(N):\n",
    "                second_term += np.log(alpha_is[i] + z) \n",
    "        return first_term - second_term\n",
    "    \n",
    "    def PoissonRegression(self, Bt):\n",
    "        n = self.n\n",
    "        K = self.K \n",
    "        N = self.N \n",
    "        X = self.X\n",
    "        \n",
    "        \n",
    "        alpha = np.zeros((n, K))\n",
    "        for i in range(n):\n",
    "            for j in range(K):\n",
    "                alpha[i, j] = np.exp(X[i,:].dot(Bt[:, j]))\n",
    "        alpha_is = alpha.sum(axis=1)\n",
    "        \n",
    "        w = np.zeros((n, K))\n",
    "        for i in range(n):\n",
    "            for k in range(K):\n",
    "                for z in range(N):\n",
    "                    w[i,k] += 1.0/(alpha_is[i] + z)\n",
    "                    \n",
    "        response = np.zeros((n, K))\n",
    "        for i in range(n):\n",
    "            for k in range(K):\n",
    "                tmp = 0.0 \n",
    "                for z in range(self.Y[i,k]):\n",
    "                    tmp += alpha[i,k]/(alpha[i,k] + z)\n",
    "                response[i,k] = tmp/w[i,k]\n",
    "        \n",
    "        B = np.zeros((self.p, self.K))\n",
    "        for k in range(K):\n",
    "            clf = linear_model.PoissonRegressor(alpha=0, fit_intercept=False)\n",
    "            clf.fit(X, response[:,k], sample_weight=w[:,k])\n",
    "            B[:,k] = clf.coef_\n",
    "        # data = pd.DataFrame({'X1': X[:,0],'X2': X[:,1],'X3': X[:,2],'X4': X[:,3],'X5': X[:,4],\\\n",
    "        #               'y1': response[:,0], 'y2': response[:,1], 'y3': response[:,2], 'y4': response[:,3]})\n",
    "        # glm = smf.glm(\"y1 ~ X1 + X2 + X3 + X4 + X5\", data=data, family=sm.families.Poisson(), freq_weights=w[:,0])\n",
    "        # res = glm.fit()\n",
    "        # return clf, res \n",
    "        return B"
   ]
  },
  {
   "cell_type": "code",
   "execution_count": 4,
   "id": "bf462890-755b-4982-a208-f6f070fdfb86",
   "metadata": {},
   "outputs": [],
   "source": [
    "model = DDM(X, Y)\n",
    "B = np.ones((5, 4))\n",
    "llhs = []\n",
    "for i in range(330):\n",
    "    llhs.append(model.loglikelihood(B))\n",
    "    B = model.PoissonRegression(B)"
   ]
  },
  {
   "cell_type": "code",
   "execution_count": 5,
   "id": "3fa5188e-71dc-4e0c-96f3-019d5258217e",
   "metadata": {},
   "outputs": [
    {
     "data": {
      "image/png": "[encoded data removed]",
      "text/plain": [
       "<Figure size 1080x360 with 2 Axes>"
      ]
     },
     "metadata": {
      "needs_background": "light"
     },
     "output_type": "display_data"
    },
    {
     "name": "stdout",
     "output_type": "stream",
     "text": [
      "Estimated beta = \n",
      "[[-0.13109891 -0.14762396 -0.08434295 -0.08748261]\n",
      " [ 0.04789428  0.16045251  0.15670318  0.02867132]\n",
      " [ 1.31390373  1.03045748 -0.42402803  0.08309538]\n",
      " [ 1.1107557   0.94583784 -0.70946293  0.04390626]\n",
      " [ 1.21987134  0.96691712 -0.80819622 -0.07140339]]\n"
     ]
    }
   ],
   "source": [
    "fig, ax = plt.subplots(1,2,figsize=(15, 5))\n",
    "ax[0].plot(llhs)\n",
    "ax[0].set_ylabel('Log-likelihood', fontsize=14)\n",
    "ax[0].set_xlabel('Iteration', fontsize=14)\n",
    "ax[0].tick_params(labelsize=12)\n",
    "ax[0].set_xlim(-10,330)\n",
    "\n",
    "ax[1].plot(max(llhs)-llhs)\n",
    "ax[1].set_ylabel('Convergence', fontsize=14)\n",
    "ax[1].set_xlabel('Iteration', fontsize=14)\n",
    "ax[1].tick_params(labelsize=12)\n",
    "ax[1].set_yscale('log')\n",
    "ax[1].set_xlim(0,330)\n",
    "plt.show()\n",
    "print('Estimated beta = ')\n",
    "print(B)"
   ]
  },
  {
   "cell_type": "code",
   "execution_count": null,
   "id": "65122eea-7ca0-4982-88e0-b1b9a613afb1",
   "metadata": {},
   "outputs": [],
   "source": []
  }
 ],
 "metadata": {
  "kernelspec": {
   "display_name": "Python 3 (ipykernel)",
   "language": "python",
   "name": "python3"
  },
  "language_info": {
   "codemirror_mode": {
    "name": "ipython",
    "version": 3
   },
   "file_extension": ".py",
   "mimetype": "text/x-python",
   "name": "python",
   "nbconvert_exporter": "python",
   "pygments_lexer": "ipython3",
   "version": "3.7.11"
  }
 },
 "nbformat": 4,
 "nbformat_minor": 5
}
