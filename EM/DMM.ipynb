{
 "cells": [
  {
   "cell_type": "markdown",
   "id": "f5aab693-b422-48e3-903e-3e3cbd58bff9",
   "metadata": {},
   "source": [
    "### Problem 2"
   ]
  },
  {
   "cell_type": "markdown",
   "id": "aa3443a8-4859-4656-af89-b9cde3d1b2d7",
   "metadata": {},
   "source": [
    "#### (a)"
   ]
  },
  {
   "cell_type": "markdown",
   "id": "544370e6-9b39-42c7-afc9-e93c72f0f841",
   "metadata": {},
   "source": [
    "Denote latent variable $\\{ \\pmb\\mu_1, \\cdots, \\pmb\\mu_n\\}$ by $Z$.\n",
    "$$\n",
    "\\hat{\\alpha} = \\arg\\max_\\alpha \\log P(\\mathcal{D};\\alpha) =\\arg\\max_{\\alpha}\\sum_{i=1}^n \\log p(\\pmb y_i;\\alpha)\n",
    "$$"
   ]
  },
  {
   "cell_type": "markdown",
   "id": "72e17945-9609-44bc-a34d-1fb77971c098",
   "metadata": {},
   "source": [
    "$$\n",
    "\\log p(\\pmb y;\\alpha) = \\int p(\\pmb y|\\pmb \\mu; \\alpha) p(\\pmb \\mu;\\alpha)d\\pmb \\mu\\\\\n",
    "=\\binom{N}{y_1 \\cdots y_K}\\frac{\n",
    "\\prod_{k=1}^K\\Gamma(\\alpha_k+y_k)\n",
    "}{\\Gamma(\\alpha_1+\\cdots\\alpha_K+N)}\\cdot \\frac{\\Gamma(\\alpha_1+\\cdots\\alpha_K)}{\n",
    "\\prod_{k=1}^K\\Gamma(\\alpha_k)\n",
    "}\n",
    "$$"
   ]
  },
  {
   "cell_type": "markdown",
   "id": "1b9e72c7-0635-4221-b752-4878a408eb76",
   "metadata": {},
   "source": [
    "$$\n",
    "\\log P(\\mathcal{D};\\alpha) =\n",
    "\\sum_{i=1}^n\\left\\{\n",
    "\\log \\binom{N}{y_{i,1} \\cdots y_{i,K}} + \\sum_{k=1}^K \\sum_{z=0}^{y_{i,k}\\ -1}\\log(\\alpha_k + z) \n",
    "- \\sum_{z=0}^{N-1} \\log(\\alpha_1\\cdots\\alpha_K + z)\n",
    "\\right\\}\n",
    "$$"
   ]
  },
  {
   "cell_type": "markdown",
   "id": "d2891aa4-69d7-4b18-b07e-f8c030faea16",
   "metadata": {},
   "source": [
    "1. Derive the complete-data loglikelihood:\n",
    "$$\n",
    "\\log P(\\mathcal{D}, \\pmb \\mu;\\alpha) = \\log P(\\mathcal{D}|\\pmb \\mu;\\alpha) + \\log P(\\pmb \\mu;\\alpha)\\\\\n",
    "=\\sum_{i=1}^n \\log P(\\pmb y_i |\\pmb \\mu_i;\\alpha) + \\sum_{i=1}^n \\log P(\\pmb \\mu_i;\\alpha)\\\\\n",
    "=\\sum_{i=1}^n \\left\\{\n",
    "\\sum_{k=1}^K y_{i,k} \\log \\mu_{i,k}+\\log \\binom{N}{y_{i,1} \\cdots y_{i,K}}\n",
    "+\n",
    "\\sum_{k=1}^K (\\alpha_{k}-1)\\log \\mu_{i,k} + \\log \\frac{\\Gamma(\\sum_{k=1}^K \\alpha_k)}{\\prod_{k=1}^K\\Gamma(\\alpha_k)}\n",
    "\\right\\}\n",
    "$$"
   ]
  },
  {
   "cell_type": "markdown",
   "id": "15b3b200-afd9-4207-8c16-b42cd36f9ea6",
   "metadata": {},
   "source": [
    "2. E-step: Denote by $\\alpha^t$ the $t$-th step estimation.\n",
    "$$\n",
    "Q(\\alpha, \\alpha^t)=\n",
    "\\mathbb{E}_{\\pmb \\mu|\\mathcal{D}, \\alpha^t}\\left[\\log P(\\mathcal{D}, \\pmb\\mu; \\alpha)\\right]\\\\\n",
    "=\\sum_{i=1}^n \\left\\{\n",
    "\\mathbb{E}_{\\pmb \\mu_i|\\pmb y_i;\\alpha^t}\\left[\\sum_{k=1}^K y_{i,k} \\log \\mu_{i,k}\\right]+\\log \\frac{N!}{y_{i,1}!\\cdots, y_{i,K}!}\n",
    "+\\mathbb{E}_{\\pmb \\mu_i|\\pmb y_i;\\alpha^t}\\left[\n",
    "\\sum_{k=1}^K (\\alpha_{k}-1)\\log \\mu_{i,k} \\right]+  \\log \\frac{\\Gamma(\\sum_{k=1}^K \\alpha_k)}{\\Gamma(\\alpha_1)\\cdots\\Gamma(\\alpha_K)}\n",
    "\\right\\}\\\\\n",
    "$$\n",
    "where \n",
    "$$\n",
    "\\pmb \\mu|\\pmb y; \\alpha\\sim \\text{Dir}(\\pmb \\mu; \\alpha + \\pmb y).\n",
    "$$\n",
    "Use the notation digamma function:\n",
    "$$\n",
    "\\psi(x) = \\frac{\\Gamma'(x)}{\\Gamma(x)},\n",
    "$$\n",
    "we can futher simplify $Q(\\alpha, \\alpha^t)$:\n",
    "$$\n",
    "Q(\\alpha, \\alpha^t) = \\sum_{i=1}^n \\log \\binom{N}{y_{i,1} \\cdots y_{i,K}} + \\sum_{i=1}^n \\sum_{k=1}^K(y_{i,k}+\\alpha_k -1)\n",
    "% \\left[\n",
    "\\psi(y_{i,k} + \\alpha_k^t) \n",
    "% + \\psi(N+\\alpha_1^t+\\cdots\\alpha_K^t)  \n",
    "% \\right] \n",
    "-n(N+ \\sum_{k=1}^K\\alpha_k-K)\\psi(N+\\sum_{k=1}^K\\alpha_k^t)\n",
    "+ n\\log \\Gamma(\\sum_{k=1}^K\\alpha_k) - n\\sum_{k=1}^K \\log\\Gamma(\\alpha_k)\n",
    "$$"
   ]
  },
  {
   "cell_type": "markdown",
   "id": "b036bc6c-ccda-4842-b331-2b23a25db34e",
   "metadata": {},
   "source": [
    "3. M-step: \n",
    "$$\n",
    "\\alpha^{t+1} = \\arg\\max_{\\alpha} Q(\\alpha, \\alpha^t)\n",
    "$$\n",
    "Note that $\\log\\Gamma(\\cdot)$ is convex, $Q$ is non-concave, \n",
    "thus this non-concave maximization problem cannot be solved in closed form.\n",
    "$$ \\\\ $$\n",
    "We shall apply Newton's method to solve it. Denote by $\\alpha(m)$ the $m$-th iteration value in Newton's method. \n",
    "$$\n",
    "\\alpha(m+1)= \\alpha(m) - H^{-1}(\\alpha(m), \\alpha^t) \\cdot \\nabla Q(\\alpha(m), \\alpha^t).\n",
    "$$\n",
    "where \n",
    "$$\n",
    "[\\nabla Q(\\alpha, \\alpha^t)]_k = \\sum_{i=1}^n \\psi(y_{i,k} + \\alpha_k^t) - n\\psi(N+\\sum_{j=1}^K \\alpha_j^t) + n\\psi(\\sum_{j=1}^K \\alpha_j)-n\\psi(\\alpha_k)\n",
    "$$\n",
    "$$\n",
    "[H(\\alpha, \\alpha^t)]_{k,k'} = n\\phi(\\sum_{j=1}^K \\alpha_j ) - n\\phi(\\alpha_k)\\pmb 1\\left\\{k=k'\\right\\}\n",
    "$$\n",
    "where $\\phi(x) = \\psi'(x)$."
   ]
  },
  {
   "cell_type": "markdown",
   "id": "fc7b8427-7569-4680-9700-9e045f10520d",
   "metadata": {},
   "source": [
    "$$\n",
    "\\\\\n",
    "$$"
   ]
  },
  {
   "cell_type": "markdown",
   "id": "26f49392-b05d-490b-a224-c4dcba653186",
   "metadata": {},
   "source": [
    "We can not guatantee that the EM algorithm converges to MLE $\\hat{\\alpha}$.\n",
    "First, the loglikelihood $\\log P(\\mathcal{D}; \\alpha)$ is not concave. Moreover, in M-step, the $Q(\\alpha, \\alpha^t)$ is not concave (noting that $\\log \\Gamma(\\cdot)$ is convex and the objective function invloves evaluating $n\\log \\Gamma(\\sum_{k=1}^K\\alpha_k) - n\\sum_{k=1}^K \\log\\Gamma(\\alpha_k)$), either, thus we have to use other numerical method (e.g. Newton method) to solve it."
   ]
  },
  {
   "cell_type": "markdown",
   "id": "52871c3d-722d-452b-a728-42791bf3029b",
   "metadata": {},
   "source": [
    "#### (b)"
   ]
  },
  {
   "cell_type": "markdown",
   "id": "482c6702-be81-43b0-b685-6b29956797c9",
   "metadata": {},
   "source": [
    "We follow the same procedure as (a). Denote $\\beta = [\\beta_1, \\cdots, \\beta_K]$. Then $\\alpha_{i,j} = \\exp(\\beta_j^Tx_i)=\\exp(x_i^T\\beta_j)$"
   ]
  },
  {
   "cell_type": "markdown",
   "id": "3cae2cab-12d9-45b9-abbb-3d65caba6fc8",
   "metadata": {},
   "source": [
    "$$\n",
    "\\hat{\\beta}=\\arg\\max_\\beta \\log P(\\mathcal{D};\\beta)\n",
    "$$"
   ]
  },
  {
   "cell_type": "markdown",
   "id": "b38e6b25-a97d-433e-96be-eea490b27f1e",
   "metadata": {},
   "source": [
    "1. Derive the complete-data loglikelihood:\n",
    "$$\n",
    "\\log P(\\mathcal{D}, \\pmb \\mu;\\beta) = \\sum_{i=1}^n \\log P(\\pmb y_i |\\pmb \\mu_i) + \\sum_{i=1}^n \\log P(\\pmb \\mu_i;\\beta)\\\\\n",
    "=\\sum_{i=1}^n \\left\\{\n",
    "\\sum_{k=1}^K y_{i,k} \\log \\mu_{i,k}+\\log \\binom{N}{y_{i,1} \\cdots y_{i,K}}\n",
    "+\n",
    "\\sum_{k=1}^K (\\alpha_{i,k}-1)\\log \\mu_{i,k} + \\log \\frac{\\Gamma(\\sum_{k=1}^K \\alpha_{i,k})}{\\prod_{k=1}^K\\Gamma(\\alpha_{i,k})}\n",
    "\\right\\}\n",
    "$$"
   ]
  },
  {
   "cell_type": "markdown",
   "id": "61eacecd-fa28-458c-85de-488c0e95610c",
   "metadata": {},
   "source": [
    "2. E-step: Denote by $\\beta^t$ the $t$-th step estimation.\n",
    "$$\n",
    "Q(\\beta, \\beta^t)=\n",
    "\\mathbb{E}_{\\pmb \\mu|\\mathcal{D}, \\alpha^t}\\left[\\log P(\\mathcal{D}, \\pmb\\mu; \\beta)\\right]\\\\\n",
    "=\\sum_{i=1}^n \\left\\{\n",
    "\\mathbb{E}_{\\pmb \\mu_i|\\pmb y_i;\\alpha_i^t}\\left[\\sum_{k=1}^K y_{i,k} \\log \\mu_{i,k}\\right]+\\log \\frac{N!}{y_{i,1}!\\cdots, y_{i,K}!}\n",
    "+\\mathbb{E}_{\\pmb \\mu_i|\\pmb y_i;\\alpha_i^t}\\left[\n",
    "\\sum_{k=1}^K (\\alpha_{i,k}-1)\\log \\mu_{i,k} \\right]+  \\log \\frac{\\Gamma(\\sum_{k=1}^K \\alpha_{i,k})}{\\prod_{k=1}^K\\Gamma(\\alpha_{i,k})}\n",
    "\\right\\}\\\\\n",
    "$$\n",
    "where \n",
    "$$\n",
    "\\pmb \\mu|\\pmb y; \\alpha\\sim \\text{Dir}(\\pmb \\mu; \\alpha + \\pmb y).\n",
    "$$\n",
    "Use the notation digamma function:\n",
    "$$\n",
    "\\psi(x) = \\frac{\\Gamma'(x)}{\\Gamma(x)},\n",
    "$$\n",
    "we can futher simplify $Q(\\beta, \\beta^t)$:\n",
    "$$\n",
    "Q(\\beta, \\beta^t) = \\sum_{i=1}^n \\log \\binom{N}{y_{i,1} \\cdots y_{i,K}} + \\sum_{i=1}^n \\sum_{k=1}^K(y_{i,k}+\\alpha_{i,k} -1)\n",
    "\\left[\n",
    "\\psi(y_{i,k} + \\alpha_{i,k}^t) \n",
    "- \\psi(N+\\sum_{j=1}^K\\alpha_{i,j}^t)  \n",
    "\\right] \n",
    "% -n(N+ \\sum_{k=1}^K\\alpha_k-K)\\psi(N+\\sum_{k=1}^K\\alpha_k^t)\n",
    "+ \\sum_{i=1}^n\\log \\Gamma(\\sum_{k=1}^K\\alpha_{i,k}) - \\sum_{i=1}^n\\sum_{k=1}^K \\log\\Gamma(\\alpha_{i,k})\n",
    "$$"
   ]
  },
  {
   "cell_type": "markdown",
   "id": "5bd5b9da-d679-4ad4-9177-1759dd5e5369",
   "metadata": {},
   "source": [
    "3. M-step: \n",
    "$$\n",
    "\\beta^{t+1} = \\arg\\max_{\\beta} Q(\\beta, \\beta^t)\n",
    "$$\n",
    "We will apply Newton's method to solve it.\n",
    "$$\n",
    "\\beta(m+1)= \\beta(m) - H^{-1}(\\beta(m), \\beta^t) \\cdot \\nabla Q(\\beta(m), \\beta^t).\n",
    "$$"
   ]
  },
  {
   "cell_type": "markdown",
   "id": "2cebf9c9-47d5-46a2-931e-44853cad7021",
   "metadata": {},
   "source": [
    "4. Newton's method. Recall the definition of our $\\beta = [\\beta_1, \\cdots, \\beta_K]$, (for convenience, a little bit confusing) and $\\alpha_{i,k} = \\exp(\\beta_k^Tx_i)=\\exp(x_i^T\\beta_k)$\n",
    "$$\n",
    "\\frac{\\partial Q(\\beta, \\beta^t)}{\\partial \\beta_{k, p}} = \\sum_{i=1}^n \n",
    "% \\langle\\frac{\\partial Q}{\\partial \\alpha_{i}}, \\frac{\\partial \\alpha_{i}}{\\partial \\beta_j}\\rangle\n",
    "\\sum_{k'=1}^K \\frac{\\partial Q}{\\partial \\alpha_{i,k'}}\\frac{\\partial \\alpha_{i,k'}}{\\partial \\beta_{k,p}}\n",
    "=\n",
    "\\sum_{i=1}^n  \\frac{\\partial Q}{\\partial \\alpha_{i,k}}\\frac{\\partial \\alpha_{i,k}}{\\partial \\beta_{k,p}}\n",
    ":=\\sum_{i=1}^n f_{i,k} g_{i,k,p}\n",
    "$$\n",
    "$$\n",
    "f_{i,k}=\\frac{\\partial Q}{\\partial \\alpha_{i,k}} =  \\psi(y_{i,k} + \\alpha_{i,k}^t) - \\psi(N+\\sum_{k'=1}^K \\alpha_{i,k'}^t) + \\psi(\\sum_{k'=1}^K \\alpha_{i,k'})-\\psi(\\alpha_{i,k})\n",
    "$$\n",
    "$$\n",
    "g_{i,k,p}=\\frac{\\partial \\alpha_{i,k}}{\\partial \\beta_{k,p}} = e^{x_i^T\\beta_k}\\cdot x_{i,p}\n",
    "$$\n",
    "$$\n",
    "% [H(\\beta, \\beta^t)]_{k,k'} = n\\phi(\\sum_{k=1}^K \\alpha_k ) - n\\phi(\\alpha_k)\\pmb 1\\left\\{k=k'\\right\\}\n",
    "$$Define $\\phi(x) = \\psi'(x)$."
   ]
  },
  {
   "cell_type": "markdown",
   "id": "8a347d60-3a64-40b5-8b02-3d8302551653",
   "metadata": {},
   "source": [
    "$$\n",
    "\\frac{\\partial^2 Q(\\beta, \\beta^t)}{\\partial \\beta_{k, p}\\partial \\beta_{k', p'}}=\\sum_{i=1}^n \\frac{\\partial f_{i,k}}{\\partial \\beta_{k',p'}}g_{i,k,p}+f_{i,k}\\frac{\\partial g_{i,k,p}}{\\partial \\beta_{k',p'}}\n",
    "$$"
   ]
  },
  {
   "cell_type": "markdown",
   "id": "2736ccad-471b-448e-8eb5-27bd2e838fec",
   "metadata": {},
   "source": [
    "$$\n",
    "\\frac{\\partial f_{i,k}}{\\partial \\beta_{k',p'}} = \\phi(\\sum_{j=1}^K \\alpha_{i,j}) g_{i, k', p'} - \\phi(\\alpha_{i,k}) g_{i,k,p'} \\pmb 1\\left\\{k=k'\\right\\}\n",
    "$$"
   ]
  },
  {
   "cell_type": "markdown",
   "id": "139aba23-bee9-46a7-a8ab-49044a1fdb1d",
   "metadata": {},
   "source": [
    "$$\n",
    "\\frac{\\partial g_{i,k,p}}{\\partial \\beta_{k',p'}} = x_{i,p}g_{i,k,p} \\pmb 1\\left\\{k=k'\\right\\}\n",
    "$$"
   ]
  },
  {
   "cell_type": "code",
   "execution_count": null,
   "id": "310d6c75-d5cb-4802-a0e0-b6a0658ed9b6",
   "metadata": {},
   "outputs": [],
   "source": []
  }
 ],
 "metadata": {
  "kernelspec": {
   "display_name": "Python 3 (ipykernel)",
   "language": "python",
   "name": "python3"
  },
  "language_info": {
   "codemirror_mode": {
    "name": "ipython",
    "version": 3
   },
   "file_extension": ".py",
   "mimetype": "text/x-python",
   "name": "python",
   "nbconvert_exporter": "python",
   "pygments_lexer": "ipython3",
   "version": "3.7.11"
  }
 },
 "nbformat": 4,
 "nbformat_minor": 5
}
