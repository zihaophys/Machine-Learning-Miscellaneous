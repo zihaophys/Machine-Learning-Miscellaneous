{
 "cells": [
  {
   "cell_type": "markdown",
   "id": "861187a4-eaf7-4188-82a8-b5f2a441c464",
   "metadata": {},
   "source": [
    "### Problem 3"
   ]
  },
  {
   "cell_type": "markdown",
   "id": "08beacde-7daa-47f4-a7fd-18b7dd51a93d",
   "metadata": {},
   "source": [
    "$$\n",
    "\\psi_j = (\\hat{\\Gamma}_j, \\hat{\\gamma}_j)^T, \\quad \\mu_j = (\\beta \\gamma_j, \\gamma_j)^T, \\quad \\Sigma_j = Diag(s_{Yj}^2, s_{Xj}^2)\n",
    "$$"
   ]
  },
  {
   "cell_type": "markdown",
   "id": "f3b5e176-4912-4624-a124-6f5569fc3ce7",
   "metadata": {},
   "source": [
    "$$\n",
    "\\psi_j | \\gamma_j \\sim \\mathcal{N}(\\mu_j, \\Sigma_j)\n",
    "$$\n",
    "$$\n",
    "\\gamma_j \\sim \\mathcal{N}(0, \\frac{1}{\\alpha})\n",
    "$$"
   ]
  },
  {
   "cell_type": "markdown",
   "id": "cfe9fc30-617c-45fc-a54c-8ba449ffcfd0",
   "metadata": {},
   "source": [
    "$$\n",
    "\\psi_j \\sim \\mathcal{N} (0, V_j) \\quad \\text{where } V_j = \\Sigma_j + \\frac{1}{\\alpha}\\begin{pmatrix}\n",
    " \\beta^2 & \\beta\\\\\n",
    " \\beta & 1\n",
    "\\end{pmatrix}.\n",
    "$$"
   ]
  },
  {
   "cell_type": "markdown",
   "id": "1b40d8d8-a9c1-4b28-a8df-4a8c5c464285",
   "metadata": {},
   "source": [
    "$$\n",
    "\\gamma_j |\\psi_j \\sim \\mathcal{N}(\\mu_{jr},\\Sigma_{jr})\n",
    "$$"
   ]
  },
  {
   "cell_type": "markdown",
   "id": "100df994-dcf5-4e45-8c20-2f5404c598da",
   "metadata": {},
   "source": [
    "$$\n",
    "\\Sigma_{jr} = (\\alpha + \\beta^2 s_{Yj}^{-2} +s_{Xj}^{-2} )^{-1}, \\quad \\mu_{jr} = \\Sigma_{jr}((\\beta,1) \\Sigma_j^{-1} \\psi_j)\n",
    "$$"
   ]
  },
  {
   "cell_type": "markdown",
   "id": "68cc05e1-2c1f-4cf0-b671-60418da0a0f0",
   "metadata": {},
   "source": [
    "Complete-loglikelihood:"
   ]
  },
  {
   "cell_type": "markdown",
   "id": "bbeb1caf-dc14-426a-aa3a-dc53bc45ec2a",
   "metadata": {},
   "source": [
    "$$\n",
    "\\log P(\\psi_j, \\gamma_j) = -\\frac{1}{2}\\left[\n",
    "\\log(s_{Yj}^2 s_{Xj}^2) + s_{Yj}^{-2} (\\hat{\\Gamma}_j - \\beta \\gamma_j)^2+s_{Xj}^{-2} (\\hat{\\gamma}_j -  \\gamma_j)^2 + \\alpha \\gamma_j^2 - \\log \\alpha\n",
    "\\right]+\\text{const}\n",
    "$$"
   ]
  },
  {
   "cell_type": "markdown",
   "id": "06c8912b-87c7-4e9f-909b-0f2a6314da6e",
   "metadata": {},
   "source": [
    "E-step:"
   ]
  },
  {
   "cell_type": "markdown",
   "id": "d9546134-b525-4c27-9514-5d16547129d5",
   "metadata": {},
   "source": [
    "$$ \n",
    "Q_j(\\alpha, \\beta, \\alpha_t, \\beta_t) = -\\frac{1}{2}\\left[\n",
    "\\log(s_{Yj}^2 s_{Xj}^2) + s_{Yj}^{-2} \\mathbb{E}[(\\hat{\\Gamma}_j - \\beta \\gamma_j)^2]+s_{Xj}^{-2} \\mathbb{E}[(\\hat{\\gamma}_j -  \\gamma_j)^2] + \\alpha \\mathbb{E}[\\gamma_j^2] - \\log \\alpha\n",
    "\\right]+\\text{const}\n",
    "$$"
   ]
  },
  {
   "cell_type": "markdown",
   "id": "756926e5-950d-4994-9934-d1a076ab3680",
   "metadata": {},
   "source": [
    "$$\n",
    "\\mathbb{E}[(\\hat{\\Gamma}_j - \\beta \\gamma_j)^2] = (\\hat{\\Gamma}_j - \\beta \\mu_{jr})^2 + \\beta^2 \\Sigma_{jr} \n",
    "$$"
   ]
  },
  {
   "cell_type": "markdown",
   "id": "d938d94c-6764-4479-9378-a9a239ed2b7a",
   "metadata": {},
   "source": [
    "$$\n",
    "\\mathbb{E}[(\\hat{\\gamma}_j -  \\gamma_j)^2] = (\\hat{\\gamma}_j -  \\mu_{jr})^2 +\\Sigma_{jr} \n",
    "$$"
   ]
  },
  {
   "cell_type": "markdown",
   "id": "87d76ca2-ac61-4679-b4aa-171dbf9af2ad",
   "metadata": {},
   "source": [
    "$$\n",
    "\\mathbb{E}[\\gamma_j^2] = \\mu_{jr}^2 + \\Sigma_{jr}\n",
    "$$"
   ]
  },
  {
   "cell_type": "markdown",
   "id": "4065bf1e-980d-40c1-af02-74f243505abc",
   "metadata": {},
   "source": [
    "M-step:"
   ]
  },
  {
   "cell_type": "markdown",
   "id": "7ef8e6e5-2a54-4a2d-b5e3-0b4eeceea184",
   "metadata": {},
   "source": [
    "$$\n",
    "\\alpha= \\frac{M}{\\sum_{j=1}^M \\mu_{jr}^2 + \\Sigma_{jr}}\n",
    "$$"
   ]
  },
  {
   "cell_type": "markdown",
   "id": "ba5b2e8b-51fc-4612-bbb6-60f33858cd2a",
   "metadata": {},
   "source": [
    "$$\n",
    "\\beta = \\frac{\\sum_{j=1}^M\\mu_{jr}\\hat{\\Gamma}_j s_{Yj}^{-2}}{\\sum_{j=1}^M(\\mu_{jr}^2+\\Sigma_{jr})s_{Yj}^{-2}} \n",
    "$$"
   ]
  },
  {
   "cell_type": "code",
   "execution_count": 1,
   "id": "9e2b6edf-4bb8-4516-ae60-5cffdb812649",
   "metadata": {},
   "outputs": [],
   "source": [
    "import numpy as np\n",
    "import matplotlib.pyplot as plt\n",
    "import pandas as pd"
   ]
  },
  {
   "cell_type": "code",
   "execution_count": 2,
   "id": "95411916-f80f-40c6-a7eb-859f65d52ca8",
   "metadata": {},
   "outputs": [
    {
     "data": {
      "text/html": [
       "<div>\n",
       "<style scoped>\n",
       "    .dataframe tbody tr th:only-of-type {\n",
       "        vertical-align: middle;\n",
       "    }\n",
       "\n",
       "    .dataframe tbody tr th {\n",
       "        vertical-align: top;\n",
       "    }\n",
       "\n",
       "    .dataframe thead th {\n",
       "        text-align: right;\n",
       "    }\n",
       "</style>\n",
       "<table border=\"1\" class=\"dataframe\">\n",
       "  <thead>\n",
       "    <tr style=\"text-align: right;\">\n",
       "      <th></th>\n",
       "      <th>Gammahat</th>\n",
       "      <th>gammahat</th>\n",
       "      <th>s.Y</th>\n",
       "      <th>s.X</th>\n",
       "    </tr>\n",
       "  </thead>\n",
       "  <tbody>\n",
       "    <tr>\n",
       "      <th>0</th>\n",
       "      <td>0.272435</td>\n",
       "      <td>0.988932</td>\n",
       "      <td>0.311167</td>\n",
       "      <td>0.224692</td>\n",
       "    </tr>\n",
       "    <tr>\n",
       "      <th>1</th>\n",
       "      <td>0.219956</td>\n",
       "      <td>0.847039</td>\n",
       "      <td>0.273381</td>\n",
       "      <td>0.213707</td>\n",
       "    </tr>\n",
       "    <tr>\n",
       "      <th>2</th>\n",
       "      <td>0.186353</td>\n",
       "      <td>0.883328</td>\n",
       "      <td>0.318069</td>\n",
       "      <td>0.240153</td>\n",
       "    </tr>\n",
       "    <tr>\n",
       "      <th>3</th>\n",
       "      <td>0.058102</td>\n",
       "      <td>0.990672</td>\n",
       "      <td>0.295207</td>\n",
       "      <td>0.219937</td>\n",
       "    </tr>\n",
       "    <tr>\n",
       "      <th>4</th>\n",
       "      <td>0.922939</td>\n",
       "      <td>-0.891876</td>\n",
       "      <td>0.281997</td>\n",
       "      <td>0.216827</td>\n",
       "    </tr>\n",
       "  </tbody>\n",
       "</table>\n",
       "</div>"
      ],
      "text/plain": [
       "   Gammahat  gammahat       s.Y       s.X\n",
       "0  0.272435  0.988932  0.311167  0.224692\n",
       "1  0.219956  0.847039  0.273381  0.213707\n",
       "2  0.186353  0.883328  0.318069  0.240153\n",
       "3  0.058102  0.990672  0.295207  0.219937\n",
       "4  0.922939 -0.891876  0.281997  0.216827"
      ]
     },
     "execution_count": 2,
     "metadata": {},
     "output_type": "execute_result"
    }
   ],
   "source": [
    "df = pd.read_csv(\"../data/dataa4p3.txt\", delimiter='\\t')\n",
    "df.head()"
   ]
  },
  {
   "cell_type": "code",
   "execution_count": 3,
   "id": "efdeefc8-22ef-4519-ad2b-62d2a2c0b60c",
   "metadata": {},
   "outputs": [],
   "source": [
    "Gammahat = df.Gammahat.values\n",
    "gammahat = df.gammahat.values\n",
    "vy = df['s.Y'].values**2\n",
    "vx = df['s.X'].values**2"
   ]
  },
  {
   "cell_type": "code",
   "execution_count": 4,
   "id": "25278953-3b9d-4840-afae-94e7108b5628",
   "metadata": {},
   "outputs": [],
   "source": [
    "class CausalInference:\n",
    "    \n",
    "    def __init__(self, Gammahat, gammahat, vy, vx):\n",
    "        self.Gammahat = Gammahat\n",
    "        self.gammahat = gammahat\n",
    "        self.vy = vy \n",
    "        self.vx = vx \n",
    "        self.M = len(Gammahat)\n",
    "    \n",
    "    def sigma_jr(self, alpha, beta):\n",
    "        return 1.0/(alpha + beta**2/self.vy + 1.0/self.vx)\n",
    "        \n",
    "    def mu_jr(self, alpha, beta):\n",
    "        return self.sigma_jr(alpha, beta)*(beta*self.Gammahat/self.vy + self.gammahat/self.vx)\n",
    "    \n",
    "    def llh(self, alpha, beta):\n",
    "        tmp = 0.0 \n",
    "        for j in range(self.M):\n",
    "            V_j = np.diag([self.vy[j], self.vx[j]]) + np.array([[beta**2, beta],[beta, 1]])/alpha\n",
    "            sign, logdet = np.linalg.slogdet(V_j)\n",
    "            psi_j = np.array([self.Gammahat[j], self.gammahat[j]])\n",
    "            tmp += (logdet + psi_j.T@np.linalg.inv(V_j)@psi_j)\n",
    "        return -0.5*tmp\n",
    "        \n",
    "    def solve(self, alpha, beta, tol=1e-8):\n",
    "        llhs = []\n",
    "        llhs.append(self.llh(alpha, beta))\n",
    "        while True:\n",
    "            mu_jr = self.mu_jr(alpha, beta)\n",
    "            sigma_jr = self.sigma_jr(alpha, beta)\n",
    "            alpha = self.M/np.sum(mu_jr**2 + sigma_jr)\n",
    "            beta = np.sum(mu_jr * self.Gammahat / self.vy)/np.sum((mu_jr**2 + sigma_jr)/self.vy)\n",
    "            llhs.append(self.llh(alpha, beta))\n",
    "            if np.abs((llhs[-1]-llhs[-2])/llhs[-2]) < tol:\n",
    "                break\n",
    "        return alpha, beta, llhs"
   ]
  },
  {
   "cell_type": "code",
   "execution_count": 5,
   "id": "d33212b0-6cce-4ef6-a70c-dc4bfe84319f",
   "metadata": {},
   "outputs": [],
   "source": [
    "model = CausalInference(Gammahat, gammahat, vy, vx)\n",
    "alpha, beta, llhs = model.solve(1, 1)"
   ]
  },
  {
   "cell_type": "code",
   "execution_count": 6,
   "id": "415ad692-3ab4-426f-bf8e-c6106835a7b0",
   "metadata": {},
   "outputs": [
    {
     "data": {
      "image/png": "[encoded data removed]",
      "text/plain": [
       "<Figure size 360x216 with 1 Axes>"
      ]
     },
     "metadata": {
      "needs_background": "light"
     },
     "output_type": "display_data"
    }
   ],
   "source": [
    "fig = plt.figure(figsize=(5,3))\n",
    "plt.plot(llhs)\n",
    "plt.title('ELBO')\n",
    "plt.show()"
   ]
  },
  {
   "cell_type": "code",
   "execution_count": 7,
   "id": "54efd9fd-fda4-46bb-9347-51278d7a9675",
   "metadata": {},
   "outputs": [
    {
     "data": {
      "text/plain": [
       "(0.8658916531349286, -0.11029546319607683)"
      ]
     },
     "execution_count": 7,
     "metadata": {},
     "output_type": "execute_result"
    }
   ],
   "source": [
    "alpha, beta"
   ]
  },
  {
   "cell_type": "markdown",
   "id": "9acf7efc-52b0-44ab-bf07-c2c2525a56e7",
   "metadata": {},
   "source": [
    "#### $\\beta$ =  -0.11029546319607683.\n",
    "#### Hypothesis Testing"
   ]
  },
  {
   "cell_type": "markdown",
   "id": "11e64cf5-5dd1-4175-8269-ebaa310adab2",
   "metadata": {},
   "source": [
    "We can use LRT to perform statistical test:\n",
    "$$\n",
    "H_0: \\beta = 0 \\quad v.s.\\quad H_1: \\beta \\neq 0\n",
    "$$"
   ]
  },
  {
   "cell_type": "markdown",
   "id": "57ab8b29-41c1-4797-bc9e-0640fd4ee48a",
   "metadata": {},
   "source": [
    "Test statistic \n",
    "$$\n",
    "T = 2(L(\\beta = -0.11029546319607683) - 2L (\\beta = 0))\n",
    "$$"
   ]
  },
  {
   "cell_type": "code",
   "execution_count": 8,
   "id": "c3bb11b5-7aea-4ba9-a910-bc1618bc20c1",
   "metadata": {},
   "outputs": [],
   "source": [
    "T = 2 * (model.llh(alpha, beta) - model.llh(alpha, 0.0))"
   ]
  },
  {
   "cell_type": "code",
   "execution_count": 9,
   "id": "a7747371-9343-4650-af19-2a5d599bea06",
   "metadata": {},
   "outputs": [
    {
     "name": "stdout",
     "output_type": "stream",
     "text": [
      "p-value 0.01206204661068444\n"
     ]
    }
   ],
   "source": [
    "from scipy import stats\n",
    "print(f'p-value {1 - stats.chi2.cdf(T, 1)}')"
   ]
  },
  {
   "cell_type": "markdown",
   "id": "384e0743-26f5-4245-b436-dec087d5cc09",
   "metadata": {},
   "source": [
    "Yes, it will give inflated type I errors."
   ]
  },
  {
   "cell_type": "code",
   "execution_count": 10,
   "id": "2b80abd1-0171-4c45-955e-f2a60dfed8c8",
   "metadata": {},
   "outputs": [],
   "source": [
    "from numpy.random import default_rng\n",
    "rng = default_rng()\n",
    "class SimGen:\n",
    "    def __init__(self, q, M, alpha, beta, vy, vx):\n",
    "        self.q = q \n",
    "        gamma = np.zeros(M)\n",
    "        for j in range(M):\n",
    "            if rng.uniform() > q:\n",
    "                gamma[j] = rng.normal(0, alpha**(-2))\n",
    "        self.gamma_hat = rng.multivariate_normal(gamma, np.diag(vx))\n",
    "        self.Gamma_hat = rng.multivariate_normal(beta*gamma, np.diag(vy))"
   ]
  },
  {
   "cell_type": "code",
   "execution_count": 11,
   "id": "e71140f4-129c-4d3b-901e-5890c4def437",
   "metadata": {},
   "outputs": [
    {
     "name": "stdout",
     "output_type": "stream",
     "text": [
      " \n"
     ]
    }
   ],
   "source": [
    "M = 46\n",
    "nrep = 100\n",
    "ppvalues = []\n",
    "for n in range(nrep):\n",
    "    pvalues = []\n",
    "    for q in np.linspace(0.1, 0.8, 20):\n",
    "        data = SimGen(q, M, alpha, beta, vy, vx)\n",
    "        model = CausalInference(data.Gamma_hat, data.gamma_hat, vy, vx)\n",
    "        a, b, _ = model.solve(0.1, 0.1)\n",
    "        T = 2 * (model.llh(a, b) - model.llh(a, 0))\n",
    "        pvalues.append(1 - stats.chi2.cdf(T, 1))\n",
    "    ppvalues.append(pvalues)\n",
    "print(' ')"
   ]
  },
  {
   "cell_type": "code",
   "execution_count": 12,
   "id": "abd6e224-8ab9-45cd-a9dd-e9e5aeb5e4a4",
   "metadata": {},
   "outputs": [
    {
     "data": {
      "image/png": "[encoded data removed]",
      "text/plain": [
       "<Figure size 432x288 with 1 Axes>"
      ]
     },
     "metadata": {
      "needs_background": "light"
     },
     "output_type": "display_data"
    }
   ],
   "source": [
    "ppvalues = np.array(ppvalues)\n",
    "pvalues = ppvalues.mean(axis=0)\n",
    "plt.plot(np.linspace(0.1, 0.8, 20), pvalues, label='p-value at different q')\n",
    "plt.plot(np.linspace(0.1, 0.8, 20), [0.01206204661068444]*20, label='p-value at q=0')\n",
    "plt.xlabel('q')\n",
    "plt.ylabel('p-value')\n",
    "plt.legend()\n",
    "plt.show()"
   ]
  },
  {
   "cell_type": "markdown",
   "id": "de64f55d-3ab9-4b53-8463-e944270a05e2",
   "metadata": {},
   "source": [
    "As we can see, in the simulation, adding $q$ indeed inflates the type I errors."
   ]
  },
  {
   "cell_type": "code",
   "execution_count": null,
   "id": "807dbada-0870-4367-b9ce-9313bbe48b26",
   "metadata": {},
   "outputs": [],
   "source": []
  }
 ],
 "metadata": {
  "kernelspec": {
   "display_name": "Python 3 (ipykernel)",
   "language": "python",
   "name": "python3"
  },
  "language_info": {
   "codemirror_mode": {
    "name": "ipython",
    "version": 3
   },
   "file_extension": ".py",
   "mimetype": "text/x-python",
   "name": "python",
   "nbconvert_exporter": "python",
   "pygments_lexer": "ipython3",
   "version": "3.7.11"
  }
 },
 "nbformat": 4,
 "nbformat_minor": 5
}
