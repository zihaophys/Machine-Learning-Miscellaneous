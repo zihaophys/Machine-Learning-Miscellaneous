{
 "cells": [
  {
   "cell_type": "markdown",
   "id": "9a3dbf67-68b6-4ea1-91bf-5888b6956307",
   "metadata": {},
   "source": [
    "### Problem 3"
   ]
  },
  {
   "cell_type": "markdown",
   "id": "ee4b7839-4dc3-4af1-8ceb-bbdc89f67f36",
   "metadata": {},
   "source": [
    "#### (a)"
   ]
  },
  {
   "cell_type": "markdown",
   "id": "e65a95fe-a8cd-4c27-a0d4-6fbf0aa692d9",
   "metadata": {},
   "source": [
    "$$\n",
    "y = X_1\\beta_1 + X_2\\beta_2 + e\\\\\n",
    "\\beta_1\\sim\\mathcal{N}(0, \\sigma_1^2 I_{p1})\\\\\n",
    "\\beta_2\\sim\\mathcal{N}(0, \\sigma_2^2 I_{p2})\\\\\n",
    "e\\sim\\mathcal{N}(0, \\sigma_e^2 I_n)\n",
    "$$"
   ]
  },
  {
   "cell_type": "markdown",
   "id": "8cf00952-c276-4510-a118-45652684c0f2",
   "metadata": {},
   "source": [
    "Denote $X_1 = [X_{1,1},\\cdots, X_{1,N} ]^T$ and $X_2 = [X_{2,1},\\cdots, X_{2,N} ]^T$.\n",
    "\n",
    "Denote $\\beta = (\\beta_1^T, \\beta_2^T)^T$ and $X = (X_1, X_2) = [x_1, \\cdots, x_N]^T$. Then we have \n",
    "$$\n",
    "y = X \\beta + e,\n",
    "$$ and \n",
    "$$\n",
    "y_n = \\beta^T x_n + e_n.\n",
    "$$\n",
    "\n",
    "View $\\beta_1$ and $\\beta_2$ as the latent variable and $\\theta$ as the model parameter. For convience, we redefine $\\theta=\\{\\sigma_1^2, \\sigma_2^2, \\sigma_e^2\\}$ by $\\theta=\\{a, b, c\\}$, where \n",
    "$$\n",
    "a = \\frac{1}{\\sigma_1^2}, \\ b = \\frac{1}{\\sigma_2^2}, \\ c = \\frac{1}{\\sigma_e^2}.\n",
    "$$"
   ]
  },
  {
   "cell_type": "markdown",
   "id": "77e9df69-4c5e-4b7b-9a40-b10c98b9b7cc",
   "metadata": {},
   "source": [
    "The goal is to maximize the loglikelihood:\n",
    "$$\n",
    "\\max_\\theta \\log P(y;\\theta) = -\\frac{1}{2}\\left[\n",
    "\\log \\left|\\frac{1}{c}I_n + \\frac{1}{a} X_1X_1^T + \\frac{1}{b} X_2X_2^T\\right| + y^T\\left(\\frac{1}{c}I_n + \\frac{1}{a} X_1X_1^T + \\frac{1}{b} X_2X_2^T\\right)^{-1}y + N\\log 2\\pi\n",
    "\\right]\n",
    "$$"
   ]
  },
  {
   "cell_type": "markdown",
   "id": "bd9677da-42a6-41c6-b994-b5a7fb70d0f2",
   "metadata": {},
   "source": [
    "Note that \n",
    "$$\n",
    "\\beta \\sim\\left(0,  \\begin{pmatrix}\n",
    " a^{-1}I_{p_1} & 0\\\\\n",
    " 0 & b^{-1}I_{p_2}\n",
    "\\end{pmatrix}\\right)\n",
    "$$\n",
    "and \n",
    "$$\n",
    "y|\\beta \\sim (X\\beta, c^{-1}I_n),\n",
    "$$\n",
    "we have \n",
    "$$\n",
    "y \\sim \\mathcal{N}\\left(0, \\frac{1}{c}I_n + \\frac{1}{a} X_1X_1^T + \\frac{1}{b} X_2X_2^T \\right)\n",
    "$$\n",
    "$$\n",
    "\\beta|y \\sim \\mathcal{N}(\\mu_r, \\Sigma_r),\n",
    "$$\n",
    "where \n",
    "$$\n",
    "\\Sigma_r = \\begin{pmatrix}\n",
    " aI_{p_1}+cX_1^TX_1 & cX_1^TX_2\\\\\n",
    " cX_2^TX_1 & bI_{p_2}+cX_2^TX_2\n",
    "\\end{pmatrix}^{-1},\n",
    "$$\n",
    "and \n",
    "$$\n",
    "\\mu_r = c \\Sigma_r X^Ty \n",
    "$$"
   ]
  },
  {
   "cell_type": "markdown",
   "id": "080897ea-3a06-44a6-a26c-ba497b8a130e",
   "metadata": {},
   "source": [
    "Moreover, we can derive:\n",
    "$$\n",
    "\\beta_1|y \\sim \\mathcal{N}(\\mu_1, \\Sigma_1),\n",
    "$$\n",
    "and \n",
    "$$\n",
    "\\beta_2|y \\sim \\mathcal{N}(\\mu_2, \\Sigma_2),\n",
    "$$\n",
    "where\n",
    "$$\n",
    "\\mu_1 = \\Sigma_1 X_1^T(\\frac{1}{b}X_2X_2^T + \\frac{1}{c}I_n)^{-1} y, \\ \\Sigma_1 = [aI_{p_1} +  X_1^T(\\frac{1}{b}X_2X_2^T + \\frac{1}{c}I_n)^{-1}X_1]^{-1},\n",
    "$$\n",
    "$$\n",
    "\\mu_2 = \\Sigma_2 X_2^T(\\frac{1}{a}X_1X_1^T + \\frac{1}{c}I_n)^{-1} y, \\ \\Sigma_2 = [bI_{p_2} +  X_2^T(\\frac{1}{a}X_1X_1^T + \\frac{1}{c}I_n)^{-1}X_2]^{-1}.\n",
    "$$"
   ]
  },
  {
   "cell_type": "markdown",
   "id": "f9e829b3-3e5d-4710-a097-9c98583b3046",
   "metadata": {},
   "source": [
    "We first implement the standard EM:"
   ]
  },
  {
   "cell_type": "markdown",
   "id": "9eb0cf83-4239-4bd2-a1a4-cbf6b7413623",
   "metadata": {},
   "source": [
    "1. Derive the complete-data log likelihood:\n",
    "$$\n",
    " \\log P(y, \\beta;\\theta) = \\log P(y|\\beta_;\\theta) + \\log P(\\beta_1;\\theta) + \\log P(\\beta_2;\\theta)\\\\\n",
    " = \\frac{N}{2}\\log \\frac{c}{2\\pi} - \\frac{c}{2}\\sum_{n=1}^N(y_n - \\beta^T x_{ n})^2  + \\frac{p_1}{2} \\log \\frac{a}{2\\pi} - \\frac{a}{2}\\beta_1^T \\beta_1 + \\frac{p_2}{2} \\log \\frac{b}{2\\pi} - \\frac{b}{2}\\beta_2^T \\beta_2\n",
    "$$"
   ]
  },
  {
   "cell_type": "markdown",
   "id": "9131e23c-c801-4fab-8061-ccd07ed0eb12",
   "metadata": {},
   "source": [
    "2. E-step: \n",
    "Evaluate \n",
    "$$\n",
    "\\mathbb{E}_{\\beta|y;\\theta_{old}}\\left[\\log P(y,\\beta;\\theta)\\right]\n",
    "$$\n",
    "To evaluate above, we first evaluate:\n",
    "$$\n",
    "\\mathbb{E}_{\\beta|y;\\theta}\\left[(y_n - \\beta^T X_{ n})^2 \\right]\n",
    "= y_n^2 - 2y_n \\mu_r^T x_n + \\mathrm{Tr}\\left[x_n x_n^T(\\mu_r \\mu_r^T + \\Sigma_r)\\right]\n",
    "$$\n",
    "Then evaluate:\n",
    "$$\n",
    "\\mathbb{E}_{\\beta|y;\\theta}\\left[ \\beta_1^T\\beta_1\\right] = \\mathbb{E}_{\\beta_1|y;\\theta}\\left[ \\beta_1^T\\beta_1\\right] = \\mu_1^T\\mu_1 + \\mathrm{Tr}[\\Sigma_1],\n",
    "$$\n",
    "and\n",
    "$$\n",
    "\\mathbb{E}_{\\beta|y;\\theta}\\left[ \\beta_2^T\\beta_2\\right] = \\mathbb{E}_{\\beta_2|y;\\theta}\\left[ \\beta_2^T\\beta_2\\right] = \\mu_2^T\\mu_2 + \\mathrm{Tr}[\\Sigma_2].\n",
    "$$"
   ]
  },
  {
   "cell_type": "markdown",
   "id": "b9360f8f-d678-44dd-a7fd-1f51bbddc0a2",
   "metadata": {},
   "source": [
    "3. M-step: Take derivatives w.r.t. $\\theta$ to 0:\n",
    "$$\n",
    "a = \\frac{p_1}{\n",
    "\\mu_1^T\\mu_1 + \\mathrm{Tr}[\\Sigma_1]\n",
    "}\n",
    "$$\n",
    "$$\n",
    "b = \\frac{p_2}{\n",
    "\\mu_2^T\\mu_2 + \\mathrm{Tr}[\\Sigma_2]\n",
    "}\n",
    "$$\n",
    "$$\n",
    "c = \\frac{N}{\n",
    "\\sum_{n=1}^N y_n^2 - 2y_n \\mu_r^T x_n + \\mathrm{Tr}\\left[x_n x_n^T(\\mu_r \\mu_r^T + \\Sigma_r)\\right]\n",
    "}\n",
    "$$"
   ]
  },
  {
   "cell_type": "markdown",
   "id": "c58b5b01-9ca9-4e3f-be20-cb605120b486",
   "metadata": {},
   "source": [
    "Next we implement PX-EM for accelaration:\n",
    "$$\n",
    "y = \\gamma X\\beta + e.\n",
    "$$\n",
    "Define\n",
    "$$\n",
    "\\theta = \\{a, b, c\\}, \\ \\theta^* = \\{a^*, b^*, c^*\\}\\\\\n",
    "(a, b, c) = R(a^*, b^*, c^*, \\gamma) = (\\frac{a^*}{\\gamma^2}, \\frac{b^*}{\\gamma^2}, c^*)\n",
    "$$"
   ]
  },
  {
   "cell_type": "markdown",
   "id": "a5c4f3a2-602e-4e2f-b0a4-48bde53e2814",
   "metadata": {},
   "source": [
    "At each round $t+1$:"
   ]
  },
  {
   "cell_type": "markdown",
   "id": "18b4f0b6-1717-41b6-910c-b282512d41d7",
   "metadata": {},
   "source": [
    "1. PX-E-step: \n",
    "Evaluate \n",
    "$$\n",
    "Q(\\theta^*, \\gamma, \\theta_{t}) = \\mathbb{E}_{\\beta|y;\\theta_{t}}\\left[\\log P(y,\\beta;\\theta^*, \\gamma)\\right]\\\\\n",
    "=\\mathbb{E}_{\\beta|y;\\theta_{t}}\\left[\n",
    "  \\frac{N}{2}\\log \\frac{c^*}{2\\pi} - \\frac{c^*}{2}\\sum_{n=1}^N(y_n - \\gamma\\beta^T x_{ n})^2  + \\frac{p_1}{2} \\log \\frac{a^*}{2\\pi} - \\frac{a^*}{2}\\beta_1^T \\beta_1 + \\frac{p_2}{2} \\log \\frac{b^*}{2\\pi} - \\frac{b^*}{2}\\beta_2^T \\beta_2\n",
    "\\right]\\\\\n",
    "= \\frac{N}{2}\\log \\frac{c^*}{2\\pi} - \\frac{c^*}{2}\\sum_{n=1}^N\\mathbb{E}_{\\beta|y;\\theta_{t}}\\left[(y_n - \\gamma\\beta^T x_{ n})^2\\right]  + \\frac{p_1}{2} \\log \\frac{a^*}{2\\pi} - \\frac{a^*}{2}\\mathbb{E}_{\\beta|y;\\theta_{t}}\\left[\\beta_1^T \\beta_1\\right] + \\frac{p_2}{2} \\log \\frac{b^*}{2\\pi} - \\frac{b^*}{2}\\mathbb{E}_{\\beta|y;\\theta_{t}}\\left[\\beta_2^T \\beta_2\\right]\n",
    "$$\n",
    "where \n",
    "$$\n",
    "\\beta|y; \\theta_t \\sim \\mathcal{N}\\left(\n",
    "\\mu_r, \\Sigma_r\n",
    "\\right),\n",
    "$$\n",
    "$$\n",
    "\\Sigma_r = \\begin{pmatrix}\n",
    " a_tI_{p_1}+c_tX_1^TX_1 & c_tX_1^TX_2\\\\\n",
    " c_tX_2^TX_1 & b_tI_{p_2}+c_tX_2^TX_2\n",
    "\\end{pmatrix}^{-1},\\ \\mu_r = c_t \\Sigma_r X^T Y.\n",
    "$$\n",
    "To evaluate above, we first evaluate:\n",
    "$$\n",
    "\\mathbb{E}_{\\beta|y;\\theta_t}\\left[(y_n - \\gamma\\beta^T X_{ n})^2 \\right]\n",
    "= y_n^2 - 2\\gamma y_n \\mu_r^T x_n + \\gamma^2\\mathrm{Tr}\\left[x_n x_n^T(\\mu_r \\mu_r^T + \\Sigma_r)\\right]\n",
    "$$\n",
    "Then evaluate:\n",
    "$$\n",
    "\\mathbb{E}_{\\beta|y;\\theta_t}\\left[ \\beta_1^T\\beta_1\\right] = \\mathbb{E}_{\\beta_1|y;\\theta_t}\\left[ \\beta_1^T\\beta_1\\right] = \\mu_1^T\\mu_1 + \\mathrm{Tr}[\\Sigma_1],\n",
    "$$\n",
    "and\n",
    "$$\n",
    "\\mathbb{E}_{\\beta|y;\\theta_t}\\left[ \\beta_2^T\\beta_2\\right] = \\mathbb{E}_{\\beta_2|y;\\theta_t}\\left[ \\beta_2^T\\beta_2\\right] = \\mu_2^T\\mu_2 + \\mathrm{Tr}[\\Sigma_2].\n",
    "$$"
   ]
  },
  {
   "cell_type": "markdown",
   "id": "bb31d50e-4192-4075-8bd7-702e8415dd1c",
   "metadata": {},
   "source": [
    "2. PX-M-step:\n",
    "$$\n",
    "\\theta^*_{t+1}, \\gamma_{t+1} = \\arg\\max_{\\theta^*, \\gamma} Q(\\theta^*, \\gamma, \\theta_t)\n",
    "$$\n",
    "Take derivatives w.r.t. $\\{\\theta^*, \\gamma\\}$ to 0:\n",
    "$$\n",
    "\\gamma_{t+1} = \\frac{y^TX\\mu_r}{\\mu_r^TX^TX\\mu_r + \\mathrm{Tr}[X^TX \\Sigma_r]}\n",
    "$$\n",
    "$$\n",
    "a^*_{t+1} = \\frac{p_1}{\n",
    "\\mu_1^T\\mu_1 + \\mathrm{Tr}[\\Sigma_1]\n",
    "}\n",
    "$$\n",
    "$$\n",
    "b^*_{t+1} = \\frac{p_2}{\n",
    "\\mu_2^T\\mu_2 + \\mathrm{Tr}[\\Sigma_2]\n",
    "}\n",
    "$$\n",
    "$$\n",
    "c^*_{t+1} = \\frac{N}{\n",
    "\\sum_{n=1}^N y_n^2 - 2\\gamma_{t+1}y_n \\mu_r^T x_n + \\gamma_{t+1}^2\\mathrm{Tr}\\left[x_n x_n^T(\\mu_r \\mu_r^T + \\Sigma_r)\\right]\n",
    "}\n",
    "$$"
   ]
  },
  {
   "cell_type": "markdown",
   "id": "08233fb5-a108-45dc-a14b-004883b0bfd7",
   "metadata": {},
   "source": [
    "3. PX-Reduction step:\n",
    "$$\n",
    "\\theta_{t+1} = R(\\theta_{t+1}^*, \\gamma_{t+1})\n",
    "$$"
   ]
  },
  {
   "cell_type": "code",
   "execution_count": 1,
   "id": "236b883b-69b2-48fd-9ed2-25b94de8892d",
   "metadata": {},
   "outputs": [],
   "source": [
    "import numpy as np\n",
    "import matplotlib.pyplot as plt\n",
    "import pandas as pd\n",
    "import pprint"
   ]
  },
  {
   "cell_type": "code",
   "execution_count": 2,
   "id": "42e97bdd-6aea-494a-a871-0395ae2dfc29",
   "metadata": {},
   "outputs": [],
   "source": [
    "class VCM3:\n",
    "    '''\n",
    "    three-variance-component model\n",
    "    '''\n",
    "    def __init__(self, X1, X2, y):\n",
    "        self.X1 = X1\n",
    "        self.X2 = X2\n",
    "        self.X = np.concatenate((X1, X2), axis=1)\n",
    "        self.y = y \n",
    "        self.p1 = X1.shape[1]\n",
    "        self.p2 = X2.shape[1]\n",
    "        self.n = y.shape[0]\n",
    "        \n",
    "    def mu_1_sigma_1(self, a, b, c):\n",
    "        p1 = self.p1\n",
    "        n = self.n\n",
    "        X1 = self.X1\n",
    "        X2 = self.X2\n",
    "        y = self.y\n",
    "        \n",
    "        sigma_1 = np.linalg.inv(a*np.identity(p1) + X1.T@np.linalg.inv(X2@X2.T/b+np.identity(n)/c)@X1)\n",
    "        mu_1 = sigma_1@X1.T@np.linalg.inv(X2@X2.T/b+np.identity(n)/c) @y\n",
    "        \n",
    "        return mu_1, sigma_1\n",
    "    \n",
    "    def mu_2_sigma_2(self, a, b, c):\n",
    "        p2 = self.p2\n",
    "        n = self.n\n",
    "        X1 = self.X1\n",
    "        X2 = self.X2\n",
    "        y = self.y\n",
    "        \n",
    "        sigma_2 = np.linalg.inv(b*np.identity(p2) + X2.T@np.linalg.inv(X1@X1.T/a+np.identity(n)/c)@X2)\n",
    "        mu_2 = sigma_2@X2.T@np.linalg.inv(X1@X1.T/a+np.identity(n)/c) @y\n",
    "        \n",
    "        return mu_2, sigma_2\n",
    "    \n",
    "    def mu_r_sigma_r(self, a, b, c):\n",
    "        p1 = self.p1\n",
    "        p2 = self.p2\n",
    "        n = self.n\n",
    "        X1 = self.X1\n",
    "        X2 = self.X2\n",
    "        X = self.X\n",
    "        y = self.y  \n",
    "        \n",
    "        A = a*np.identity(p1) + c*X1.T@X1\n",
    "        B = c*X1.T@X2\n",
    "        C = c*X2.T@X1\n",
    "        D = b*np.identity(p2) + c*X2.T@X2\n",
    "        \n",
    "        sigma_r = np.linalg.inv(\\\n",
    "                    np.concatenate((np.concatenate((A, B), axis=1), \\\n",
    "                                    np.concatenate((C, D), axis=1)), \\\n",
    "                                   axis=0))\n",
    "        mu_r = c*sigma_r@X.T@y\n",
    "        \n",
    "        return mu_r, sigma_r\n",
    "    \n",
    "    def llh(self, a, b, c):\n",
    "        p1 = self.p1\n",
    "        p2 = self.p2\n",
    "        n = self.n\n",
    "        X1 = self.X1\n",
    "        X2 = self.X2\n",
    "        X = self.X\n",
    "        y = self.y  \n",
    "        \n",
    "        tmp = np.identity(n)/c + X1@X1.T/a + X2@X2.T/b \n",
    "        sign, logdet = np.linalg.slogdet(tmp)\n",
    "        \n",
    "        t = logdet + y.T@np.linalg.inv(tmp)@y + n*np.log(2*np.pi)\n",
    "        return -1/2*t    \n",
    "    \n",
    "    def solve_em(self, time_step, a0, b0, c0, tol=1e-6):\n",
    "        p1 = self.p1\n",
    "        p2 = self.p2\n",
    "        n = self.n\n",
    "        X = self.X\n",
    "        y = self.y\n",
    "        \n",
    "        llhs = []\n",
    "        llhs.append(self.llh(a0, b0, c0))\n",
    "        a, b, c = a0, b0, c0\n",
    "        for t in range(time_step):\n",
    "            mu_1, sigma_1 = self.mu_1_sigma_1(a, b, c)\n",
    "            mu_2, sigma_2 = self.mu_2_sigma_2(a, b, c)\n",
    "            mu_r, sigma_r = self.mu_r_sigma_r(a, b, c)\n",
    "            a = p1/(mu_1.T@mu_1 + np.trace(sigma_1))\n",
    "            b = p2/(mu_2.T@mu_2 + np.trace(sigma_2))\n",
    "            c = n/(np.linalg.norm(y-X@mu_r)**2 + np.trace(X.T@X@sigma_r))\n",
    "\n",
    "            llhs.append(self.llh(a, b, c))\n",
    "            if llhs[-1]-llhs[-2] < tol:\n",
    "                break\n",
    "        return a, b, c, llhs\n",
    "    \n",
    "    def solve_pxem(self, time_step, a0, b0, c0, tol=1e-6):\n",
    "        p1 = self.p1\n",
    "        p2 = self.p2\n",
    "        n = self.n\n",
    "        X = self.X\n",
    "        y = self.y\n",
    "        \n",
    "        llhs = []\n",
    "        llhs.append(self.llh(a0, b0, c0))\n",
    "        a, b, c = a0, b0, c0\n",
    "        for t in range(time_step):\n",
    "            mu_1, sigma_1 = self.mu_1_sigma_1(a, b, c)\n",
    "            mu_2, sigma_2 = self.mu_2_sigma_2(a, b, c)\n",
    "            mu_r, sigma_r = self.mu_r_sigma_r(a, b, c)\n",
    "            \n",
    "            gamma = (y.T@X@mu_r)/(mu_r.T@X.T@X@mu_r + np.trace(X.T@X@sigma_r))\n",
    "            a = p1/(mu_1.T@mu_1 + np.trace(sigma_1))\n",
    "            b = p2/(mu_2.T@mu_2 + np.trace(sigma_2))\n",
    "            c = n/(np.linalg.norm(y-gamma*X@mu_r)**2 + (gamma**2)*np.trace(X.T@X@sigma_r))\n",
    "            \n",
    "            # reduction\n",
    "            a = a/gamma**2\n",
    "            b = b/gamma**2\n",
    "            \n",
    "            llhs.append(self.llh(a, b, c))\n",
    "            if llhs[-1]-llhs[-2] < tol:\n",
    "                break\n",
    "        return a, b, c, llhs        "
   ]
  },
  {
   "cell_type": "code",
   "execution_count": 3,
   "id": "f5f23245-e1ce-4ab0-b2d9-4bbb153a4af7",
   "metadata": {},
   "outputs": [],
   "source": [
    "df = pd.read_csv('../data/data_vc3.txt', delimiter=' ')\n",
    "y = df.y.values\n",
    "X1 = df.iloc[:,1:501].values\n",
    "X2 = df.iloc[:,501:502+500].values"
   ]
  },
  {
   "cell_type": "code",
   "execution_count": 4,
   "id": "aa23faf0-2680-4c6c-843e-a7e2cc6365ce",
   "metadata": {},
   "outputs": [],
   "source": [
    "model = VCM3(X1, X2, y)\n",
    "a_em, b_em, c_em, lhs_em = model.solve_em(2000000, 1, 1, 1)\n",
    "a_pxem, b_pxem, c_pxem, lhs_pxem = model.solve_pxem(2000000, 1, 1, 1)"
   ]
  },
  {
   "cell_type": "code",
   "execution_count": 5,
   "id": "f83c86e5-2eaf-4119-baec-deaf7d89401b",
   "metadata": {},
   "outputs": [
    {
     "data": {
      "image/png": "[encoded data removed]",
      "text/plain": [
       "<Figure size 1080x432 with 2 Axes>"
      ]
     },
     "metadata": {
      "needs_background": "light"
     },
     "output_type": "display_data"
    }
   ],
   "source": [
    "fig, ax = plt.subplots(1,2,figsize=(15, 6))\n",
    "ax[0].plot(lhs_em, label='EM')\n",
    "ax[0].plot(lhs_pxem, label='PX-EM')\n",
    "ax[0].legend(fontsize=14)\n",
    "ax[0].set_ylabel('Log-likelihood', fontsize=14)\n",
    "ax[0].set_xlabel('Iteration', fontsize=14)\n",
    "ax[0].tick_params(labelsize=12)\n",
    "\n",
    "ax[1].plot(max(lhs_em)-lhs_em, label='EM')\n",
    "ax[1].plot(max(lhs_pxem)-lhs_pxem, label='PX-EM')\n",
    "ax[1].legend(fontsize=14)\n",
    "ax[1].set_ylabel('Convergence', fontsize=14)\n",
    "ax[1].set_xlabel('Iteration', fontsize=14)\n",
    "ax[1].tick_params(labelsize=12)\n",
    "ax[1].set_yscale('log')\n",
    "\n",
    "plt.suptitle('Parameter Esimation $\\\\theta=\\{\\sigma_1^2, \\sigma_2^2, \\sigma_e^2\\}$\\n'\n",
    "             +'$\\hat{\\\\theta}_{EM}$ = '+f'{np.round(1/a_em, 7)},\\t {np.round(1/b_em, 7)},\\t {np.round(1/c_em, 5)}' + '\\n' \n",
    "             +'$\\hat{\\\\theta}_{PX}$ = '+f'{np.round(1/a_pxem, 7)},\\t {np.round(1/b_pxem, 7)},\\t {np.round(1/c_pxem, 7)}',\n",
    "             fontsize=15)\n",
    "fig.tight_layout()\n",
    "plt.show()"
   ]
  },
  {
   "cell_type": "code",
   "execution_count": null,
   "id": "4a710cc4-2374-4b01-8989-eb313e6b3b23",
   "metadata": {},
   "outputs": [],
   "source": []
  }
 ],
 "metadata": {
  "kernelspec": {
   "display_name": "Python 3 (ipykernel)",
   "language": "python",
   "name": "python3"
  },
  "language_info": {
   "codemirror_mode": {
    "name": "ipython",
    "version": 3
   },
   "file_extension": ".py",
   "mimetype": "text/x-python",
   "name": "python",
   "nbconvert_exporter": "python",
   "pygments_lexer": "ipython3",
   "version": "3.7.11"
  }
 },
 "nbformat": 4,
 "nbformat_minor": 5
}
