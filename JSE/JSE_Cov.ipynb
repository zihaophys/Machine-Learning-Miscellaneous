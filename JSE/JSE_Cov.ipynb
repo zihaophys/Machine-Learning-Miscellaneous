{
 "cells": [
  {
   "cell_type": "markdown",
   "id": "6ddf70d4-f22c-46ad-98ad-2113ae5abfd9",
   "metadata": {},
   "source": [
    "### Problem 2"
   ]
  },
  {
   "cell_type": "markdown",
   "id": "60df1c11-9b6b-42da-bf22-8cd8ea10c008",
   "metadata": {},
   "source": [
    "#### (a)"
   ]
  },
  {
   "cell_type": "markdown",
   "id": "a0647dab-810f-4922-8775-cbf5d2b5c0bf",
   "metadata": {},
   "source": [
    "Denote $\\mu_i = (\\mu_{A,i}, \\mu_{B, i})^T$ and $z_i = (z_{A,i}, z_{B, i})^T$"
   ]
  },
  {
   "cell_type": "markdown",
   "id": "75015569-59f8-40ac-9de2-2827a46b484b",
   "metadata": {},
   "source": [
    "$\\mu_i \\sim N(0, \\Sigma)$, $z_i|\\mu_i \\sim N(\\mu_i , I)$. Then we have\n",
    "$$\n",
    "\\mu_i | z_i \\sim N((\\Sigma^{-1} + I)^{-1}z_i, (\\Sigma^{-1} + I)^{-1})\n",
    "$$"
   ]
  },
  {
   "cell_type": "markdown",
   "id": "7cc03ba0-6f66-4183-9a57-c4dcefaa6aa7",
   "metadata": {},
   "source": [
    "Here we just use the simplest point estimator to estimate $\\Sigma$:\n",
    "$$\n",
    "\\hat{\\sigma}_A^2 = s_A^2 =\\frac{1}{n-1}\\sum_{i=1}^n (z_{A,i} - \\bar{z}_A)^2-1\\\\\n",
    "\\hat{\\sigma}_B^2 = s_B^2 = \\frac{1}{n-1}\\sum_{i=1}^n (z_{B,i} - \\bar{z}_B)^2-1\\\\\n",
    "\\hat{\\rho} = \\frac{1}{(n-1)s_A s_B}\\sum_{i=1}^n (z_{A,i} - \\bar{z}_A)(z_{B,i} - \\bar{z}_B)\\\\\n",
    "$$"
   ]
  },
  {
   "cell_type": "markdown",
   "id": "373195a0-1558-4f1d-8b72-9c97ce55eec7",
   "metadata": {},
   "source": [
    "Then we have the James-Stein estimator:\n",
    "$$\n",
    "\\hat{\\mu}_i = (\\hat{\\Sigma}^{-1} + I)^{-1}z_i\n",
    "$$"
   ]
  },
  {
   "cell_type": "markdown",
   "id": "4fd5ca07-de73-4ae8-823a-919be4afd72d",
   "metadata": {},
   "source": [
    "#### (b)"
   ]
  },
  {
   "cell_type": "code",
   "execution_count": 1,
   "id": "a1b90c3a-6974-4607-ac25-54c07bb9ede2",
   "metadata": {},
   "outputs": [],
   "source": [
    "import numpy as np\n",
    "import matplotlib.pyplot as plt \n",
    "from numpy.random import default_rng\n",
    "rng = default_rng(1)"
   ]
  },
  {
   "cell_type": "code",
   "execution_count": 8,
   "id": "b66db9a8-86df-4f1d-b988-12558364eca1",
   "metadata": {},
   "outputs": [],
   "source": [
    "n = 10\n",
    "nrep = 100\n",
    "\n",
    "from sklearn.metrics import mean_squared_error as mse\n",
    "mse_a_my = np.zeros(nrep)\n",
    "mse_b_my = np.zeros(nrep)\n",
    "mse_a_js = np.zeros(nrep)\n",
    "mse_b_js = np.zeros(nrep)\n",
    "for rep in range(nrep):\n",
    "    sigma_a2 = 1\n",
    "    sigma_b2 = 2\n",
    "    rho      = 0.5\n",
    "    mean = [0, 0]\n",
    "    cov = [[sigma_a2, rho*np.sqrt(sigma_a2*sigma_b2)],\n",
    "           [rho*np.sqrt(sigma_a2*sigma_b2), sigma_b2]]\n",
    "    mu_a, mu_b = rng.multivariate_normal(mean, cov, n).T\n",
    "    z_a = mu_a + rng.standard_normal(n)\n",
    "    z_b = mu_b + rng.standard_normal(n)\n",
    "\n",
    "    Sigma_es = np.cov(np.array([z_a,z_b]), ddof=1)-np.identity(2)\n",
    "    # print(Sigma_es)\n",
    "    mu_a_es = np.zeros(n)\n",
    "    mu_b_es = np.zeros(n)\n",
    "    for i in range(n):\n",
    "        mu_a_es[i], mu_b_es[i] = np.linalg.inv(np.linalg.inv(Sigma_es) + np.identity(2))@np.array([z_a[i],z_b[i]])\n",
    "\n",
    "    Sigma_es = np.cov(np.array([z_a,z_b]), ddof=1)-np.identity(2)\n",
    "    Sigma_es[0,1] = 0.0\n",
    "    Sigma_es[1,0] = 0.0\n",
    "    mu_a_JS = np.zeros(n)\n",
    "    mu_b_JS = np.zeros(n)\n",
    "    for i in range(n):\n",
    "        mu_a_JS[i], mu_b_JS[i] = np.linalg.inv(np.linalg.inv(Sigma_es) + np.identity(2))@np.array([z_a[i],z_b[i]])\n",
    "    \n",
    "    mse_a_my[rep] = mse(mu_a_es, mu_a)\n",
    "    mse_b_my[rep] = mse(mu_b_es, mu_b)\n",
    "    mse_a_js[rep] = mse(mu_a_JS, mu_a)\n",
    "    mse_b_js[rep] = mse(mu_b_JS, mu_b)"
   ]
  },
  {
   "cell_type": "code",
   "execution_count": 9,
   "id": "564575de-f32a-4c0c-b78a-b390c1f1d748",
   "metadata": {},
   "outputs": [
    {
     "data": {
      "image/png": "[encoded data removed]",
      "text/plain": [
       "<Figure size 576x288 with 2 Axes>"
      ]
     },
     "metadata": {
      "needs_background": "light"
     },
     "output_type": "display_data"
    }
   ],
   "source": [
    "fig, ax = plt.subplots(1, 2, figsize=(8, 4))\n",
    "ax[0].boxplot([mse_a_my, mse_a_js])\n",
    "ax[0].set_xticklabels(['My solution', 'standard JSE'])\n",
    "ax[1].boxplot([mse_b_my, mse_b_js])\n",
    "ax[1].set_xticklabels(['My solution', 'standard JSE'])\n",
    "plt.suptitle(f'N={n}')\n",
    "plt.show()"
   ]
  },
  {
   "cell_type": "code",
   "execution_count": 7,
   "id": "45c5772d-4e60-4533-9158-f6488f27ab87",
   "metadata": {},
   "outputs": [
    {
     "data": {
      "image/png": "[encoded data removed]",
      "text/plain": [
       "<Figure size 576x288 with 2 Axes>"
      ]
     },
     "metadata": {
      "needs_background": "light"
     },
     "output_type": "display_data"
    }
   ],
   "source": [
    "fig, ax = plt.subplots(1, 2, figsize=(8, 4))\n",
    "ax[0].boxplot([mse_a_my, mse_a_js])\n",
    "ax[0].set_xticklabels(['My solution', 'standard JSE'])\n",
    "ax[1].boxplot([mse_b_my, mse_b_js])\n",
    "ax[1].set_xticklabels(['My solution', 'standard JSE'])\n",
    "plt.suptitle(f'N={n}')\n",
    "plt.show()"
   ]
  },
  {
   "cell_type": "code",
   "execution_count": 5,
   "id": "96ce65ee-7ff6-4b2a-9e5d-acccdb9472c6",
   "metadata": {},
   "outputs": [
    {
     "data": {
      "image/png": "[encoded data removed]",
      "text/plain": [
       "<Figure size 576x288 with 2 Axes>"
      ]
     },
     "metadata": {
      "needs_background": "light"
     },
     "output_type": "display_data"
    }
   ],
   "source": [
    "fig, ax = plt.subplots(1, 2, figsize=(8, 4))\n",
    "ax[0].boxplot([mse_a_my, mse_a_js])\n",
    "ax[0].set_xticklabels(['My solution', 'standard JSE'])\n",
    "ax[1].boxplot([mse_b_my, mse_b_js])\n",
    "ax[1].set_xticklabels(['My solution', 'standard JSE'])\n",
    "plt.suptitle(f'N={n}')\n",
    "plt.show()"
   ]
  },
  {
   "cell_type": "code",
   "execution_count": 3,
   "id": "1a6fdc60-fa79-4bec-8264-aa1f2c582ffb",
   "metadata": {},
   "outputs": [
    {
     "data": {
      "image/png": "[encoded data removed]",
      "text/plain": [
       "<Figure size 576x288 with 2 Axes>"
      ]
     },
     "metadata": {
      "needs_background": "light"
     },
     "output_type": "display_data"
    }
   ],
   "source": [
    "fig, ax = plt.subplots(1, 2, figsize=(8, 4))\n",
    "ax[0].boxplot([mse_a_my, mse_a_js])\n",
    "ax[0].set_xticklabels(['My solution', 'standard JSE'])\n",
    "ax[1].boxplot([mse_b_my, mse_b_js])\n",
    "ax[1].set_xticklabels(['My solution', 'standard JSE'])\n",
    "plt.suptitle(f'N={n}')\n",
    "plt.show()"
   ]
  },
  {
   "cell_type": "markdown",
   "id": "ba266d85-8dc8-4828-ab1a-eb2323268344",
   "metadata": {},
   "source": [
    "#### (c)"
   ]
  },
  {
   "cell_type": "markdown",
   "id": "6671c015-84f0-4f24-af12-3f8d5746cf31",
   "metadata": {},
   "source": [
    "From my simulation results, my estimator is alway better than the standard JSE without considering correlation effect.\n",
    "\n",
    "Again, this problem illustrates that borrowing information from others can enhance you prediction ability."
   ]
  },
  {
   "cell_type": "code",
   "execution_count": null,
   "id": "670d67e1-f87e-4207-8582-bc9c55b991db",
   "metadata": {},
   "outputs": [],
   "source": []
  }
 ],
 "metadata": {
  "kernelspec": {
   "display_name": "Python 3 (ipykernel)",
   "language": "python",
   "name": "python3"
  },
  "language_info": {
   "codemirror_mode": {
    "name": "ipython",
    "version": 3
   },
   "file_extension": ".py",
   "mimetype": "text/x-python",
   "name": "python",
   "nbconvert_exporter": "python",
   "pygments_lexer": "ipython3",
   "version": "3.7.11"
  }
 },
 "nbformat": 4,
 "nbformat_minor": 5
}
