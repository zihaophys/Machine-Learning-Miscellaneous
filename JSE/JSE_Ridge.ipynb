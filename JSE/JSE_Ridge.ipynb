{
 "cells": [
  {
   "cell_type": "code",
   "execution_count": 1,
   "id": "cff0d9a6-c838-4db2-b1ee-4fd4991e2027",
   "metadata": {},
   "outputs": [],
   "source": [
    "import numpy as np\n",
    "import matplotlib.pyplot as plt \n",
    "from numpy.random import default_rng\n",
    "rng = default_rng()\n",
    "\n",
    "import pandas as pd "
   ]
  },
  {
   "cell_type": "code",
   "execution_count": 2,
   "id": "38016125-8d33-49d9-9dce-6d3ad6d6339f",
   "metadata": {},
   "outputs": [],
   "source": [
    "from sklearn.linear_model import LinearRegression, RidgeCV, Ridge\n",
    "from sklearn.metrics import mean_squared_error"
   ]
  },
  {
   "cell_type": "code",
   "execution_count": 3,
   "id": "70ab5ec7-0d1b-4ddf-addd-23bb8683f293",
   "metadata": {},
   "outputs": [
    {
     "data": {
      "text/plain": [
       "0.8017218104428525"
      ]
     },
     "execution_count": 3,
     "metadata": {},
     "output_type": "execute_result"
    }
   ],
   "source": [
    "N = 100\n",
    "mu = rng.standard_normal(N)\n",
    "z = mu + rng.standard_normal(N)\n",
    "\n",
    "data = pd.DataFrame({'z':z, 'mu': mu})\n",
    "df = pd.get_dummies(data, columns=['z'])\n",
    "df.rename(columns={f'{t}':f'z{i}' for i, t in enumerate(df.columns.values[1:])}, inplace=True)\n",
    "df['z'] = z\n",
    "\n",
    "features = df.columns.values[1:-1]\n",
    "X, y = df[features].values, df['z'].values\n",
    "\n",
    "reg = LinearRegression(fit_intercept=False)\n",
    "reg.fit(X, y)\n",
    "mean_squared_error(reg.predict(X), mu)"
   ]
  },
  {
   "cell_type": "code",
   "execution_count": 4,
   "id": "c28d1d3b-2c01-41e3-8ffa-3a40b977d676",
   "metadata": {},
   "outputs": [
    {
     "data": {
      "text/plain": [
       "0.658068518740576"
      ]
     },
     "execution_count": 4,
     "metadata": {},
     "output_type": "execute_result"
    }
   ],
   "source": [
    "js = Ridge(alpha=1, fit_intercept=False)\n",
    "js.fit(X, y)\n",
    "mean_squared_error(js.predict(X), mu)"
   ]
  },
  {
   "cell_type": "code",
   "execution_count": 5,
   "id": "db81f6a5-f22c-4c47-a5b3-b4ab9014af88",
   "metadata": {},
   "outputs": [
    {
     "data": {
      "text/html": [
       "<div>\n",
       "<style scoped>\n",
       "    .dataframe tbody tr th:only-of-type {\n",
       "        vertical-align: middle;\n",
       "    }\n",
       "\n",
       "    .dataframe tbody tr th {\n",
       "        vertical-align: top;\n",
       "    }\n",
       "\n",
       "    .dataframe thead th {\n",
       "        text-align: right;\n",
       "    }\n",
       "</style>\n",
       "<table border=\"1\" class=\"dataframe\">\n",
       "  <thead>\n",
       "    <tr style=\"text-align: right;\">\n",
       "      <th></th>\n",
       "      <th>z</th>\n",
       "      <th>mu</th>\n",
       "    </tr>\n",
       "  </thead>\n",
       "  <tbody>\n",
       "    <tr>\n",
       "      <th>0</th>\n",
       "      <td>0.296388</td>\n",
       "      <td>0.836757</td>\n",
       "    </tr>\n",
       "    <tr>\n",
       "      <th>1</th>\n",
       "      <td>-1.979832</td>\n",
       "      <td>-1.893856</td>\n",
       "    </tr>\n",
       "    <tr>\n",
       "      <th>2</th>\n",
       "      <td>0.947367</td>\n",
       "      <td>1.524669</td>\n",
       "    </tr>\n",
       "    <tr>\n",
       "      <th>3</th>\n",
       "      <td>-1.328160</td>\n",
       "      <td>-0.419662</td>\n",
       "    </tr>\n",
       "    <tr>\n",
       "      <th>4</th>\n",
       "      <td>-0.530229</td>\n",
       "      <td>-0.886611</td>\n",
       "    </tr>\n",
       "    <tr>\n",
       "      <th>...</th>\n",
       "      <td>...</td>\n",
       "      <td>...</td>\n",
       "    </tr>\n",
       "    <tr>\n",
       "      <th>95</th>\n",
       "      <td>1.520074</td>\n",
       "      <td>1.421783</td>\n",
       "    </tr>\n",
       "    <tr>\n",
       "      <th>96</th>\n",
       "      <td>-1.053355</td>\n",
       "      <td>-0.580185</td>\n",
       "    </tr>\n",
       "    <tr>\n",
       "      <th>97</th>\n",
       "      <td>-2.075873</td>\n",
       "      <td>-0.388008</td>\n",
       "    </tr>\n",
       "    <tr>\n",
       "      <th>98</th>\n",
       "      <td>0.078809</td>\n",
       "      <td>-0.998563</td>\n",
       "    </tr>\n",
       "    <tr>\n",
       "      <th>99</th>\n",
       "      <td>-3.103122</td>\n",
       "      <td>-2.402923</td>\n",
       "    </tr>\n",
       "  </tbody>\n",
       "</table>\n",
       "<p>100 rows × 2 columns</p>\n",
       "</div>"
      ],
      "text/plain": [
       "           z        mu\n",
       "0   0.296388  0.836757\n",
       "1  -1.979832 -1.893856\n",
       "2   0.947367  1.524669\n",
       "3  -1.328160 -0.419662\n",
       "4  -0.530229 -0.886611\n",
       "..       ...       ...\n",
       "95  1.520074  1.421783\n",
       "96 -1.053355 -0.580185\n",
       "97 -2.075873 -0.388008\n",
       "98  0.078809 -0.998563\n",
       "99 -3.103122 -2.402923\n",
       "\n",
       "[100 rows x 2 columns]"
      ]
     },
     "execution_count": 5,
     "metadata": {},
     "output_type": "execute_result"
    }
   ],
   "source": [
    "data"
   ]
  },
  {
   "cell_type": "code",
   "execution_count": null,
   "id": "a93d2598-6b94-4412-a14b-4d42a48fa2ea",
   "metadata": {},
   "outputs": [],
   "source": []
  }
 ],
 "metadata": {
  "kernelspec": {
   "display_name": "Python 3 (ipykernel)",
   "language": "python",
   "name": "python3"
  },
  "language_info": {
   "codemirror_mode": {
    "name": "ipython",
    "version": 3
   },
   "file_extension": ".py",
   "mimetype": "text/x-python",
   "name": "python",
   "nbconvert_exporter": "python",
   "pygments_lexer": "ipython3",
   "version": "3.7.11"
  }
 },
 "nbformat": 4,
 "nbformat_minor": 5
}
