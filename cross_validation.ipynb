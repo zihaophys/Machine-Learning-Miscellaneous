{
 "cells": [
  {
   "cell_type": "code",
   "execution_count": 1,
   "id": "7d8981ac-1951-482c-a8b6-7d33c08c4333",
   "metadata": {},
   "outputs": [],
   "source": [
    "n = 1000\n",
    "p = 500"
   ]
  },
  {
   "cell_type": "code",
   "execution_count": 2,
   "id": "ebf63893-afbb-461a-a1ee-21fc37ea1c1b",
   "metadata": {},
   "outputs": [],
   "source": [
    "import numpy as np \n",
    "from numpy.random import default_rng\n",
    "import matplotlib.pyplot as plt \n",
    "\n",
    "rng = default_rng()\n",
    "X = rng.standard_normal((n, p))\n",
    "b = rng.standard_normal(p)/np.sqrt(p)\n",
    "e = rng.standard_normal(n)\n",
    "Y0 = X.dot(b)\n",
    "Y = Y0 + e \n",
    "PVE = np.var(Y0, ddof=1)/np.var(Y, ddof=1)"
   ]
  },
  {
   "cell_type": "code",
   "execution_count": 3,
   "id": "0cb29644-4092-4086-83ca-70dca517271a",
   "metadata": {},
   "outputs": [
    {
     "data": {
      "text/plain": [
       "array([0.5, 0.5])"
      ]
     },
     "execution_count": 3,
     "metadata": {},
     "output_type": "execute_result"
    }
   ],
   "source": [
    "from sklearn import linear_model\n",
    "reg = linear_model.LinearRegression()\n",
    "reg.fit([[0, 0], [1, 1], [2, 2]], [0, 1, 2])\n",
    "\n",
    "reg.coef_"
   ]
  },
  {
   "cell_type": "code",
   "execution_count": 4,
   "id": "a26e5b52-8d29-4ff0-8f1e-b1b1db00868d",
   "metadata": {},
   "outputs": [
    {
     "data": {
      "text/plain": [
       "(array([0.34545455, 0.34545455]), 0.1363636363636364)"
      ]
     },
     "execution_count": 4,
     "metadata": {},
     "output_type": "execute_result"
    }
   ],
   "source": [
    "reg = linear_model.Ridge(alpha=.5)\n",
    "reg.fit([[0, 0], [0, 0], [1, 1]], [0, .1, 1])\n",
    "\n",
    "reg.coef_, reg.intercept_"
   ]
  },
  {
   "cell_type": "code",
   "execution_count": 5,
   "id": "cd0fb465-ffa9-44ed-b481-d349c1b3d322",
   "metadata": {},
   "outputs": [
    {
     "data": {
      "text/plain": [
       "0.01"
      ]
     },
     "execution_count": 5,
     "metadata": {},
     "output_type": "execute_result"
    }
   ],
   "source": [
    "reg = linear_model.RidgeCV(alphas=np.logspace(-6, 6, 13))\n",
    "reg.fit([[0, 0], [0, 0], [1, 1]], [0, .1, 1])\n",
    "\n",
    "reg.alpha_"
   ]
  },
  {
   "cell_type": "code",
   "execution_count": 6,
   "id": "9ba63199-01f9-4d1c-a462-e217bc139b6d",
   "metadata": {},
   "outputs": [
    {
     "data": {
      "text/plain": [
       "array([0.8])"
      ]
     },
     "execution_count": 6,
     "metadata": {},
     "output_type": "execute_result"
    }
   ],
   "source": [
    "reg = linear_model.Lasso(alpha=0.1)\n",
    "reg.fit([[0, 0], [1, 1]], [0, 1])\n",
    "\n",
    "reg.predict([[1, 1]])"
   ]
  },
  {
   "cell_type": "markdown",
   "id": "84845857-1209-4120-b4a1-b29302147596",
   "metadata": {},
   "source": [
    "Perfom LassoCV"
   ]
  },
  {
   "cell_type": "code",
   "execution_count": 7,
   "id": "a091559e-d4d2-45ac-8e3f-172e872b29a0",
   "metadata": {},
   "outputs": [
    {
     "data": {
      "image/png": "[encoded data removed]",
      "text/plain": [
       "<Figure size 432x432 with 1 Axes>"
      ]
     },
     "metadata": {
      "needs_background": "light"
     },
     "output_type": "display_data"
    }
   ],
   "source": [
    "reg = linear_model.LassoCV(cv=10, n_alphas=50)\n",
    "reg.fit(X, Y)\n",
    "reg_mean = np.mean(reg.mse_path_, axis=1)\n",
    "reg_std = 0.5*np.std(reg.mse_path_, axis=1, ddof=1)\n",
    "fig = plt.figure(figsize=(6,6))\n",
    "plt.errorbar(np.log(reg.alphas_), reg_mean, reg_std, fmt='.r', ecolor='gray', capsize=5)\n",
    "plt.show()"
   ]
  },
  {
   "cell_type": "code",
   "execution_count": 8,
   "id": "041f58cb-9985-4a4a-b16a-23b42d67eced",
   "metadata": {},
   "outputs": [
    {
     "data": {
      "text/plain": [
       "1.4837703456572338"
      ]
     },
     "execution_count": 8,
     "metadata": {},
     "output_type": "execute_result"
    }
   ],
   "source": [
    "min(reg_mean)"
   ]
  },
  {
   "cell_type": "code",
   "execution_count": 9,
   "id": "583fcc0e-a88a-403b-b047-fe2cde99b8aa",
   "metadata": {},
   "outputs": [
    {
     "data": {
      "text/plain": [
       "Lasso(alpha=0.020733689417744984)"
      ]
     },
     "execution_count": 9,
     "metadata": {},
     "output_type": "execute_result"
    }
   ],
   "source": [
    "lasso = linear_model.Lasso()\n",
    "lasso.set_params(alpha=reg.alpha_)\n",
    "lasso.fit(X, Y)"
   ]
  },
  {
   "cell_type": "code",
   "execution_count": 10,
   "id": "fa026160-ca59-4be6-bb87-acd88e266398",
   "metadata": {},
   "outputs": [
    {
     "data": {
      "text/plain": [
       "0.6922520484902414"
      ]
     },
     "execution_count": 10,
     "metadata": {},
     "output_type": "execute_result"
    }
   ],
   "source": [
    "from sklearn.metrics import mean_squared_error\n",
    "mean_squared_error(lasso.predict(X), Y)"
   ]
  },
  {
   "cell_type": "code",
   "execution_count": 11,
   "id": "7623b03b-7522-44c3-ba32-0b982425e38f",
   "metadata": {},
   "outputs": [
    {
     "data": {
      "text/plain": [
       "1.508141893995119"
      ]
     },
     "execution_count": 11,
     "metadata": {},
     "output_type": "execute_result"
    }
   ],
   "source": [
    "X = rng.standard_normal((n, p))\n",
    "e = rng.standard_normal(n)\n",
    "Y0 = X.dot(b)\n",
    "Y = Y0 + e \n",
    "mean_squared_error(lasso.predict(X), Y)"
   ]
  },
  {
   "cell_type": "markdown",
   "id": "13401844-88d2-4f47-a6d8-f0644cc896b2",
   "metadata": {},
   "source": [
    "Perfom General Cross Validation"
   ]
  },
  {
   "cell_type": "code",
   "execution_count": 12,
   "id": "7f7347dd-3586-4e37-8bdc-013feb3ea4d0",
   "metadata": {},
   "outputs": [],
   "source": [
    "from sklearn.model_selection import KFold, GridSearchCV\n",
    "from sklearn.metrics import mean_squared_error as mse"
   ]
  },
  {
   "cell_type": "code",
   "execution_count": 13,
   "id": "a2b134a0-caee-48fd-bf8f-a1dfd8bb53ce",
   "metadata": {},
   "outputs": [],
   "source": [
    "def CrossValidation(model, X_train, y_train, n_splits=10, seed=2021, my_score=mse):\n",
    "    cv_scores = []\n",
    "    kf = KFold(n_splits=n_splits, shuffle=True, random_state=21)\n",
    "    \n",
    "    for train_idx, test_idx in kf.split(X_train):\n",
    "        \n",
    "        X_CVtrain = X_train[train_idx]\n",
    "        y_CVtrain = y_train[train_idx]\n",
    "        X_CVholdout = X_train[test_idx]\n",
    "        y_CVholdout = y_train[test_idx]\n",
    "        \n",
    "        model.fit(X_CVtrain, y_CVtrain)\n",
    "        pred = model.predict(X_CVholdout)\n",
    "        \n",
    "        cv_scores.append(my_score(y_CVholdout, pred))\n",
    "    \n",
    "    return cv_scores"
   ]
  },
  {
   "cell_type": "code",
   "execution_count": 14,
   "id": "fdf2b9f0-75c2-49dd-aa6b-c474894e1cef",
   "metadata": {},
   "outputs": [],
   "source": [
    "alphas = np.logspace(-9, -1.5, 50, base=np.e)\n",
    "tuned_parameters = [{'alpha':alphas}]\n",
    "n_folds = 10"
   ]
  },
  {
   "cell_type": "code",
   "execution_count": 15,
   "id": "b0bbaef5-7109-4fbc-bcff-e962c54f5afc",
   "metadata": {},
   "outputs": [
    {
     "data": {
      "text/plain": [
       "GridSearchCV(cv=10, estimator=Lasso(alpha=0.020733689417744984),\n",
       "             param_grid=[{'alpha': array([1.23409804e-04, 1.43821332e-04, 1.67608853e-04, 1.95330741e-04,\n",
       "       2.27637729e-04, 2.65288173e-04, 3.09165863e-04, 3.60300761e-04,\n",
       "       4.19893183e-04, 4.89341974e-04, 5.70277339e-04, 6.64599117e-04,\n",
       "       7.74521370e-04, 9.02624361e-04, 1.05191511e-03, 1.22589801e-03,\n",
       "       1.42865704e-03, 1.66...\n",
       "       8.96626826e-03, 1.04492561e-02, 1.21775247e-02, 1.41916425e-02,\n",
       "       1.65388881e-02, 1.92743595e-02, 2.24622677e-02, 2.61774443e-02,\n",
       "       3.05070975e-02, 3.55528594e-02, 4.14331717e-02, 4.82860662e-02,\n",
       "       5.62724042e-02, 6.55796532e-02, 7.64262870e-02, 8.90669142e-02,\n",
       "       1.03798255e-01, 1.20966105e-01, 1.40973454e-01, 1.64289946e-01,\n",
       "       1.91462900e-01, 2.23130160e-01])}],\n",
       "             refit=False, scoring='neg_mean_squared_error')"
      ]
     },
     "execution_count": 15,
     "metadata": {},
     "output_type": "execute_result"
    }
   ],
   "source": [
    "clf = GridSearchCV(lasso, \n",
    "                   tuned_parameters, \n",
    "                   scoring='neg_mean_squared_error', \n",
    "                   cv=n_folds, \n",
    "                   refit=False)\n",
    "clf.fit(X, Y)"
   ]
  },
  {
   "cell_type": "code",
   "execution_count": 16,
   "id": "eb5d7fa0-6f4c-41a5-9e8c-ff988c0b014d",
   "metadata": {},
   "outputs": [
    {
     "data": {
      "image/png": "[encoded data removed]",
      "text/plain": [
       "<Figure size 432x432 with 1 Axes>"
      ]
     },
     "metadata": {
      "needs_background": "light"
     },
     "output_type": "display_data"
    }
   ],
   "source": [
    "scores = -clf.cv_results_['mean_test_score']\n",
    "scores_std = clf.cv_results_['std_test_score']\n",
    "\n",
    "fig = plt.figure(figsize=(6,6))\n",
    "plt.errorbar(np.log(alphas), scores, 0.5*scores_std, fmt='.r', ecolor='gray', capsize=5)\n",
    "plt.show()                    "
   ]
  },
  {
   "cell_type": "code",
   "execution_count": 17,
   "id": "5d3c4e12-6db5-4ad2-bfaf-1608cd679d32",
   "metadata": {},
   "outputs": [
    {
     "data": {
      "text/plain": [
       "1.5619086228502455"
      ]
     },
     "execution_count": 17,
     "metadata": {},
     "output_type": "execute_result"
    }
   ],
   "source": [
    "min(scores)"
   ]
  },
  {
   "cell_type": "code",
   "execution_count": 18,
   "id": "e7e4c933-4009-4753-8dd1-9127755bd87e",
   "metadata": {},
   "outputs": [
    {
     "data": {
      "text/plain": [
       "({'alpha': 0.026177444319090432}, -1.5619086228502455)"
      ]
     },
     "execution_count": 18,
     "metadata": {},
     "output_type": "execute_result"
    }
   ],
   "source": [
    "clf.best_params_, clf.best_score_"
   ]
  },
  {
   "cell_type": "code",
   "execution_count": 19,
   "id": "c974e24a-86fa-46ee-81ba-20696ebce00c",
   "metadata": {},
   "outputs": [
    {
     "data": {
      "text/plain": [
       "Lasso(alpha=0.026177444319090432)"
      ]
     },
     "execution_count": 19,
     "metadata": {},
     "output_type": "execute_result"
    }
   ],
   "source": [
    "lasso = linear_model.Lasso()\n",
    "lasso.set_params(alpha=clf.best_params_['alpha'])\n",
    "lasso.fit(X,Y)"
   ]
  },
  {
   "cell_type": "code",
   "execution_count": 20,
   "id": "3dd6d7cb-9ac6-48a6-99b1-ae5dc0a25529",
   "metadata": {},
   "outputs": [
    {
     "data": {
      "text/plain": [
       "0.8327884866337236"
      ]
     },
     "execution_count": 20,
     "metadata": {},
     "output_type": "execute_result"
    }
   ],
   "source": [
    "mse(lasso.predict(X), Y)"
   ]
  },
  {
   "cell_type": "code",
   "execution_count": 22,
   "id": "1ae15205-b281-4f63-8d32-6b64ce8f184d",
   "metadata": {},
   "outputs": [
    {
     "data": {
      "text/plain": [
       "1.578942006584449"
      ]
     },
     "execution_count": 22,
     "metadata": {},
     "output_type": "execute_result"
    }
   ],
   "source": [
    "X = rng.standard_normal((n, p))\n",
    "e = rng.standard_normal(n)\n",
    "Y0 = X.dot(b)\n",
    "Y = Y0 + e \n",
    "mean_squared_error(lasso.predict(X), Y)"
   ]
  },
  {
   "cell_type": "code",
   "execution_count": null,
   "id": "7552f463-2a9a-4032-830c-2ef160b7314d",
   "metadata": {},
   "outputs": [],
   "source": []
  }
 ],
 "metadata": {
  "kernelspec": {
   "display_name": "Python 3 (ipykernel)",
   "language": "python",
   "name": "python3"
  },
  "language_info": {
   "codemirror_mode": {
    "name": "ipython",
    "version": 3
   },
   "file_extension": ".py",
   "mimetype": "text/x-python",
   "name": "python",
   "nbconvert_exporter": "python",
   "pygments_lexer": "ipython3",
   "version": "3.7.11"
  }
 },
 "nbformat": 4,
 "nbformat_minor": 5
}
