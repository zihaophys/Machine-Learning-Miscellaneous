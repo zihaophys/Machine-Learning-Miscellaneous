{
 "cells": [
  {
   "cell_type": "code",
   "execution_count": 1,
   "id": "b5d41066-6453-4839-bd96-28bfaf5d590f",
   "metadata": {},
   "outputs": [],
   "source": [
    "import numpy as np \n",
    "import matplotlib.pyplot as plt \n",
    "import pandas as pd "
   ]
  },
  {
   "cell_type": "code",
   "execution_count": 2,
   "id": "85d11b36-707a-4290-8342-021c47624c75",
   "metadata": {},
   "outputs": [
    {
     "data": {
      "text/html": [
       "<div>\n",
       "<style scoped>\n",
       "    .dataframe tbody tr th:only-of-type {\n",
       "        vertical-align: middle;\n",
       "    }\n",
       "\n",
       "    .dataframe tbody tr th {\n",
       "        vertical-align: top;\n",
       "    }\n",
       "\n",
       "    .dataframe thead th {\n",
       "        text-align: right;\n",
       "    }\n",
       "</style>\n",
       "<table border=\"1\" class=\"dataframe\">\n",
       "  <thead>\n",
       "    <tr style=\"text-align: right;\">\n",
       "      <th></th>\n",
       "      <th>Unnamed: 0</th>\n",
       "      <th>family</th>\n",
       "      <th>father</th>\n",
       "      <th>mother</th>\n",
       "      <th>midparentHeight</th>\n",
       "      <th>children</th>\n",
       "      <th>childNum</th>\n",
       "      <th>gender</th>\n",
       "      <th>childHeight</th>\n",
       "    </tr>\n",
       "  </thead>\n",
       "  <tbody>\n",
       "    <tr>\n",
       "      <th>0</th>\n",
       "      <td>1</td>\n",
       "      <td>001</td>\n",
       "      <td>78.5</td>\n",
       "      <td>67.0</td>\n",
       "      <td>75.43</td>\n",
       "      <td>4</td>\n",
       "      <td>1</td>\n",
       "      <td>male</td>\n",
       "      <td>73.2</td>\n",
       "    </tr>\n",
       "    <tr>\n",
       "      <th>1</th>\n",
       "      <td>2</td>\n",
       "      <td>001</td>\n",
       "      <td>78.5</td>\n",
       "      <td>67.0</td>\n",
       "      <td>75.43</td>\n",
       "      <td>4</td>\n",
       "      <td>2</td>\n",
       "      <td>female</td>\n",
       "      <td>69.2</td>\n",
       "    </tr>\n",
       "    <tr>\n",
       "      <th>2</th>\n",
       "      <td>3</td>\n",
       "      <td>001</td>\n",
       "      <td>78.5</td>\n",
       "      <td>67.0</td>\n",
       "      <td>75.43</td>\n",
       "      <td>4</td>\n",
       "      <td>3</td>\n",
       "      <td>female</td>\n",
       "      <td>69.0</td>\n",
       "    </tr>\n",
       "    <tr>\n",
       "      <th>3</th>\n",
       "      <td>4</td>\n",
       "      <td>001</td>\n",
       "      <td>78.5</td>\n",
       "      <td>67.0</td>\n",
       "      <td>75.43</td>\n",
       "      <td>4</td>\n",
       "      <td>4</td>\n",
       "      <td>female</td>\n",
       "      <td>69.0</td>\n",
       "    </tr>\n",
       "    <tr>\n",
       "      <th>4</th>\n",
       "      <td>5</td>\n",
       "      <td>002</td>\n",
       "      <td>75.5</td>\n",
       "      <td>66.5</td>\n",
       "      <td>73.66</td>\n",
       "      <td>4</td>\n",
       "      <td>1</td>\n",
       "      <td>male</td>\n",
       "      <td>73.5</td>\n",
       "    </tr>\n",
       "  </tbody>\n",
       "</table>\n",
       "</div>"
      ],
      "text/plain": [
       "   Unnamed: 0 family  father  mother  midparentHeight  children  childNum  \\\n",
       "0           1    001    78.5    67.0            75.43         4         1   \n",
       "1           2    001    78.5    67.0            75.43         4         2   \n",
       "2           3    001    78.5    67.0            75.43         4         3   \n",
       "3           4    001    78.5    67.0            75.43         4         4   \n",
       "4           5    002    75.5    66.5            73.66         4         1   \n",
       "\n",
       "   gender  childHeight  \n",
       "0    male         73.2  \n",
       "1  female         69.2  \n",
       "2  female         69.0  \n",
       "3  female         69.0  \n",
       "4    male         73.5  "
      ]
     },
     "execution_count": 2,
     "metadata": {},
     "output_type": "execute_result"
    }
   ],
   "source": [
    "data = pd.read_csv(\"../assignment/a1/data.csv\")\n",
    "data.head()"
   ]
  },
  {
   "cell_type": "code",
   "execution_count": 3,
   "id": "41a4af21-08b1-48fd-9e73-c3beb8a447e2",
   "metadata": {},
   "outputs": [],
   "source": [
    "from sklearn.preprocessing import LabelEncoder\n",
    "data.gender = LabelEncoder().fit_transform(data.gender)"
   ]
  },
  {
   "cell_type": "code",
   "execution_count": 4,
   "id": "cfc404d3-472c-4d49-999d-1b354a0bbf9c",
   "metadata": {},
   "outputs": [
    {
     "data": {
      "text/html": [
       "<div>\n",
       "<style scoped>\n",
       "    .dataframe tbody tr th:only-of-type {\n",
       "        vertical-align: middle;\n",
       "    }\n",
       "\n",
       "    .dataframe tbody tr th {\n",
       "        vertical-align: top;\n",
       "    }\n",
       "\n",
       "    .dataframe thead th {\n",
       "        text-align: right;\n",
       "    }\n",
       "</style>\n",
       "<table border=\"1\" class=\"dataframe\">\n",
       "  <thead>\n",
       "    <tr style=\"text-align: right;\">\n",
       "      <th></th>\n",
       "      <th>father</th>\n",
       "      <th>mother</th>\n",
       "      <th>gender</th>\n",
       "      <th>childHeight</th>\n",
       "      <th>family_001</th>\n",
       "      <th>family_002</th>\n",
       "      <th>family_003</th>\n",
       "      <th>family_004</th>\n",
       "      <th>family_005</th>\n",
       "      <th>family_006</th>\n",
       "      <th>...</th>\n",
       "      <th>family_195</th>\n",
       "      <th>family_196</th>\n",
       "      <th>family_197</th>\n",
       "      <th>family_198</th>\n",
       "      <th>family_199</th>\n",
       "      <th>family_200</th>\n",
       "      <th>family_201</th>\n",
       "      <th>family_202</th>\n",
       "      <th>family_203</th>\n",
       "      <th>family_204</th>\n",
       "    </tr>\n",
       "  </thead>\n",
       "  <tbody>\n",
       "    <tr>\n",
       "      <th>0</th>\n",
       "      <td>78.5</td>\n",
       "      <td>67.0</td>\n",
       "      <td>1</td>\n",
       "      <td>73.2</td>\n",
       "      <td>1</td>\n",
       "      <td>0</td>\n",
       "      <td>0</td>\n",
       "      <td>0</td>\n",
       "      <td>0</td>\n",
       "      <td>0</td>\n",
       "      <td>...</td>\n",
       "      <td>0</td>\n",
       "      <td>0</td>\n",
       "      <td>0</td>\n",
       "      <td>0</td>\n",
       "      <td>0</td>\n",
       "      <td>0</td>\n",
       "      <td>0</td>\n",
       "      <td>0</td>\n",
       "      <td>0</td>\n",
       "      <td>0</td>\n",
       "    </tr>\n",
       "    <tr>\n",
       "      <th>1</th>\n",
       "      <td>78.5</td>\n",
       "      <td>67.0</td>\n",
       "      <td>0</td>\n",
       "      <td>69.2</td>\n",
       "      <td>1</td>\n",
       "      <td>0</td>\n",
       "      <td>0</td>\n",
       "      <td>0</td>\n",
       "      <td>0</td>\n",
       "      <td>0</td>\n",
       "      <td>...</td>\n",
       "      <td>0</td>\n",
       "      <td>0</td>\n",
       "      <td>0</td>\n",
       "      <td>0</td>\n",
       "      <td>0</td>\n",
       "      <td>0</td>\n",
       "      <td>0</td>\n",
       "      <td>0</td>\n",
       "      <td>0</td>\n",
       "      <td>0</td>\n",
       "    </tr>\n",
       "    <tr>\n",
       "      <th>2</th>\n",
       "      <td>78.5</td>\n",
       "      <td>67.0</td>\n",
       "      <td>0</td>\n",
       "      <td>69.0</td>\n",
       "      <td>1</td>\n",
       "      <td>0</td>\n",
       "      <td>0</td>\n",
       "      <td>0</td>\n",
       "      <td>0</td>\n",
       "      <td>0</td>\n",
       "      <td>...</td>\n",
       "      <td>0</td>\n",
       "      <td>0</td>\n",
       "      <td>0</td>\n",
       "      <td>0</td>\n",
       "      <td>0</td>\n",
       "      <td>0</td>\n",
       "      <td>0</td>\n",
       "      <td>0</td>\n",
       "      <td>0</td>\n",
       "      <td>0</td>\n",
       "    </tr>\n",
       "    <tr>\n",
       "      <th>3</th>\n",
       "      <td>78.5</td>\n",
       "      <td>67.0</td>\n",
       "      <td>0</td>\n",
       "      <td>69.0</td>\n",
       "      <td>1</td>\n",
       "      <td>0</td>\n",
       "      <td>0</td>\n",
       "      <td>0</td>\n",
       "      <td>0</td>\n",
       "      <td>0</td>\n",
       "      <td>...</td>\n",
       "      <td>0</td>\n",
       "      <td>0</td>\n",
       "      <td>0</td>\n",
       "      <td>0</td>\n",
       "      <td>0</td>\n",
       "      <td>0</td>\n",
       "      <td>0</td>\n",
       "      <td>0</td>\n",
       "      <td>0</td>\n",
       "      <td>0</td>\n",
       "    </tr>\n",
       "    <tr>\n",
       "      <th>4</th>\n",
       "      <td>75.5</td>\n",
       "      <td>66.5</td>\n",
       "      <td>1</td>\n",
       "      <td>73.5</td>\n",
       "      <td>0</td>\n",
       "      <td>1</td>\n",
       "      <td>0</td>\n",
       "      <td>0</td>\n",
       "      <td>0</td>\n",
       "      <td>0</td>\n",
       "      <td>...</td>\n",
       "      <td>0</td>\n",
       "      <td>0</td>\n",
       "      <td>0</td>\n",
       "      <td>0</td>\n",
       "      <td>0</td>\n",
       "      <td>0</td>\n",
       "      <td>0</td>\n",
       "      <td>0</td>\n",
       "      <td>0</td>\n",
       "      <td>0</td>\n",
       "    </tr>\n",
       "  </tbody>\n",
       "</table>\n",
       "<p>5 rows × 209 columns</p>\n",
       "</div>"
      ],
      "text/plain": [
       "   father  mother  gender  childHeight  family_001  family_002  family_003  \\\n",
       "0    78.5    67.0       1         73.2           1           0           0   \n",
       "1    78.5    67.0       0         69.2           1           0           0   \n",
       "2    78.5    67.0       0         69.0           1           0           0   \n",
       "3    78.5    67.0       0         69.0           1           0           0   \n",
       "4    75.5    66.5       1         73.5           0           1           0   \n",
       "\n",
       "   family_004  family_005  family_006  ...  family_195  family_196  \\\n",
       "0           0           0           0  ...           0           0   \n",
       "1           0           0           0  ...           0           0   \n",
       "2           0           0           0  ...           0           0   \n",
       "3           0           0           0  ...           0           0   \n",
       "4           0           0           0  ...           0           0   \n",
       "\n",
       "   family_197  family_198  family_199  family_200  family_201  family_202  \\\n",
       "0           0           0           0           0           0           0   \n",
       "1           0           0           0           0           0           0   \n",
       "2           0           0           0           0           0           0   \n",
       "3           0           0           0           0           0           0   \n",
       "4           0           0           0           0           0           0   \n",
       "\n",
       "   family_203  family_204  \n",
       "0           0           0  \n",
       "1           0           0  \n",
       "2           0           0  \n",
       "3           0           0  \n",
       "4           0           0  \n",
       "\n",
       "[5 rows x 209 columns]"
      ]
     },
     "execution_count": 4,
     "metadata": {},
     "output_type": "execute_result"
    }
   ],
   "source": [
    "data = data.drop(['Unnamed: 0', 'children', 'childNum', 'midparentHeight'], axis=1)\n",
    "df = pd.get_dummies(data, columns=['family'])\n",
    "df.head()"
   ]
  },
  {
   "cell_type": "code",
   "execution_count": 5,
   "id": "f5a59117-2284-4879-890c-0018dc3e1bf0",
   "metadata": {},
   "outputs": [],
   "source": [
    "features = list(df.columns.values)\n",
    "features.remove('childHeight')\n",
    "target = 'childHeight'"
   ]
  },
  {
   "cell_type": "code",
   "execution_count": 6,
   "id": "cf5e38d4-fd66-49d9-93c9-a3ac5a550ccb",
   "metadata": {},
   "outputs": [],
   "source": [
    "from sklearn.linear_model import Ridge, Lasso\n",
    "from sklearn.metrics import mean_squared_error as mse\n",
    "from sklearn.model_selection import train_test_split\n",
    "from sklearn.model_selection import GridSearchCV"
   ]
  },
  {
   "cell_type": "code",
   "execution_count": 7,
   "id": "9beab452-fda7-4f40-a8d5-9f04957b9097",
   "metadata": {},
   "outputs": [],
   "source": [
    "X, y = df[features].values, df[target].values"
   ]
  },
  {
   "cell_type": "markdown",
   "id": "dae799d0-2221-47cb-9136-f9442b0ce48b",
   "metadata": {},
   "source": [
    "Try Ridge"
   ]
  },
  {
   "cell_type": "code",
   "execution_count": 8,
   "id": "dde06548-efc2-4bfb-93b2-44b76032666d",
   "metadata": {},
   "outputs": [],
   "source": [
    "alphas = np.logspace(-5, 3, 50, base=np.e)\n",
    "# alphas = [0.01, 0.1, 1]\n",
    "tuned_parameters = [{'alpha':alphas}]\n",
    "n_folds = 10"
   ]
  },
  {
   "cell_type": "code",
   "execution_count": 9,
   "id": "87902e90-1f5f-491c-9ba0-53b1b6ed5324",
   "metadata": {},
   "outputs": [
    {
     "data": {
      "text/plain": [
       "GridSearchCV(cv=10, estimator=Ridge(),\n",
       "             param_grid=[{'alpha': array([6.73794700e-03, 7.93291520e-03, 9.33980983e-03, 1.09962158e-02,\n",
       "       1.29463838e-02, 1.52424121e-02, 1.79456387e-02, 2.11282799e-02,\n",
       "       2.48753593e-02, 2.92869796e-02, 3.44809963e-02, 4.05961667e-02,\n",
       "       4.77958565e-02, 5.62724042e-02, 6.62522592e-02, 7.80020315e-02,\n",
       "       9.18356142e-02, 1.08122569e-01, 1.27297999e-01,...\n",
       "       6.51439058e-01, 7.66971127e-01, 9.02992694e-01, 1.06313755e+00,\n",
       "       1.25168394e+00, 1.47366884e+00, 1.73502255e+00, 2.04272707e+00,\n",
       "       2.40500269e+00, 2.83152752e+00, 3.33369611e+00, 3.92492381e+00,\n",
       "       4.62100514e+00, 5.44053581e+00, 6.40540943e+00, 7.54140243e+00,\n",
       "       8.87886265e+00, 1.04535201e+01, 1.23074415e+01, 1.44901541e+01,\n",
       "       1.70599685e+01, 2.00855369e+01])}],\n",
       "             refit=False, scoring='neg_mean_squared_error')"
      ]
     },
     "execution_count": 9,
     "metadata": {},
     "output_type": "execute_result"
    }
   ],
   "source": [
    "X_train, X_test, y_train, y_test = train_test_split(X, y, test_size=200)\n",
    "clf = GridSearchCV(Ridge(), \n",
    "               tuned_parameters, \n",
    "               scoring='neg_mean_squared_error', \n",
    "               cv=n_folds, \n",
    "               refit=False)\n",
    "clf.fit(X_train, y_train)"
   ]
  },
  {
   "cell_type": "code",
   "execution_count": 10,
   "id": "1e3b7bfb-efae-411d-b87c-ca0183b42d74",
   "metadata": {},
   "outputs": [
    {
     "data": {
      "image/png": "[encoded data removed]",
      "text/plain": [
       "<Figure size 432x432 with 1 Axes>"
      ]
     },
     "metadata": {
      "needs_background": "light"
     },
     "output_type": "display_data"
    }
   ],
   "source": [
    "scores = -clf.cv_results_['mean_test_score']\n",
    "scores_std = clf.cv_results_['std_test_score']\n",
    "\n",
    "fig = plt.figure(figsize=(6,6))\n",
    "plt.errorbar(np.log(alphas), scores, 0.5*scores_std, fmt='.r', ecolor='gray', capsize=5)\n",
    "plt.show()  "
   ]
  },
  {
   "cell_type": "code",
   "execution_count": 11,
   "id": "bf21fc34-f666-46ee-b496-25a1c198e868",
   "metadata": {},
   "outputs": [
    {
     "data": {
      "text/plain": [
       "(3.333696114163807, -4.295626474819893)"
      ]
     },
     "execution_count": 11,
     "metadata": {},
     "output_type": "execute_result"
    }
   ],
   "source": [
    "clf.best_params_['alpha'], clf.best_score_"
   ]
  },
  {
   "cell_type": "code",
   "execution_count": 12,
   "id": "b054e0cc-8539-4c4a-a46d-05122c462a73",
   "metadata": {},
   "outputs": [],
   "source": [
    "MSE = np.zeros(100)\n",
    "for i in range(100):\n",
    "    X_train, X_test, y_train, y_test = train_test_split(X, y, test_size=200)\n",
    "    \n",
    "    ridge = Ridge().set_params(alpha=clf.best_params_['alpha'])\n",
    "    ridge.fit(X_train, y_train)\n",
    "    \n",
    "    MSE[i] = mse(ridge.predict(X_test), y_test)"
   ]
  },
  {
   "cell_type": "code",
   "execution_count": 13,
   "id": "8ebea8e7-1ace-4e7b-9274-b3bfb925276e",
   "metadata": {},
   "outputs": [
    {
     "data": {
      "image/png": "[encoded data removed]",
      "text/plain": [
       "<Figure size 432x216 with 1 Axes>"
      ]
     },
     "metadata": {
      "needs_background": "light"
     },
     "output_type": "display_data"
    },
    {
     "name": "stdout",
     "output_type": "stream",
     "text": [
      "4.337217505180029\n",
      "[4.00531362 4.36846697 5.1162702  4.80261541 4.10889111 4.60920255]\n"
     ]
    }
   ],
   "source": [
    "fig = plt.figure(figsize=(6,3))\n",
    "ax = fig.gca()\n",
    "ax.boxplot(MSE)\n",
    "plt.show()\n",
    "print(MSE.mean())\n",
    "print(MSE[0:6])"
   ]
  },
  {
   "cell_type": "markdown",
   "id": "fc7d9541-0b50-4fd5-abf3-5ce1fe77b14a",
   "metadata": {},
   "source": [
    "Try Lasso"
   ]
  },
  {
   "cell_type": "code",
   "execution_count": 14,
   "id": "ccc295fb-0a70-451d-a305-627730b9b798",
   "metadata": {},
   "outputs": [
    {
     "data": {
      "image/png": "[encoded data removed]",
      "text/plain": [
       "<Figure size 432x432 with 1 Axes>"
      ]
     },
     "metadata": {
      "needs_background": "light"
     },
     "output_type": "display_data"
    }
   ],
   "source": [
    "alphas = np.logspace(-9, 1, 80, base=np.e)\n",
    "tuned_parameters = [{'alpha':alphas}]\n",
    "n_folds = 10\n",
    "\n",
    "clf = GridSearchCV(Lasso(max_iter=5000), \n",
    "               tuned_parameters, \n",
    "               scoring='neg_mean_squared_error', \n",
    "               cv=n_folds, \n",
    "               refit=False)\n",
    "clf.fit(X_train, y_train)\n",
    "scores = -clf.cv_results_['mean_test_score']\n",
    "scores_std = clf.cv_results_['std_test_score']\n",
    "\n",
    "fig = plt.figure(figsize=(6,6))\n",
    "plt.errorbar(np.log(alphas), scores, 0.5*scores_std, fmt='.r', ecolor='gray', capsize=5)\n",
    "plt.show()  "
   ]
  },
  {
   "cell_type": "code",
   "execution_count": 15,
   "id": "d78f79c8-3b7c-4dae-a06c-19300b7cfb8a",
   "metadata": {},
   "outputs": [
    {
     "data": {
      "image/png": "[encoded data removed]",
      "text/plain": [
       "<Figure size 432x216 with 1 Axes>"
      ]
     },
     "metadata": {
      "needs_background": "light"
     },
     "output_type": "display_data"
    },
    {
     "name": "stdout",
     "output_type": "stream",
     "text": [
      "4.574923329176895\n",
      "[4.9306916  4.51780448 5.0545592  4.64854588 4.04315131 4.04026871]\n"
     ]
    }
   ],
   "source": [
    "MSE = np.zeros(100)\n",
    "for i in range(100):\n",
    "    X_train, X_test, y_train, y_test = train_test_split(X, y, test_size=200)\n",
    "    \n",
    "    lasso = Lasso().set_params(alpha=clf.best_params_['alpha'])\n",
    "    lasso.fit(X_train, y_train)\n",
    "    \n",
    "    MSE[i] = mse(lasso.predict(X_test), y_test)\n",
    "fig = plt.figure(figsize=(6,3))\n",
    "ax = fig.gca()\n",
    "ax.boxplot(MSE)\n",
    "plt.show()\n",
    "print(MSE.mean())\n",
    "print(MSE[0:6])"
   ]
  },
  {
   "cell_type": "code",
   "execution_count": 16,
   "id": "ab4be59c-5491-40a2-ab99-4dc917526000",
   "metadata": {},
   "outputs": [
    {
     "data": {
      "text/plain": [
       "({'alpha': 0.004271901637446393}, -4.835690787629693)"
      ]
     },
     "execution_count": 16,
     "metadata": {},
     "output_type": "execute_result"
    }
   ],
   "source": [
    "clf.best_params_, clf.best_score_"
   ]
  },
  {
   "cell_type": "code",
   "execution_count": 28,
   "id": "689f8e3a-036d-43a5-93cd-454d12977223",
   "metadata": {},
   "outputs": [
    {
     "data": {
      "image/png": "[encoded data removed]",
      "text/plain": [
       "<Figure size 432x288 with 1 Axes>"
      ]
     },
     "metadata": {
      "needs_background": "light"
     },
     "output_type": "display_data"
    }
   ],
   "source": [
    "plt.scatter(range(208),lasso.coef_,s=10)\n",
    "plt.ylim(-3,3)\n",
    "plt.show()"
   ]
  },
  {
   "cell_type": "code",
   "execution_count": 27,
   "id": "f7ff16e3-cf92-41e1-b6b5-d331cbdff0ac",
   "metadata": {},
   "outputs": [
    {
     "data": {
      "image/png": "[encoded data removed]",
      "text/plain": [
       "<Figure size 432x288 with 1 Axes>"
      ]
     },
     "metadata": {
      "needs_background": "light"
     },
     "output_type": "display_data"
    }
   ],
   "source": [
    "plt.scatter(range(208),ridge.coef_,s=10)\n",
    "plt.ylim(-3,3)\n",
    "plt.show()"
   ]
  },
  {
   "cell_type": "code",
   "execution_count": null,
   "id": "58c91a4e-cda2-4e01-91d9-3caced67143f",
   "metadata": {},
   "outputs": [],
   "source": []
  }
 ],
 "metadata": {
  "kernelspec": {
   "display_name": "Python 3 (ipykernel)",
   "language": "python",
   "name": "python3"
  },
  "language_info": {
   "codemirror_mode": {
    "name": "ipython",
    "version": 3
   },
   "file_extension": ".py",
   "mimetype": "text/x-python",
   "name": "python",
   "nbconvert_exporter": "python",
   "pygments_lexer": "ipython3",
   "version": "3.7.11"
  }
 },
 "nbformat": 4,
 "nbformat_minor": 5
}
