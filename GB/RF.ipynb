{
 "cells": [
  {
   "cell_type": "markdown",
   "id": "3717a700-b139-477c-a9fc-662c44db48fd",
   "metadata": {},
   "source": [
    "### Problem 4"
   ]
  },
  {
   "cell_type": "markdown",
   "id": "13ce19b9-f6f3-4f78-8dc9-5c795e944362",
   "metadata": {},
   "source": [
    "As suggested by the Problem 4, the *mtry* parameter in Random Forest plays a role of inexplicit regularization. To investigate this phenomenon and provide supporting evidence, we intend to compare the performance of random forest and bagging to see the effect of randomness induced by *mtry*."
   ]
  },
  {
   "cell_type": "markdown",
   "id": "d65d1940-e773-4fe1-a5dc-04844f9a908c",
   "metadata": {},
   "source": [
    "Consider the following model:\n",
    "$$\n",
    "\\mathcal{D}_n = \\{Z_1,\\dots, Z_n\\}, \\ Z_i = (X_i, Y_i), \\ X_i = (X_{1,i},\\dots,X_{p,i})\n",
    "$$\n",
    "$$\n",
    "Y = f(X) + \\epsilon, \\ \\epsilon_i \\overset{\\text{i.i.d.}}{\\sim}\\mathcal{N}(0, \\sigma^2)\n",
    "$$\n"
   ]
  },
  {
   "cell_type": "markdown",
   "id": "bde8c978-448f-42ba-89f1-d0d7796a2ff3",
   "metadata": {},
   "source": [
    "We shall evaluate the degrees of freedom by \n",
    "$$\n",
    "df(\\hat{f}) = \\frac{1}{\\sigma^2}\\sum_{i=1}^n \\text{Cov}(\\hat{y}_i, y_i)\n",
    "$$"
   ]
  },
  {
   "cell_type": "markdown",
   "id": "f8dd976f-ae8f-4041-a51c-4c7bbf3a9ef4",
   "metadata": {},
   "source": [
    "Higher DOF implies less flexiblity and higher variance. We expect to see: \n",
    "for fixed parameter *mtry*, by adding more terminal nodes, we incorporate more DOF, thus making the estimator more sensitive to the data. "
   ]
  },
  {
   "cell_type": "markdown",
   "id": "0c18caaa-b841-49fc-98de-ff669cf3f92f",
   "metadata": {},
   "source": [
    "We consider the same linear model in the paper.\n",
    "$$\n",
    "Y = X\\beta + \\epsilon\n",
    "$$\n",
    "- Low: n = 100, p = 10, s = 5\n",
    "- Medium: n = 500, p = 100, s = 5\n",
    "- High-10: n = 100, p = 1000, s = 10 \n",
    "\n",
    "For each model, we let *mtry* = $\\sqrt{p}, p/3, p$. When *mtry* = $p$, the random forest is essentially bagging.\n",
    "- p=10: *mtry* = 3, 10\n",
    "- p = 100: *mtry* = 10, 33, 100\n",
    "- p = 1000: *mtry* = 32, 333, 1000"
   ]
  },
  {
   "cell_type": "markdown",
   "id": "af13b07b-c9ca-423e-a5b4-158539eb5870",
   "metadata": {},
   "source": [
    "Declaration: The author do the numerical experiement in R. I implement this model using Python by myself and use slightly different *mtry* parameter."
   ]
  },
  {
   "cell_type": "code",
   "execution_count": 1,
   "id": "67cfefba-4286-40ca-8533-3f86b67fe3a0",
   "metadata": {},
   "outputs": [],
   "source": [
    "import numpy as np\n",
    "import matplotlib.pyplot as plt\n",
    "from sklearn.ensemble import RandomForestRegressor\n",
    "from sklearn.metrics import mean_squared_error\n",
    "\n",
    "from numpy.random import default_rng\n",
    "rng = default_rng()"
   ]
  },
  {
   "cell_type": "code",
   "execution_count": 2,
   "id": "58f200eb-9b83-48a5-aa0c-513cd737f61b",
   "metadata": {},
   "outputs": [],
   "source": [
    "class LinearDataGen:\n",
    "    def __init__(self, n, p, s, rho=0.35, snr=3.52):\n",
    "        Sigma = np.zeros((p,p))\n",
    "        for i in range(p):\n",
    "            for j in range(p):\n",
    "                Sigma[i, j] = rho**(np.abs(i-j))\n",
    "        self.X = rng.multivariate_normal(np.zeros(p), Sigma, n)\n",
    "        self.beta = np.array([1.0*(i < s) for i in range(p)])\n",
    "        self.var = self.beta.T@Sigma@self.beta/snr\n",
    "        self.Y = self.X.dot(self.beta) + rng.normal(0, np.sqrt(self.var), n)"
   ]
  },
  {
   "cell_type": "code",
   "execution_count": 6,
   "id": "5b727dd7-452d-4918-ab77-a5a3f0083973",
   "metadata": {},
   "outputs": [],
   "source": [
    "def simRF(maxfeatures, maxnodes, n, p, s, snr=3.52, rho=0.35, nrep=500):\n",
    "    Y_pred = np.zeros((nrep, n))\n",
    "    Y = np.zeros((nrep, n))\n",
    "    for i in range(nrep):\n",
    "        data = LinearDataGen(n, p, s, rho=rho, snr=snr)\n",
    "        Y[i,:] = data.Y\n",
    "                      \n",
    "                      \n",
    "        model = RandomForestRegressor(max_leaf_nodes=int(maxnodes),\n",
    "                                      max_features=maxfeatures,\n",
    "                                      n_estimators=50, \n",
    "                                      criterion='squared_error',)\n",
    "        model.fit(data.X, data.Y)\n",
    "        Y_pred[i,:] = model.predict(data.X)\n",
    "        # print(mean_squared_error(Y[i,:], Y_pred[i,:]))\n",
    "        \n",
    "    cov_n = np.zeros(n)\n",
    "    for i in range(n):\n",
    "        cov_n[i] = np.cov(Y_pred[:,i], Y[:,i])[0][1]\n",
    "    df = np.sum(cov_n)/data.var\n",
    "    \n",
    "    return df"
   ]
  },
  {
   "cell_type": "code",
   "execution_count": 7,
   "id": "96b3a33d-297b-44d6-af8d-d12c64b8498c",
   "metadata": {},
   "outputs": [],
   "source": [
    "# Low \n",
    "n = 100\n",
    "p = 10\n",
    "s = 5\n",
    "mtryList = [3, 10]\n",
    "maxnodesList = np.ceil(np.linspace(2, 20, 9))\n",
    "\n",
    "dfs_low = np.zeros((len(mtryList), len(maxnodesList)))\n",
    "for (i, mtry) in enumerate(mtryList):\n",
    "    for (j, maxnodes) in enumerate(maxnodesList):\n",
    "        dfs_low[i, j] = simRF(mtry, maxnodes, n, p, s)"
   ]
  },
  {
   "cell_type": "code",
   "execution_count": null,
   "id": "41ae20c2-5f19-4769-8ed8-eda3e6e38fdc",
   "metadata": {},
   "outputs": [],
   "source": [
    "# Medium\n",
    "n = 500\n",
    "p = 100\n",
    "s = 5\n",
    "mtryList = [10, 33, 100]\n",
    "maxnodesList = np.ceil(np.linspace(2, 100, 9))\n",
    "\n",
    "dfs_med = np.zeros((len(mtryList), len(maxnodesList)))\n",
    "for (i, mtry) in enumerate(mtryList):\n",
    "    for (j, maxnodes) in enumerate(maxnodesList):\n",
    "        dfs_med[i, j] = simRF(mtry, maxnodes, n, p, s)"
   ]
  },
  {
   "cell_type": "code",
   "execution_count": null,
   "id": "d5884797-5b73-4d0d-a747-96cb509b589f",
   "metadata": {},
   "outputs": [],
   "source": [
    "# High\n",
    "n = 100\n",
    "p = 1000\n",
    "s = 10\n",
    "mtryList = [10, 33, 100]\n",
    "maxnodesList = np.ceil(np.linspace(2, 20, 9))\n",
    "\n",
    "dfs_high = np.zeros((len(mtryList), len(maxnodesList)))\n",
    "for (i, mtry) in enumerate(mtryList):\n",
    "    for (j, maxnodes) in enumerate(maxnodesList):\n",
    "        dfs_high[i, j] = simRF(mtry, maxnodes, n, p, s)"
   ]
  },
  {
   "cell_type": "code",
   "execution_count": 16,
   "id": "2bb46611-d218-4f35-bf81-835473656026",
   "metadata": {},
   "outputs": [
    {
     "data": {
      "image/png": "[encoded data removed]",
      "text/plain": [
       "<Figure size 432x288 with 1 Axes>"
      ]
     },
     "metadata": {
      "needs_background": "light"
     },
     "output_type": "display_data"
    }
   ],
   "source": [
    "plt.plot(np.ceil(np.linspace(2, 20, 9)), dfs_low.T)\n",
    "plt.show()"
   ]
  },
  {
   "cell_type": "markdown",
   "id": "0a9d66c0-4954-4b6c-8da1-50a2f504e233",
   "metadata": {},
   "source": [
    "I check my code many many times and also discuss my implementation with my mates. However, it can not generate satisfied results to reproduce the same figure in the paper.\n",
    "The main reason is that the implementation of random forest in scikit-learn is different from R.\n",
    "I try to tune the parameter to match default parameter in R. But it is hard to realize.\n",
    "Good thing is that the trend of the plot is consistent with the paper."
   ]
  },
  {
   "cell_type": "code",
   "execution_count": null,
   "id": "a9f2c48f-f215-40a1-a008-bd86812a6c73",
   "metadata": {},
   "outputs": [],
   "source": []
  }
 ],
 "metadata": {
  "kernelspec": {
   "display_name": "Python 3 (ipykernel)",
   "language": "python",
   "name": "python3"
  },
  "language_info": {
   "codemirror_mode": {
    "name": "ipython",
    "version": 3
   },
   "file_extension": ".py",
   "mimetype": "text/x-python",
   "name": "python",
   "nbconvert_exporter": "python",
   "pygments_lexer": "ipython3",
   "version": "3.7.11"
  }
 },
 "nbformat": 4,
 "nbformat_minor": 5
}
