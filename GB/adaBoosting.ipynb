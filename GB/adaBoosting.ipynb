{
 "cells": [
  {
   "cell_type": "markdown",
   "id": "dcad20b7-b516-4524-aa81-93dd70c8836d",
   "metadata": {},
   "source": [
    "Reproduce Fig 10.2 in Page 340, ESL"
   ]
  },
  {
   "cell_type": "code",
   "execution_count": 1,
   "id": "78c9b201-1593-4a23-b102-6759031f1d15",
   "metadata": {},
   "outputs": [],
   "source": [
    "import numpy as np\n",
    "import matplotlib.pyplot as plt \n",
    "from sklearn.model_selection import train_test_split\n",
    "from sklearn.metrics import accuracy_score\n",
    "from sklearn import tree\n",
    "from numpy.random import default_rng\n",
    "rng = default_rng(1)\n",
    "from scipy.stats import chi2"
   ]
  },
  {
   "cell_type": "code",
   "execution_count": 2,
   "id": "5225df12-bd13-43d1-acd4-501d51c6f0f6",
   "metadata": {},
   "outputs": [],
   "source": [
    "N_train = 2000\n",
    "N_test  = 10000\n",
    "X_train = rng.standard_normal((N_train, 10))\n",
    "X_test  = rng.standard_normal((N_test, 10))\n",
    "Y_train = np.sum(X_train ** 2, axis=1) < chi2.ppf(0.5, 10)\n",
    "Y_test  = np.sum(X_test  ** 2, axis=1) < chi2.ppf(0.5, 10)"
   ]
  },
  {
   "cell_type": "code",
   "execution_count": 3,
   "id": "1669aa32-3329-45d9-9ccd-23a2ddb4fb2d",
   "metadata": {},
   "outputs": [
    {
     "name": "stdout",
     "output_type": "stream",
     "text": [
      "0.45489999999999997\n"
     ]
    }
   ],
   "source": [
    "single_stump = tree.DecisionTreeClassifier(max_leaf_nodes=2)\n",
    "single_stump.fit(X_train, Y_train)\n",
    "single_stump_err = 1.0 - accuracy_score(Y_test, single_stump.predict(X_test))\n",
    "print(single_stump_err)"
   ]
  },
  {
   "cell_type": "code",
   "execution_count": 4,
   "id": "0a60559a-c9d8-49df-80c8-29618a92a446",
   "metadata": {},
   "outputs": [
    {
     "name": "stdout",
     "output_type": "stream",
     "text": [
      "0.25749999999999995\n"
     ]
    }
   ],
   "source": [
    "_244_node_tree = tree.DecisionTreeClassifier(max_leaf_nodes=244)\n",
    "_244_node_tree.fit(X_train, Y_train)\n",
    "_244_node_tree_err = 1-accuracy_score(_244_node_tree.predict(X_test), Y_test)\n",
    "print(_244_node_tree_err)"
   ]
  },
  {
   "cell_type": "code",
   "execution_count": 5,
   "id": "0b4acf9a-0d75-4922-b6b9-abc35ae6fcc3",
   "metadata": {},
   "outputs": [],
   "source": [
    "G, alpha, M = [], [], 400\n",
    "w = np.array([1.0/N_train]*N_train)"
   ]
  },
  {
   "cell_type": "code",
   "execution_count": 6,
   "id": "954c58fa-05b9-4e8a-8d88-48a84ec6044d",
   "metadata": {},
   "outputs": [],
   "source": [
    "for i in range(M):\n",
    "    dtc = tree.DecisionTreeClassifier(max_leaf_nodes=2)\n",
    "    dtc.fit(X_train, Y_train, sample_weight=w)\n",
    "    Y_train_hat = dtc.predict(X_train)\n",
    "    err = np.sum((Y_train_hat!=Y_train)*w)/np.sum(w)\n",
    "    alpha_i = np.log((1-err)/err)\n",
    "    w = w * np.exp(alpha_i * (Y_train_hat != Y_train))\n",
    "    G.append(dtc)\n",
    "    alpha.append(alpha_i)"
   ]
  },
  {
   "cell_type": "code",
   "execution_count": 7,
   "id": "7ce08c16-f54f-4bbf-9018-aea20c15092f",
   "metadata": {},
   "outputs": [],
   "source": [
    "ite_err_s = []\n",
    "nrep = 1\n",
    "for n in range(nrep):\n",
    "    iterations_err = []\n",
    "    X_test  = rng.standard_normal((N_test, 10))\n",
    "    Y_test  = np.sum(X_test  ** 2, axis=1) < chi2.ppf(0.5, 10)\n",
    "    Y_test_hat = np.zeros(N_test)\n",
    "    for i in range(M):\n",
    "        tmp = 0 + G[i].predict(X_test)\n",
    "        tmp [ tmp == 0 ] = -1\n",
    "        Y_test_hat += alpha[i] * tmp \n",
    "        iterations_err.append(1-accuracy_score(np.sign(Y_test_hat) == 1, Y_test))\n",
    "    ite_err_s.append(iterations_err)"
   ]
  },
  {
   "cell_type": "code",
   "execution_count": 8,
   "id": "560b178f-c587-4d57-b8e4-2484ea04fd1c",
   "metadata": {},
   "outputs": [],
   "source": [
    "iterations_err = np.mean(np.array(ite_err_s), axis=0)"
   ]
  },
  {
   "cell_type": "code",
   "execution_count": 11,
   "id": "cfb647e2-cf50-4e69-842f-9cb6508e7a67",
   "metadata": {},
   "outputs": [
    {
     "data": {
      "image/png": "[encoded data removed]",
      "text/plain": [
       "<Figure size 432x432 with 1 Axes>"
      ]
     },
     "metadata": {
      "needs_background": "light"
     },
     "output_type": "display_data"
    }
   ],
   "source": [
    "fig= plt.figure(figsize=(6, 6))\n",
    "ax = fig.gca()\n",
    "# ax.plot(range(400), np.array(ite_err_s).T)\n",
    "ax.plot(range(0, 400), np.array(ite_err_s)[0,:])\n",
    "ax.axhline(single_stump_err, color='gray', linewidth=0.5)\n",
    "ax.axhline(_244_node_tree_err, color='gray', linewidth=0.5)\n",
    "plt.ylim(-0.05, 0.55)\n",
    "plt.show()"
   ]
  },
  {
   "cell_type": "code",
   "execution_count": null,
   "id": "da9404bf-dff4-4f12-93f5-ce01d5921281",
   "metadata": {},
   "outputs": [],
   "source": [
    "# fig= plt.figure(figsize=(24, 6))\n",
    "# ax = fig.gca()\n",
    "# ax.plot(range(M), iterations_err)\n",
    "# ax.axhline(single_stump_err, color='gray', linewidth=0.5)\n",
    "# ax.axhline(_244_node_tree_err, color='gray', linewidth=0.5)\n",
    "# plt.ylim(-0.05, 0.55)\n",
    "# plt.show()"
   ]
  },
  {
   "cell_type": "code",
   "execution_count": null,
   "id": "fec752e3-d8e4-4776-a135-151246a91ad1",
   "metadata": {},
   "outputs": [],
   "source": []
  }
 ],
 "metadata": {
  "kernelspec": {
   "display_name": "Python 3 (ipykernel)",
   "language": "python",
   "name": "python3"
  },
  "language_info": {
   "codemirror_mode": {
    "name": "ipython",
    "version": 3
   },
   "file_extension": ".py",
   "mimetype": "text/x-python",
   "name": "python",
   "nbconvert_exporter": "python",
   "pygments_lexer": "ipython3",
   "version": "3.7.11"
  }
 },
 "nbformat": 4,
 "nbformat_minor": 5
}
