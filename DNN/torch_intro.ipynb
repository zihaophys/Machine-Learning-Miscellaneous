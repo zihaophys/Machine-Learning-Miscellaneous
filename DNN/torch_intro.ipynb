{
 "cells": [
  {
   "cell_type": "markdown",
   "metadata": {},
   "source": [
    "### Data Loader"
   ]
  },
  {
   "cell_type": "code",
   "execution_count": 1,
   "metadata": {},
   "outputs": [],
   "source": [
    "import torch\n",
    "from torch.utils.data import Dataset\n",
    "from torchvision import datasets\n",
    "from torchvision.transforms import ToTensor, Lambda\n",
    "import matplotlib.pyplot as plt"
   ]
  },
  {
   "cell_type": "code",
   "execution_count": 2,
   "metadata": {},
   "outputs": [],
   "source": [
    "training_data = datasets.FashionMNIST(root='.', train=True, download=True, transform=ToTensor())\n",
    "test_data = datasets.FashionMNIST(root='.', train=False, download=True, transform=ToTensor())"
   ]
  },
  {
   "cell_type": "code",
   "execution_count": 3,
   "metadata": {
    "scrolled": true
   },
   "outputs": [
    {
     "data": {
      "text/plain": [
       "(tensor([[[0.0000, 0.0000, 0.0000, 0.0000, 0.0000, 0.0000, 0.0000, 0.0000,\n",
       "           0.0000, 0.0000, 0.0000, 0.0000, 0.0000, 0.0000, 0.0000, 0.0000,\n",
       "           0.0000, 0.0000, 0.0000, 0.0000, 0.0000, 0.0000, 0.0000, 0.0000,\n",
       "           0.0000, 0.0000, 0.0000, 0.0000],\n",
       "          [0.0000, 0.0000, 0.0000, 0.0000, 0.0000, 0.0000, 0.0000, 0.0000,\n",
       "           0.0000, 0.0000, 0.0000, 0.0000, 0.0000, 0.0000, 0.0000, 0.0000,\n",
       "           0.0000, 0.0000, 0.0000, 0.0000, 0.0000, 0.0000, 0.0000, 0.0000,\n",
       "           0.0000, 0.0000, 0.0000, 0.0000],\n",
       "          [0.0000, 0.0000, 0.0000, 0.0000, 0.0000, 0.0000, 0.0000, 0.0000,\n",
       "           0.0000, 0.0000, 0.0000, 0.0000, 0.0000, 0.0000, 0.0000, 0.0000,\n",
       "           0.0000, 0.0000, 0.0000, 0.0000, 0.0000, 0.0000, 0.0000, 0.0000,\n",
       "           0.0000, 0.0000, 0.0000, 0.0000],\n",
       "          [0.0000, 0.0000, 0.0000, 0.0000, 0.0000, 0.0000, 0.0000, 0.0000,\n",
       "           0.0000, 0.0000, 0.0000, 0.0000, 0.0039, 0.0000, 0.0000, 0.0510,\n",
       "           0.2863, 0.0000, 0.0000, 0.0039, 0.0157, 0.0000, 0.0000, 0.0000,\n",
       "           0.0000, 0.0039, 0.0039, 0.0000],\n",
       "          [0.0000, 0.0000, 0.0000, 0.0000, 0.0000, 0.0000, 0.0000, 0.0000,\n",
       "           0.0000, 0.0000, 0.0000, 0.0000, 0.0118, 0.0000, 0.1412, 0.5333,\n",
       "           0.4980, 0.2431, 0.2118, 0.0000, 0.0000, 0.0000, 0.0039, 0.0118,\n",
       "           0.0157, 0.0000, 0.0000, 0.0118],\n",
       "          [0.0000, 0.0000, 0.0000, 0.0000, 0.0000, 0.0000, 0.0000, 0.0000,\n",
       "           0.0000, 0.0000, 0.0000, 0.0000, 0.0235, 0.0000, 0.4000, 0.8000,\n",
       "           0.6902, 0.5255, 0.5647, 0.4824, 0.0902, 0.0000, 0.0000, 0.0000,\n",
       "           0.0000, 0.0471, 0.0392, 0.0000],\n",
       "          [0.0000, 0.0000, 0.0000, 0.0000, 0.0000, 0.0000, 0.0000, 0.0000,\n",
       "           0.0000, 0.0000, 0.0000, 0.0000, 0.0000, 0.0000, 0.6078, 0.9255,\n",
       "           0.8118, 0.6980, 0.4196, 0.6118, 0.6314, 0.4275, 0.2510, 0.0902,\n",
       "           0.3020, 0.5098, 0.2824, 0.0588],\n",
       "          [0.0000, 0.0000, 0.0000, 0.0000, 0.0000, 0.0000, 0.0000, 0.0000,\n",
       "           0.0000, 0.0000, 0.0000, 0.0039, 0.0000, 0.2706, 0.8118, 0.8745,\n",
       "           0.8549, 0.8471, 0.8471, 0.6392, 0.4980, 0.4745, 0.4784, 0.5725,\n",
       "           0.5529, 0.3451, 0.6745, 0.2588],\n",
       "          [0.0000, 0.0000, 0.0000, 0.0000, 0.0000, 0.0000, 0.0000, 0.0000,\n",
       "           0.0000, 0.0039, 0.0039, 0.0039, 0.0000, 0.7843, 0.9098, 0.9098,\n",
       "           0.9137, 0.8980, 0.8745, 0.8745, 0.8431, 0.8353, 0.6431, 0.4980,\n",
       "           0.4824, 0.7686, 0.8980, 0.0000],\n",
       "          [0.0000, 0.0000, 0.0000, 0.0000, 0.0000, 0.0000, 0.0000, 0.0000,\n",
       "           0.0000, 0.0000, 0.0000, 0.0000, 0.0000, 0.7176, 0.8824, 0.8471,\n",
       "           0.8745, 0.8941, 0.9216, 0.8902, 0.8784, 0.8706, 0.8784, 0.8667,\n",
       "           0.8745, 0.9608, 0.6784, 0.0000],\n",
       "          [0.0000, 0.0000, 0.0000, 0.0000, 0.0000, 0.0000, 0.0000, 0.0000,\n",
       "           0.0000, 0.0000, 0.0000, 0.0000, 0.0000, 0.7569, 0.8941, 0.8549,\n",
       "           0.8353, 0.7765, 0.7059, 0.8314, 0.8235, 0.8275, 0.8353, 0.8745,\n",
       "           0.8627, 0.9529, 0.7922, 0.0000],\n",
       "          [0.0000, 0.0000, 0.0000, 0.0000, 0.0000, 0.0000, 0.0000, 0.0000,\n",
       "           0.0000, 0.0039, 0.0118, 0.0000, 0.0471, 0.8588, 0.8627, 0.8314,\n",
       "           0.8549, 0.7529, 0.6627, 0.8902, 0.8157, 0.8549, 0.8784, 0.8314,\n",
       "           0.8863, 0.7725, 0.8196, 0.2039],\n",
       "          [0.0000, 0.0000, 0.0000, 0.0000, 0.0000, 0.0000, 0.0000, 0.0000,\n",
       "           0.0000, 0.0000, 0.0235, 0.0000, 0.3882, 0.9569, 0.8706, 0.8627,\n",
       "           0.8549, 0.7961, 0.7765, 0.8667, 0.8431, 0.8353, 0.8706, 0.8627,\n",
       "           0.9608, 0.4667, 0.6549, 0.2196],\n",
       "          [0.0000, 0.0000, 0.0000, 0.0000, 0.0000, 0.0000, 0.0000, 0.0000,\n",
       "           0.0000, 0.0157, 0.0000, 0.0000, 0.2157, 0.9255, 0.8941, 0.9020,\n",
       "           0.8941, 0.9412, 0.9098, 0.8353, 0.8549, 0.8745, 0.9176, 0.8510,\n",
       "           0.8510, 0.8196, 0.3608, 0.0000],\n",
       "          [0.0000, 0.0000, 0.0039, 0.0157, 0.0235, 0.0275, 0.0078, 0.0000,\n",
       "           0.0000, 0.0000, 0.0000, 0.0000, 0.9294, 0.8863, 0.8510, 0.8745,\n",
       "           0.8706, 0.8588, 0.8706, 0.8667, 0.8471, 0.8745, 0.8980, 0.8431,\n",
       "           0.8549, 1.0000, 0.3020, 0.0000],\n",
       "          [0.0000, 0.0118, 0.0000, 0.0000, 0.0000, 0.0000, 0.0000, 0.0000,\n",
       "           0.0000, 0.2431, 0.5686, 0.8000, 0.8941, 0.8118, 0.8353, 0.8667,\n",
       "           0.8549, 0.8157, 0.8275, 0.8549, 0.8784, 0.8745, 0.8588, 0.8431,\n",
       "           0.8784, 0.9569, 0.6235, 0.0000],\n",
       "          [0.0000, 0.0000, 0.0000, 0.0000, 0.0706, 0.1725, 0.3216, 0.4196,\n",
       "           0.7412, 0.8941, 0.8627, 0.8706, 0.8510, 0.8863, 0.7843, 0.8039,\n",
       "           0.8275, 0.9020, 0.8784, 0.9176, 0.6902, 0.7373, 0.9804, 0.9725,\n",
       "           0.9137, 0.9333, 0.8431, 0.0000],\n",
       "          [0.0000, 0.2235, 0.7333, 0.8157, 0.8784, 0.8667, 0.8784, 0.8157,\n",
       "           0.8000, 0.8392, 0.8157, 0.8196, 0.7843, 0.6235, 0.9608, 0.7569,\n",
       "           0.8078, 0.8745, 1.0000, 1.0000, 0.8667, 0.9176, 0.8667, 0.8275,\n",
       "           0.8627, 0.9098, 0.9647, 0.0000],\n",
       "          [0.0118, 0.7922, 0.8941, 0.8784, 0.8667, 0.8275, 0.8275, 0.8392,\n",
       "           0.8039, 0.8039, 0.8039, 0.8627, 0.9412, 0.3137, 0.5882, 1.0000,\n",
       "           0.8980, 0.8667, 0.7373, 0.6039, 0.7490, 0.8235, 0.8000, 0.8196,\n",
       "           0.8706, 0.8941, 0.8824, 0.0000],\n",
       "          [0.3843, 0.9137, 0.7765, 0.8235, 0.8706, 0.8980, 0.8980, 0.9176,\n",
       "           0.9765, 0.8627, 0.7608, 0.8431, 0.8510, 0.9451, 0.2549, 0.2863,\n",
       "           0.4157, 0.4588, 0.6588, 0.8588, 0.8667, 0.8431, 0.8510, 0.8745,\n",
       "           0.8745, 0.8784, 0.8980, 0.1137],\n",
       "          [0.2941, 0.8000, 0.8314, 0.8000, 0.7569, 0.8039, 0.8275, 0.8824,\n",
       "           0.8471, 0.7255, 0.7725, 0.8078, 0.7765, 0.8353, 0.9412, 0.7647,\n",
       "           0.8902, 0.9608, 0.9373, 0.8745, 0.8549, 0.8314, 0.8196, 0.8706,\n",
       "           0.8627, 0.8667, 0.9020, 0.2627],\n",
       "          [0.1882, 0.7961, 0.7176, 0.7608, 0.8353, 0.7725, 0.7255, 0.7451,\n",
       "           0.7608, 0.7529, 0.7922, 0.8392, 0.8588, 0.8667, 0.8627, 0.9255,\n",
       "           0.8824, 0.8471, 0.7804, 0.8078, 0.7294, 0.7098, 0.6941, 0.6745,\n",
       "           0.7098, 0.8039, 0.8078, 0.4510],\n",
       "          [0.0000, 0.4784, 0.8588, 0.7569, 0.7020, 0.6706, 0.7176, 0.7686,\n",
       "           0.8000, 0.8235, 0.8353, 0.8118, 0.8275, 0.8235, 0.7843, 0.7686,\n",
       "           0.7608, 0.7490, 0.7647, 0.7490, 0.7765, 0.7529, 0.6902, 0.6118,\n",
       "           0.6549, 0.6941, 0.8235, 0.3608],\n",
       "          [0.0000, 0.0000, 0.2902, 0.7412, 0.8314, 0.7490, 0.6863, 0.6745,\n",
       "           0.6863, 0.7098, 0.7255, 0.7373, 0.7412, 0.7373, 0.7569, 0.7765,\n",
       "           0.8000, 0.8196, 0.8235, 0.8235, 0.8275, 0.7373, 0.7373, 0.7608,\n",
       "           0.7529, 0.8471, 0.6667, 0.0000],\n",
       "          [0.0078, 0.0000, 0.0000, 0.0000, 0.2588, 0.7843, 0.8706, 0.9294,\n",
       "           0.9373, 0.9490, 0.9647, 0.9529, 0.9569, 0.8667, 0.8627, 0.7569,\n",
       "           0.7490, 0.7020, 0.7137, 0.7137, 0.7098, 0.6902, 0.6510, 0.6588,\n",
       "           0.3882, 0.2275, 0.0000, 0.0000],\n",
       "          [0.0000, 0.0000, 0.0000, 0.0000, 0.0000, 0.0000, 0.0000, 0.1569,\n",
       "           0.2392, 0.1725, 0.2824, 0.1608, 0.1373, 0.0000, 0.0000, 0.0000,\n",
       "           0.0000, 0.0000, 0.0000, 0.0000, 0.0000, 0.0000, 0.0000, 0.0000,\n",
       "           0.0000, 0.0000, 0.0000, 0.0000],\n",
       "          [0.0000, 0.0000, 0.0000, 0.0000, 0.0000, 0.0000, 0.0000, 0.0000,\n",
       "           0.0000, 0.0000, 0.0000, 0.0000, 0.0000, 0.0000, 0.0000, 0.0000,\n",
       "           0.0000, 0.0000, 0.0000, 0.0000, 0.0000, 0.0000, 0.0000, 0.0000,\n",
       "           0.0000, 0.0000, 0.0000, 0.0000],\n",
       "          [0.0000, 0.0000, 0.0000, 0.0000, 0.0000, 0.0000, 0.0000, 0.0000,\n",
       "           0.0000, 0.0000, 0.0000, 0.0000, 0.0000, 0.0000, 0.0000, 0.0000,\n",
       "           0.0000, 0.0000, 0.0000, 0.0000, 0.0000, 0.0000, 0.0000, 0.0000,\n",
       "           0.0000, 0.0000, 0.0000, 0.0000]]]),\n",
       " 9)"
      ]
     },
     "execution_count": 3,
     "metadata": {},
     "output_type": "execute_result"
    }
   ],
   "source": [
    "training_data[0]"
   ]
  },
  {
   "cell_type": "code",
   "execution_count": 4,
   "metadata": {},
   "outputs": [],
   "source": [
    "labels_map = {\n",
    "    0: \"T-Shirt\",\n",
    "    1: \"Trouser\",\n",
    "    2: \"Pullover\",\n",
    "    3: \"Dress\",\n",
    "    4: \"Coat\",\n",
    "    5: \"Sandal\",\n",
    "    6: \"Shirt\",\n",
    "    7: \"Sneaker\",\n",
    "    8: \"Bag\",\n",
    "    9: \"Ankle Boot\",\n",
    "}"
   ]
  },
  {
   "cell_type": "code",
   "execution_count": 5,
   "metadata": {},
   "outputs": [
    {
     "data": {
      "image/png": "[encoded data removed]",
      "text/plain": [
       "<Figure size 576x576 with 9 Axes>"
      ]
     },
     "metadata": {
      "needs_background": "light"
     },
     "output_type": "display_data"
    }
   ],
   "source": [
    "fig, ax = plt.subplots(3, 3, figsize=(8,8))\n",
    "cols, rows = 3, 3\n",
    "for col in range(cols):\n",
    "    for row in range(rows):\n",
    "        sample_idx = torch.randint(len(training_data), size=(1,)).item()\n",
    "        img, label = training_data[sample_idx]\n",
    "        ax[col][row].set_title(f'{labels_map[label]}')\n",
    "        ax[col][row].imshow(img.squeeze(), cmap='gray')\n",
    "        ax[col][row].axis('off')\n",
    "plt.show()"
   ]
  },
  {
   "cell_type": "code",
   "execution_count": 6,
   "metadata": {},
   "outputs": [],
   "source": [
    "import os\n",
    "import pandas as pd\n",
    "import torchvision.io as tvio\n",
    "\n",
    "class CustomImageDataset(Dataset):\n",
    "    def __init__(self, annotations_file, img_dir, transform=None, target_transform=None):\n",
    "        self.img_labels = pd.read_csv(annotations_file)\n",
    "        self.img_dir = img_dir\n",
    "        self.transform = transform\n",
    "        self.target_transform = target_transform\n",
    "    def __len__(self):\n",
    "        return len(self.img_labels)\n",
    "    def __getitem__(self, idx):\n",
    "        img_path = os.path.join(self.img_dir, self.img_labels.iloc[idx, 0])\n",
    "        image = tvio.read_image(img_path)\n",
    "        label = self.img_labels.iloc[idx, 1]\n",
    "        if self.transform:\n",
    "            image = self.transform(image)\n",
    "        if self.target_transform:\n",
    "            label = self.target_transform(label)\n",
    "        sample = {'image': image, 'label': label}\n",
    "        return sample"
   ]
  },
  {
   "cell_type": "code",
   "execution_count": 7,
   "metadata": {},
   "outputs": [],
   "source": [
    "from torch.utils.data import DataLoader\n",
    "\n",
    "training_dataloader = DataLoader(training_data, batch_size=64, shuffle=True)\n",
    "test_dataloader = DataLoader(test_data, batch_size=64, shuffle=True)"
   ]
  },
  {
   "cell_type": "code",
   "execution_count": 8,
   "metadata": {},
   "outputs": [
    {
     "name": "stdout",
     "output_type": "stream",
     "text": [
      "torch.Size([64, 1, 28, 28]) torch.Size([64])\n"
     ]
    },
    {
     "data": {
      "image/png": "[encoded data removed]",
      "text/plain": [
       "<Figure size 432x288 with 1 Axes>"
      ]
     },
     "metadata": {
      "needs_background": "light"
     },
     "output_type": "display_data"
    }
   ],
   "source": [
    "train_features, train_labels = next(iter(training_dataloader))\n",
    "print(train_features.size(), train_labels.size())\n",
    "img = train_features[0].squeeze()\n",
    "label = train_labels[0]\n",
    "plt.imshow(img, cmap='gray')\n",
    "plt.title(labels_map[label.item()])\n",
    "plt.show()"
   ]
  },
  {
   "cell_type": "code",
   "execution_count": 9,
   "metadata": {},
   "outputs": [
    {
     "data": {
      "text/plain": [
       "tensor([7, 3, 5, 2, 0, 3, 0, 7, 3, 2, 2, 3, 8, 0, 1, 6, 4, 2, 4, 0, 6, 7, 6, 9,\n",
       "        1, 1, 5, 5, 2, 3, 6, 7, 8, 5, 8, 7, 0, 5, 6, 5, 9, 8, 1, 0, 3, 8, 1, 1,\n",
       "        3, 1, 5, 7, 6, 3, 1, 0, 9, 8, 8, 9, 5, 8, 9, 1])"
      ]
     },
     "execution_count": 9,
     "metadata": {},
     "output_type": "execute_result"
    }
   ],
   "source": [
    "train_labels"
   ]
  },
  {
   "cell_type": "code",
   "execution_count": 10,
   "metadata": {},
   "outputs": [],
   "source": [
    "ds = datasets.FashionMNIST(\n",
    "    root='.',\n",
    "    train=True,\n",
    "    download=True,\n",
    "    transform=ToTensor(),\n",
    "    target_transform=Lambda(lambda y: torch.zeros(10, dtype=torch.float).scatter_(0, torch.tensor(y), value=1))\n",
    ")"
   ]
  },
  {
   "cell_type": "code",
   "execution_count": 11,
   "metadata": {},
   "outputs": [],
   "source": [
    "from torch import nn"
   ]
  },
  {
   "cell_type": "code",
   "execution_count": 12,
   "metadata": {},
   "outputs": [],
   "source": [
    "class NeuralNetwork(nn.Module):\n",
    "    def __init__(self):\n",
    "        super(NeuralNetwork, self).__init__()\n",
    "        self.flatten = nn.Flatten()\n",
    "        self.line_relu_stack = nn.Sequential(\n",
    "            nn.Linear(28*28, 512), \n",
    "            nn.ReLU(),\n",
    "            nn.Linear(512, 512),\n",
    "            nn.ReLU(),\n",
    "            nn.Linear(512, 10),\n",
    "            nn.ReLU()\n",
    "        )\n",
    "    def forward(self, x):\n",
    "        x = self.flatten(x)\n",
    "        logits = self.line_relu_stack(x)\n",
    "        return logits"
   ]
  },
  {
   "cell_type": "code",
   "execution_count": 13,
   "metadata": {},
   "outputs": [
    {
     "data": {
      "text/plain": [
       "NeuralNetwork(\n",
       "  (flatten): Flatten(start_dim=1, end_dim=-1)\n",
       "  (line_relu_stack): Sequential(\n",
       "    (0): Linear(in_features=784, out_features=512, bias=True)\n",
       "    (1): ReLU()\n",
       "    (2): Linear(in_features=512, out_features=512, bias=True)\n",
       "    (3): ReLU()\n",
       "    (4): Linear(in_features=512, out_features=10, bias=True)\n",
       "    (5): ReLU()\n",
       "  )\n",
       ")"
      ]
     },
     "execution_count": 13,
     "metadata": {},
     "output_type": "execute_result"
    }
   ],
   "source": [
    "model = NeuralNetwork().to('cpu')\n",
    "model"
   ]
  },
  {
   "cell_type": "code",
   "execution_count": 14,
   "metadata": {},
   "outputs": [
    {
     "name": "stdout",
     "output_type": "stream",
     "text": [
      "tensor([9])\n"
     ]
    }
   ],
   "source": [
    "X = torch.rand(1, 28, 28)\n",
    "logits = model(X)\n",
    "pred_probab = nn.Softmax(dim=1)(logits)\n",
    "y_pred = pred_probab.argmax(1)\n",
    "print(y_pred)"
   ]
  },
  {
   "cell_type": "code",
   "execution_count": 15,
   "metadata": {},
   "outputs": [
    {
     "name": "stdout",
     "output_type": "stream",
     "text": [
      "torch.Size([3, 28, 28])\n"
     ]
    }
   ],
   "source": [
    "input_image = torch.rand(3, 28, 28)\n",
    "print(input_image.size())"
   ]
  },
  {
   "cell_type": "code",
   "execution_count": 16,
   "metadata": {},
   "outputs": [],
   "source": [
    "flatten = nn.Flatten()\n",
    "flat_image = flatten(input_image)"
   ]
  },
  {
   "cell_type": "code",
   "execution_count": 17,
   "metadata": {},
   "outputs": [
    {
     "data": {
      "text/plain": [
       "Softmax(\n",
       "  dim=tensor([[0.0265, 0.0509, 0.0348, 0.0322, 0.0000, 0.0675, 0.0122, 0.0000, 0.0830,\n",
       "           0.1323],\n",
       "          [0.0000, 0.0000, 0.0887, 0.0347, 0.0000, 0.0116, 0.0000, 0.0000, 0.0950,\n",
       "           0.0967],\n",
       "          [0.0000, 0.0188, 0.0545, 0.0000, 0.0000, 0.0412, 0.0274, 0.0000, 0.1186,\n",
       "           0.1294]], grad_fn=<ReluBackward0>)\n",
       ")"
      ]
     },
     "execution_count": 17,
     "metadata": {},
     "output_type": "execute_result"
    }
   ],
   "source": [
    "nn.Softmax(model(input_image))"
   ]
  },
  {
   "cell_type": "code",
   "execution_count": 18,
   "metadata": {},
   "outputs": [
    {
     "name": "stdout",
     "output_type": "stream",
     "text": [
      "torch.Size([3, 20])\n"
     ]
    }
   ],
   "source": [
    "layer1 = nn.Linear(in_features=28*28, out_features=20)\n",
    "hidden1 = layer1(flat_image)\n",
    "print(hidden1.size())"
   ]
  },
  {
   "cell_type": "code",
   "execution_count": 19,
   "metadata": {},
   "outputs": [
    {
     "name": "stdout",
     "output_type": "stream",
     "text": [
      "Before ReLU: tensor([[ 0.0975, -0.4646,  0.8462, -0.0069, -0.3134, -0.2323,  0.0871, -0.0360,\n",
      "          0.1074, -0.5857,  0.1789, -0.4663, -0.3879, -0.6277, -0.1654,  0.4049,\n",
      "         -0.0798,  0.1764, -0.1328,  0.0728],\n",
      "        [ 0.1507, -0.1780,  0.7024,  0.0518,  0.0339,  0.1202, -0.1751, -0.3060,\n",
      "          0.2260, -0.3171, -0.2287, -0.3181, -0.3682, -0.6227, -0.0925,  0.7629,\n",
      "         -0.4109,  0.1618,  0.0802,  0.2609],\n",
      "        [ 0.1692, -0.6434,  0.4929,  0.1156,  0.1868, -0.0598,  0.0068, -0.1408,\n",
      "          0.2723, -0.3340, -0.4527, -0.2687, -0.2330, -0.6454, -0.1590,  0.6010,\n",
      "          0.0899,  0.1846,  0.0175,  0.2703]], grad_fn=<AddmmBackward>)\n",
      "\n",
      "\n",
      "After ReLU: tensor([[0.0975, 0.0000, 0.8462, 0.0000, 0.0000, 0.0000, 0.0871, 0.0000, 0.1074,\n",
      "         0.0000, 0.1789, 0.0000, 0.0000, 0.0000, 0.0000, 0.4049, 0.0000, 0.1764,\n",
      "         0.0000, 0.0728],\n",
      "        [0.1507, 0.0000, 0.7024, 0.0518, 0.0339, 0.1202, 0.0000, 0.0000, 0.2260,\n",
      "         0.0000, 0.0000, 0.0000, 0.0000, 0.0000, 0.0000, 0.7629, 0.0000, 0.1618,\n",
      "         0.0802, 0.2609],\n",
      "        [0.1692, 0.0000, 0.4929, 0.1156, 0.1868, 0.0000, 0.0068, 0.0000, 0.2723,\n",
      "         0.0000, 0.0000, 0.0000, 0.0000, 0.0000, 0.0000, 0.6010, 0.0899, 0.1846,\n",
      "         0.0175, 0.2703]], grad_fn=<ReluBackward0>)\n"
     ]
    }
   ],
   "source": [
    "print(f\"Before ReLU: {hidden1}\\n\\n\")\n",
    "hidden1 = nn.ReLU()(hidden1)\n",
    "print(f\"After ReLU: {hidden1}\")"
   ]
  },
  {
   "cell_type": "code",
   "execution_count": 20,
   "metadata": {},
   "outputs": [],
   "source": [
    "seq_modules = nn.Sequential(\n",
    "    flatten,\n",
    "    layer1,\n",
    "    nn.ReLU(),\n",
    "    nn.Linear(20, 10)\n",
    ")\n",
    "input_image = torch.rand(3,28,28)\n",
    "logits = seq_modules(input_image)"
   ]
  },
  {
   "cell_type": "code",
   "execution_count": 21,
   "metadata": {},
   "outputs": [
    {
     "data": {
      "text/plain": [
       "torch.Size([3, 10])"
      ]
     },
     "execution_count": 21,
     "metadata": {},
     "output_type": "execute_result"
    }
   ],
   "source": [
    "logits.size()"
   ]
  },
  {
   "cell_type": "code",
   "execution_count": 22,
   "metadata": {},
   "outputs": [],
   "source": [
    "softmax = nn.Softmax(dim=1)\n",
    "pred_probab = softmax(logits)"
   ]
  },
  {
   "cell_type": "code",
   "execution_count": 23,
   "metadata": {},
   "outputs": [
    {
     "data": {
      "text/plain": [
       "tensor([[0.1217, 0.1230, 0.0770, 0.0914, 0.1327, 0.0812, 0.0721, 0.0997, 0.0735,\n",
       "         0.1276],\n",
       "        [0.0990, 0.1320, 0.0886, 0.0974, 0.1275, 0.0721, 0.0765, 0.0919, 0.0706,\n",
       "         0.1443],\n",
       "        [0.1140, 0.1261, 0.0912, 0.0845, 0.1257, 0.0804, 0.0884, 0.0922, 0.0788,\n",
       "         0.1187]], grad_fn=<SoftmaxBackward>)"
      ]
     },
     "execution_count": 23,
     "metadata": {},
     "output_type": "execute_result"
    }
   ],
   "source": [
    "pred_probab"
   ]
  },
  {
   "cell_type": "code",
   "execution_count": 24,
   "metadata": {},
   "outputs": [
    {
     "name": "stdout",
     "output_type": "stream",
     "text": [
      "Model structure:  NeuralNetwork(\n",
      "  (flatten): Flatten(start_dim=1, end_dim=-1)\n",
      "  (line_relu_stack): Sequential(\n",
      "    (0): Linear(in_features=784, out_features=512, bias=True)\n",
      "    (1): ReLU()\n",
      "    (2): Linear(in_features=512, out_features=512, bias=True)\n",
      "    (3): ReLU()\n",
      "    (4): Linear(in_features=512, out_features=10, bias=True)\n",
      "    (5): ReLU()\n",
      "  )\n",
      ") \n",
      "\n",
      "\n",
      "Layer: line_relu_stack.0.weight | Size: torch.Size([512, 784]) | Values : tensor([[ 0.0030, -0.0014, -0.0338,  ..., -0.0317,  0.0328,  0.0008],\n",
      "        [ 0.0017, -0.0186,  0.0080,  ...,  0.0103,  0.0021, -0.0264]],\n",
      "       grad_fn=<SliceBackward>) \n",
      "\n",
      "Layer: line_relu_stack.0.bias | Size: torch.Size([512]) | Values : tensor([-0.0073,  0.0020], grad_fn=<SliceBackward>) \n",
      "\n",
      "Layer: line_relu_stack.2.weight | Size: torch.Size([512, 512]) | Values : tensor([[-0.0258, -0.0167, -0.0431,  ...,  0.0419, -0.0111, -0.0097],\n",
      "        [ 0.0206,  0.0069, -0.0058,  ...,  0.0007, -0.0121, -0.0032]],\n",
      "       grad_fn=<SliceBackward>) \n",
      "\n",
      "Layer: line_relu_stack.2.bias | Size: torch.Size([512]) | Values : tensor([-0.0156,  0.0128], grad_fn=<SliceBackward>) \n",
      "\n",
      "Layer: line_relu_stack.4.weight | Size: torch.Size([10, 512]) | Values : tensor([[ 0.0354,  0.0051,  0.0279,  ..., -0.0012,  0.0432, -0.0202],\n",
      "        [ 0.0365, -0.0044, -0.0097,  ...,  0.0325, -0.0363, -0.0345]],\n",
      "       grad_fn=<SliceBackward>) \n",
      "\n",
      "Layer: line_relu_stack.4.bias | Size: torch.Size([10]) | Values : tensor([0.0023, 0.0436], grad_fn=<SliceBackward>) \n",
      "\n"
     ]
    }
   ],
   "source": [
    "print(\"Model structure: \", model, \"\\n\\n\")\n",
    "\n",
    "for name, param in model.named_parameters():\n",
    "    print(f\"Layer: {name} | Size: {param.size()} | Values : {param[:2]} \\n\")"
   ]
  },
  {
   "cell_type": "code",
   "execution_count": null,
   "metadata": {},
   "outputs": [],
   "source": []
  },
  {
   "cell_type": "code",
   "execution_count": null,
   "metadata": {},
   "outputs": [],
   "source": []
  },
  {
   "cell_type": "code",
   "execution_count": null,
   "metadata": {},
   "outputs": [],
   "source": []
  },
  {
   "cell_type": "code",
   "execution_count": 25,
   "metadata": {},
   "outputs": [],
   "source": [
    "import torch\n",
    "from torch import nn\n",
    "from torch.utils.data import DataLoader\n",
    "from torchvision import datasets\n",
    "from torchvision.transforms import ToTensor, Lambda"
   ]
  },
  {
   "cell_type": "code",
   "execution_count": 26,
   "metadata": {},
   "outputs": [
    {
     "data": {
      "text/plain": [
       "Dataset FashionMNIST\n",
       "    Number of datapoints: 60000\n",
       "    Root location: .\n",
       "    Split: Train\n",
       "    StandardTransform\n",
       "Transform: ToTensor()"
      ]
     },
     "execution_count": 26,
     "metadata": {},
     "output_type": "execute_result"
    }
   ],
   "source": [
    "training_data"
   ]
  },
  {
   "cell_type": "code",
   "execution_count": 27,
   "metadata": {},
   "outputs": [
    {
     "data": {
      "text/plain": [
       "Dataset FashionMNIST\n",
       "    Number of datapoints: 10000\n",
       "    Root location: .\n",
       "    Split: Test\n",
       "    StandardTransform\n",
       "Transform: ToTensor()"
      ]
     },
     "execution_count": 27,
     "metadata": {},
     "output_type": "execute_result"
    }
   ],
   "source": [
    "test_data"
   ]
  },
  {
   "cell_type": "code",
   "execution_count": 30,
   "metadata": {},
   "outputs": [
    {
     "data": {
      "text/plain": [
       "<torch.utils.data.dataloader.DataLoader at 0x1302df610>"
      ]
     },
     "execution_count": 30,
     "metadata": {},
     "output_type": "execute_result"
    }
   ],
   "source": [
    "training_dataloader"
   ]
  },
  {
   "cell_type": "code",
   "execution_count": 31,
   "metadata": {},
   "outputs": [
    {
     "data": {
      "text/plain": [
       "<torch.utils.data.dataloader.DataLoader at 0x12b9316d0>"
      ]
     },
     "execution_count": 31,
     "metadata": {},
     "output_type": "execute_result"
    }
   ],
   "source": [
    "test_dataloader"
   ]
  },
  {
   "cell_type": "code",
   "execution_count": 33,
   "metadata": {},
   "outputs": [
    {
     "data": {
      "text/plain": [
       "NeuralNetwork(\n",
       "  (flatten): Flatten(start_dim=1, end_dim=-1)\n",
       "  (line_relu_stack): Sequential(\n",
       "    (0): Linear(in_features=784, out_features=512, bias=True)\n",
       "    (1): ReLU()\n",
       "    (2): Linear(in_features=512, out_features=512, bias=True)\n",
       "    (3): ReLU()\n",
       "    (4): Linear(in_features=512, out_features=10, bias=True)\n",
       "    (5): ReLU()\n",
       "  )\n",
       ")"
      ]
     },
     "execution_count": 33,
     "metadata": {},
     "output_type": "execute_result"
    }
   ],
   "source": [
    "NeuralNetwork()"
   ]
  },
  {
   "cell_type": "code",
   "execution_count": 34,
   "metadata": {},
   "outputs": [],
   "source": [
    "learning_rate = 1e-3\n",
    "batch_size = 64\n",
    "epochs = 5"
   ]
  },
  {
   "cell_type": "code",
   "execution_count": 36,
   "metadata": {},
   "outputs": [],
   "source": [
    "loss_fn = nn.CrossEntropyLoss()\n",
    "optimizer = torch.optim.SGD(model.parameters(), lr=learning_rate)"
   ]
  },
  {
   "cell_type": "code",
   "execution_count": 38,
   "metadata": {},
   "outputs": [
    {
     "data": {
      "text/plain": [
       "60000"
      ]
     },
     "execution_count": 38,
     "metadata": {},
     "output_type": "execute_result"
    }
   ],
   "source": [
    "len(training_data)"
   ]
  },
  {
   "cell_type": "code",
   "execution_count": 42,
   "metadata": {},
   "outputs": [
    {
     "data": {
      "text/plain": [
       "<enumerate at 0x1354f95a0>"
      ]
     },
     "execution_count": 42,
     "metadata": {},
     "output_type": "execute_result"
    }
   ],
   "source": [
    "enumerate(training_dataloader)"
   ]
  },
  {
   "cell_type": "code",
   "execution_count": 47,
   "metadata": {},
   "outputs": [],
   "source": [
    "def train_loop(dataloader, model, loss_fn, optimizer):\n",
    "    size = len(dataloader.dataset)\n",
    "    for batch, (X, y) in enumerate(dataloader):        \n",
    "        # Compute prediction and loss\n",
    "        pred = model(X)\n",
    "        loss = loss_fn(pred, y)\n",
    "        \n",
    "        # Backpropagation\n",
    "        optimizer.zero_grad()\n",
    "        loss.backward()\n",
    "        optimizer.step()\n",
    "        # print(batch,' ', len(X))\n",
    "        if batch % 100 == 0:\n",
    "            loss, current = loss.item(), batch * len(X)\n",
    "            print(f\"loss: {loss:>7f}  [{current:>5d}/{size:>5d}]\")\n",
    "\n",
    "\n",
    "def test_loop(dataloader, model, loss_fn):\n",
    "    size = len(dataloader.dataset)\n",
    "    test_loss, correct = 0, 0\n",
    "\n",
    "    with torch.no_grad():\n",
    "        for X, y in dataloader:\n",
    "            pred = model(X)\n",
    "            test_loss += loss_fn(pred, y).item()\n",
    "            correct += (pred.argmax(1) == y).type(torch.float).sum().item()\n",
    "            \n",
    "    test_loss /= size\n",
    "    correct /= size\n",
    "    print(f\"Test Error: \\n Accuracy: {(100*correct):>0.1f}%, Avg loss: {test_loss:>8f} \\n\")"
   ]
  },
  {
   "cell_type": "code",
   "execution_count": 51,
   "metadata": {
    "scrolled": true
   },
   "outputs": [
    {
     "name": "stdout",
     "output_type": "stream",
     "text": [
      "Epoch 1\n",
      "-------------------------------\n",
      "loss: 1.301379  [    0/60000]\n",
      "loss: 1.250721  [ 6400/60000]\n",
      "loss: 1.039586  [12800/60000]\n",
      "loss: 1.199550  [19200/60000]\n",
      "loss: 1.271846  [25600/60000]\n",
      "loss: 1.146938  [32000/60000]\n",
      "loss: 1.075728  [38400/60000]\n",
      "loss: 1.340090  [44800/60000]\n",
      "loss: 1.191586  [51200/60000]\n",
      "loss: 1.247761  [57600/60000]\n",
      "Test Error: \n",
      " Accuracy: 58.3%, Avg loss: 0.018750 \n",
      "\n",
      "Epoch 2\n",
      "-------------------------------\n",
      "loss: 1.097659  [    0/60000]\n",
      "loss: 1.147642  [ 6400/60000]\n",
      "loss: 1.107060  [12800/60000]\n",
      "loss: 1.351408  [19200/60000]\n",
      "loss: 1.222163  [25600/60000]\n",
      "loss: 1.135472  [32000/60000]\n",
      "loss: 1.487863  [38400/60000]\n",
      "loss: 1.031504  [44800/60000]\n",
      "loss: 1.077806  [51200/60000]\n",
      "loss: 1.313666  [57600/60000]\n",
      "Test Error: \n",
      " Accuracy: 58.8%, Avg loss: 0.018415 \n",
      "\n",
      "Epoch 3\n",
      "-------------------------------\n",
      "loss: 1.154952  [    0/60000]\n",
      "loss: 1.192277  [ 6400/60000]\n",
      "loss: 1.155669  [12800/60000]\n",
      "loss: 1.327396  [19200/60000]\n",
      "loss: 0.984707  [25600/60000]\n",
      "loss: 1.196249  [32000/60000]\n",
      "loss: 1.214896  [38400/60000]\n",
      "loss: 1.186963  [44800/60000]\n",
      "loss: 1.265690  [51200/60000]\n",
      "loss: 0.979755  [57600/60000]\n",
      "Test Error: \n",
      " Accuracy: 59.6%, Avg loss: 0.018131 \n",
      "\n",
      "Epoch 4\n",
      "-------------------------------\n",
      "loss: 1.198837  [    0/60000]\n",
      "loss: 1.099577  [ 6400/60000]\n",
      "loss: 1.001835  [12800/60000]\n",
      "loss: 1.081666  [19200/60000]\n",
      "loss: 1.298774  [25600/60000]\n",
      "loss: 1.009210  [32000/60000]\n",
      "loss: 1.081693  [38400/60000]\n",
      "loss: 1.134080  [44800/60000]\n",
      "loss: 1.135900  [51200/60000]\n",
      "loss: 1.083159  [57600/60000]\n",
      "Test Error: \n",
      " Accuracy: 60.6%, Avg loss: 0.017840 \n",
      "\n",
      "Epoch 5\n",
      "-------------------------------\n",
      "loss: 1.252400  [    0/60000]\n",
      "loss: 1.210404  [ 6400/60000]\n",
      "loss: 0.925973  [12800/60000]\n",
      "loss: 1.208707  [19200/60000]\n",
      "loss: 0.952580  [25600/60000]\n",
      "loss: 1.212126  [32000/60000]\n",
      "loss: 1.173065  [38400/60000]\n",
      "loss: 0.947869  [44800/60000]\n",
      "loss: 1.049105  [51200/60000]\n",
      "loss: 1.167843  [57600/60000]\n",
      "Test Error: \n",
      " Accuracy: 60.9%, Avg loss: 0.017569 \n",
      "\n",
      "Done!\n"
     ]
    }
   ],
   "source": [
    "loss_fn = nn.CrossEntropyLoss()\n",
    "optimizer = torch.optim.SGD(model.parameters(), lr=learning_rate)\n",
    "\n",
    "epochs = 5\n",
    "for t in range(epochs):\n",
    "    print(f\"Epoch {t+1}\\n-------------------------------\")\n",
    "    train_loop(training_dataloader, model, loss_fn, optimizer)\n",
    "    test_loop(test_dataloader, model, loss_fn)\n",
    "print(\"Done!\")"
   ]
  },
  {
   "cell_type": "code",
   "execution_count": 53,
   "metadata": {},
   "outputs": [
    {
     "data": {
      "text/plain": [
       "<generator object Module.parameters at 0x1355ad4d0>"
      ]
     },
     "execution_count": 53,
     "metadata": {},
     "output_type": "execute_result"
    }
   ],
   "source": [
    "model.parameters()"
   ]
  },
  {
   "cell_type": "code",
   "execution_count": 54,
   "metadata": {
    "scrolled": true
   },
   "outputs": [
    {
     "data": {
      "text/plain": [
       "OrderedDict([('line_relu_stack.0.weight',\n",
       "              tensor([[ 0.0030, -0.0014, -0.0338,  ..., -0.0313,  0.0328,  0.0008],\n",
       "                      [ 0.0017, -0.0186,  0.0079,  ...,  0.0098,  0.0020, -0.0264],\n",
       "                      [-0.0053, -0.0242,  0.0207,  ..., -0.0166,  0.0150, -0.0191],\n",
       "                      ...,\n",
       "                      [-0.0218, -0.0194, -0.0045,  ..., -0.0097,  0.0056, -0.0156],\n",
       "                      [-0.0128,  0.0080,  0.0261,  ..., -0.0010,  0.0305,  0.0144],\n",
       "                      [-0.0333,  0.0053,  0.0008,  ...,  0.0072, -0.0288,  0.0043]])),\n",
       "             ('line_relu_stack.0.bias',\n",
       "              tensor([-8.8711e-03,  9.4875e-03, -5.7390e-03,  1.6919e-02, -7.1484e-03,\n",
       "                      -2.5169e-02, -2.1012e-02, -2.2411e-02,  6.3563e-04,  2.9594e-02,\n",
       "                      -1.3037e-02,  5.3384e-02, -3.9386e-03, -8.5686e-03, -3.5057e-02,\n",
       "                      -1.0690e-02,  3.0353e-02,  1.8828e-02,  8.3908e-03, -1.9589e-02,\n",
       "                       3.4404e-02,  4.6967e-02, -2.3085e-02,  4.1950e-02, -2.3505e-02,\n",
       "                      -3.2699e-02,  1.2171e-02, -7.5399e-03, -4.6136e-05,  2.6689e-02,\n",
       "                      -2.2867e-03,  3.0352e-02, -1.2804e-02,  1.8194e-02,  3.3256e-03,\n",
       "                       2.3180e-02,  1.7895e-02, -2.8542e-02,  8.2145e-03, -1.0944e-02,\n",
       "                       3.2752e-02, -3.3805e-02, -2.1633e-02, -3.0121e-02,  5.2392e-02,\n",
       "                      -8.5358e-03,  2.7849e-02,  2.3348e-02, -1.2417e-02,  9.7100e-03,\n",
       "                      -1.6831e-02,  3.7461e-02,  1.4282e-02,  4.6308e-02,  3.4456e-02,\n",
       "                       9.0374e-03,  5.3830e-02,  6.8170e-03, -3.1184e-02,  6.8047e-03,\n",
       "                      -2.2583e-04, -1.7576e-02,  2.2449e-02, -1.1987e-02,  3.0504e-02,\n",
       "                       2.9392e-02,  1.5640e-02, -2.9648e-02, -4.8364e-03, -1.2808e-03,\n",
       "                       2.3384e-02,  3.1353e-02,  2.5958e-02,  3.1666e-02,  2.4562e-03,\n",
       "                       1.0780e-03, -1.1485e-02,  2.4560e-02, -9.6978e-03,  2.3432e-02,\n",
       "                       1.9317e-02,  2.6475e-02, -2.5050e-02,  4.2578e-02, -1.6533e-03,\n",
       "                      -2.9182e-03, -4.2498e-03, -1.6015e-02, -1.8990e-02,  5.0194e-02,\n",
       "                      -2.0929e-02,  2.9962e-02,  1.6592e-02, -1.6999e-02, -5.8448e-03,\n",
       "                      -2.1302e-02,  1.9149e-02, -6.1346e-03,  2.8114e-02,  2.0875e-02,\n",
       "                      -1.2935e-02,  1.9233e-02, -3.0064e-03, -2.9283e-02,  1.9222e-02,\n",
       "                      -1.7105e-02,  1.2271e-02,  1.2603e-02, -3.9493e-02,  2.8805e-02,\n",
       "                      -1.5177e-02,  3.6108e-02,  2.3157e-02,  3.8044e-02,  3.3493e-02,\n",
       "                      -5.0754e-03, -2.4903e-02,  2.6660e-02, -2.7926e-02,  5.1374e-04,\n",
       "                      -2.9464e-02,  3.5425e-02, -3.0373e-02, -2.5593e-02, -4.7717e-04,\n",
       "                      -7.7171e-03, -1.4697e-02,  6.4135e-03,  1.7885e-02,  9.3239e-03,\n",
       "                      -2.6682e-02, -1.7024e-02, -2.0244e-02,  2.4604e-03,  3.5383e-02,\n",
       "                       4.2265e-02,  1.5036e-02, -1.9393e-03, -2.2356e-02,  3.2998e-02,\n",
       "                       4.1914e-03, -7.9701e-03,  2.9072e-02, -3.5951e-02,  2.8511e-02,\n",
       "                       4.5236e-02, -3.3677e-02,  2.8421e-02,  1.9427e-02,  3.4169e-02,\n",
       "                       1.1176e-02,  2.2281e-02, -2.3556e-02, -8.4340e-03, -2.0054e-02,\n",
       "                       3.7809e-02, -7.7664e-03, -1.9449e-02,  3.9716e-02, -3.5382e-02,\n",
       "                      -3.5231e-03,  1.5045e-03,  2.0776e-02, -1.9655e-02, -2.5685e-02,\n",
       "                       1.7615e-02,  2.6654e-02,  4.1046e-02, -2.1800e-02, -3.0514e-03,\n",
       "                       2.4785e-02, -1.1975e-02,  4.3783e-02,  7.6617e-03, -3.0488e-02,\n",
       "                      -1.2376e-02,  1.7290e-03,  1.9775e-02, -8.5154e-04,  8.9103e-03,\n",
       "                      -2.1887e-02, -3.2648e-02,  3.1632e-02,  3.2761e-02, -2.3306e-02,\n",
       "                       2.8280e-02, -7.3873e-03,  2.8673e-02,  9.4057e-03,  3.0061e-03,\n",
       "                      -2.0831e-02,  2.2028e-02,  2.4240e-02,  2.4624e-02,  2.5051e-02,\n",
       "                       2.9412e-02,  4.8458e-04, -1.5325e-02,  2.5907e-02, -1.9724e-02,\n",
       "                       1.2272e-02,  2.4738e-02, -8.9891e-03,  5.8645e-03, -9.7662e-03,\n",
       "                       1.5821e-02,  1.1110e-02, -1.5479e-02, -2.1894e-02,  3.1883e-02,\n",
       "                      -8.7612e-03,  3.7060e-02,  2.8780e-02, -2.1772e-02, -2.1820e-02,\n",
       "                      -9.9110e-03,  1.8120e-02,  1.3906e-02, -1.3996e-02, -2.3011e-02,\n",
       "                      -2.6056e-02, -2.9778e-02,  2.4701e-02,  2.4497e-02,  8.5320e-03,\n",
       "                       1.7213e-02,  7.7136e-03, -2.0217e-02, -2.6118e-02,  3.9531e-02,\n",
       "                      -8.0876e-03,  3.3251e-02, -7.1139e-03, -2.7720e-03,  1.5029e-02,\n",
       "                       1.8450e-02, -1.6675e-02,  4.1458e-02,  5.4166e-02, -2.9253e-02,\n",
       "                       1.6008e-02,  4.1473e-03,  8.5035e-03, -4.5178e-03,  2.7349e-02,\n",
       "                       3.7820e-02,  2.2759e-02,  2.8361e-02,  2.9406e-02,  9.8140e-03,\n",
       "                       1.6302e-02,  2.7909e-02,  4.0711e-02,  3.9745e-03,  1.0282e-02,\n",
       "                       4.4889e-03, -2.7787e-02, -3.4756e-02, -2.9826e-02,  2.4486e-02,\n",
       "                      -1.4231e-03, -2.2751e-02, -2.1748e-02, -1.8896e-02, -1.6565e-02,\n",
       "                      -2.4338e-02,  2.8881e-02,  3.4523e-02, -1.8880e-02,  1.7028e-02,\n",
       "                      -1.3646e-02,  5.2570e-03,  1.5941e-02,  2.6466e-03,  3.1764e-03,\n",
       "                      -1.6991e-02,  2.3082e-02, -1.1506e-02, -9.9665e-03, -3.5902e-02,\n",
       "                       1.8396e-02,  3.8352e-02, -1.3459e-02,  2.2714e-02,  3.4117e-02,\n",
       "                       3.9812e-02, -3.6957e-02, -4.9269e-02, -2.5710e-02, -4.6052e-03,\n",
       "                       4.0798e-02, -2.6784e-02, -1.9075e-03, -1.4216e-02,  2.7647e-02,\n",
       "                       3.4655e-02, -1.9907e-02,  2.9255e-02,  3.3211e-02, -5.8391e-03,\n",
       "                       1.4961e-02, -2.5046e-02,  1.4711e-02,  3.4413e-02,  7.1490e-03,\n",
       "                       4.5078e-02, -5.9865e-03,  2.4171e-02, -1.4081e-02, -9.5402e-03,\n",
       "                       3.3975e-02,  3.2081e-02,  1.6886e-02, -8.0670e-03,  3.8681e-03,\n",
       "                      -2.0470e-02,  2.9544e-02, -2.4771e-02,  2.8499e-03,  1.3248e-03,\n",
       "                      -1.2216e-02,  4.6033e-03, -1.5941e-02, -6.9878e-03, -1.3814e-02,\n",
       "                       2.1678e-02,  1.8163e-02, -4.2011e-02, -4.1702e-03, -4.1176e-03,\n",
       "                       3.3759e-02,  2.9703e-02, -1.1060e-02, -1.0781e-02, -2.1162e-02,\n",
       "                       2.6942e-02,  3.4649e-02,  1.5071e-02, -8.6497e-03,  5.0557e-03,\n",
       "                       1.7533e-02,  5.7014e-03, -6.4543e-03, -2.0872e-02,  3.4892e-02,\n",
       "                      -2.0999e-02,  7.2379e-04,  1.9276e-02, -1.3533e-02,  4.1311e-02,\n",
       "                       3.2414e-02,  8.6060e-05,  4.5749e-02,  2.1721e-02,  3.0873e-02,\n",
       "                      -3.9106e-02, -3.2230e-03,  1.7766e-02,  1.6074e-02, -1.9635e-02,\n",
       "                       1.1238e-02,  8.3973e-03,  8.9029e-03,  3.6642e-02,  1.8318e-02,\n",
       "                      -1.2766e-02, -9.8474e-03, -2.8380e-03,  3.0451e-02,  1.3469e-02,\n",
       "                      -1.8488e-02, -2.7204e-02,  2.8456e-02, -2.1600e-02,  3.7589e-02,\n",
       "                      -2.0104e-02,  3.4892e-02, -2.3770e-02,  1.1127e-02,  2.9240e-02,\n",
       "                       1.2923e-02,  4.2245e-02,  3.4603e-02,  3.6477e-02,  1.6353e-04,\n",
       "                      -3.7207e-02, -1.0684e-02, -2.8880e-02, -2.7365e-03,  3.2378e-02,\n",
       "                       1.5738e-02,  2.5578e-02,  2.9147e-02,  1.7155e-02,  1.2753e-03,\n",
       "                       9.1432e-03, -3.2438e-03,  5.4210e-02, -1.8644e-02,  1.8499e-02,\n",
       "                       4.3465e-02,  1.2048e-02, -1.9031e-02,  5.0833e-03,  2.2059e-02,\n",
       "                       3.2800e-03,  2.0589e-02,  2.9541e-02, -1.1075e-03,  1.1733e-02,\n",
       "                      -3.6928e-02,  3.3062e-02, -2.0529e-02,  8.2722e-03,  5.6577e-03,\n",
       "                      -1.4913e-02,  2.1233e-02, -2.7359e-02,  4.2933e-04,  4.8862e-02,\n",
       "                       2.7103e-02,  6.6523e-03, -8.5982e-03,  1.7469e-02, -1.3010e-02,\n",
       "                      -3.2900e-02, -7.2124e-03,  1.1760e-02,  4.5054e-03, -1.8004e-02,\n",
       "                       7.8251e-04,  2.2926e-02, -7.5671e-03, -1.6658e-02, -2.2712e-02,\n",
       "                       1.0495e-02, -2.7640e-02,  2.5728e-02, -1.8483e-03, -8.7401e-04,\n",
       "                       1.5375e-02,  8.6741e-04,  2.3334e-02, -9.3503e-03,  3.5524e-02,\n",
       "                       3.3749e-02,  2.4093e-02, -1.6908e-02, -1.5937e-02,  4.9560e-02,\n",
       "                       2.9123e-02,  3.4808e-02,  3.9672e-02, -2.1291e-02,  1.4858e-02,\n",
       "                       2.8373e-02, -2.3942e-02,  7.7574e-03,  2.9639e-02,  1.6580e-02,\n",
       "                       5.9314e-03,  1.5368e-02,  9.1012e-03,  3.1163e-02, -1.0259e-02,\n",
       "                       4.1041e-02,  1.0946e-02, -1.0888e-02, -2.0485e-03,  1.5410e-02,\n",
       "                      -2.6187e-02, -4.8702e-03,  4.3534e-03,  1.9766e-02,  4.6464e-02,\n",
       "                      -2.0798e-02, -9.0038e-03,  3.4106e-02,  2.2028e-02,  5.2758e-02,\n",
       "                       2.1833e-02,  1.7153e-02, -2.7840e-02, -2.3655e-02,  4.7855e-02,\n",
       "                      -2.4472e-02, -3.3932e-02,  3.1743e-02, -2.9828e-02,  5.7187e-03,\n",
       "                       3.3394e-02, -2.4656e-02,  1.9121e-02, -4.0615e-03,  2.4137e-02,\n",
       "                       6.3057e-03,  1.3030e-02,  3.5073e-03,  3.3724e-02,  6.4232e-02,\n",
       "                       9.5500e-03, -1.2659e-02,  3.7970e-02, -1.1910e-02, -1.5201e-02,\n",
       "                      -2.6273e-02,  8.0952e-03, -3.8387e-02,  1.9858e-02, -2.6518e-02,\n",
       "                      -6.3017e-03,  2.4313e-02])),\n",
       "             ('line_relu_stack.2.weight',\n",
       "              tensor([[-0.0318, -0.0092, -0.0419,  ...,  0.0418, -0.0111, -0.0099],\n",
       "                      [ 0.0177,  0.0082, -0.0062,  ...,  0.0007, -0.0121, -0.0033],\n",
       "                      [-0.0166, -0.0237,  0.0371,  ..., -0.0306, -0.0358, -0.0369],\n",
       "                      ...,\n",
       "                      [ 0.0269,  0.0336,  0.0436,  ...,  0.0129,  0.0044,  0.0313],\n",
       "                      [-0.0342, -0.0436,  0.0067,  ...,  0.0044,  0.0287,  0.0281],\n",
       "                      [-0.0122, -0.0385,  0.0356,  ..., -0.0073, -0.0391, -0.0090]])),\n",
       "             ('line_relu_stack.2.bias',\n",
       "              tensor([-1.8681e-02,  1.0940e-02, -5.8432e-04,  8.9088e-03, -1.7361e-03,\n",
       "                       1.2793e-02,  1.0690e-03,  3.2614e-02,  6.5284e-02,  2.5303e-02,\n",
       "                       3.8430e-02, -2.5667e-02,  1.8078e-02,  1.9169e-02, -6.5631e-03,\n",
       "                       3.5475e-02,  2.9370e-02, -3.8567e-02, -2.7729e-03,  4.2268e-02,\n",
       "                       2.3873e-02, -2.9655e-02,  4.9297e-02,  1.5113e-02, -2.6903e-02,\n",
       "                       5.8952e-02,  2.1194e-02,  3.3144e-02,  2.3050e-02, -3.9119e-02,\n",
       "                      -1.8360e-02,  2.4266e-02, -2.3683e-03, -2.3910e-02, -1.2881e-03,\n",
       "                      -2.9410e-02, -3.0679e-02,  3.2947e-02,  2.1175e-04,  2.8487e-02,\n",
       "                      -4.8830e-03,  4.4450e-02,  2.5320e-02,  1.2214e-02, -2.6934e-02,\n",
       "                       2.5855e-04, -3.6866e-02,  2.8225e-02,  7.5392e-03, -1.1280e-02,\n",
       "                      -3.0524e-03,  2.1021e-02, -5.2988e-04, -4.3132e-02,  4.0222e-03,\n",
       "                      -1.3314e-02,  4.8755e-02, -3.8621e-02,  2.7850e-02, -2.0941e-02,\n",
       "                      -2.1105e-02, -2.1234e-02,  1.4103e-02,  1.3485e-02, -3.0727e-02,\n",
       "                       3.2589e-03, -3.1886e-05,  1.3101e-02,  3.6896e-02, -7.0977e-03,\n",
       "                       2.2143e-02,  3.0572e-03, -6.2960e-03, -3.8108e-02,  1.0346e-02,\n",
       "                      -1.6125e-02,  5.6375e-02, -1.9626e-02,  7.4576e-03,  1.6501e-02,\n",
       "                       7.0877e-04,  4.8485e-02, -4.2643e-02, -1.5522e-02,  2.4660e-02,\n",
       "                      -3.0963e-02,  4.2564e-02,  8.7329e-03, -6.0411e-02, -2.2706e-03,\n",
       "                       2.5843e-02,  2.1678e-02, -3.2064e-02,  2.4853e-02, -3.5726e-03,\n",
       "                      -2.6749e-02,  3.2283e-02,  5.0685e-02,  2.3628e-02,  2.7607e-02,\n",
       "                      -1.7349e-03, -9.7434e-03,  3.8505e-02,  5.9536e-02,  3.7113e-02,\n",
       "                      -9.6313e-03, -4.2122e-02, -1.6788e-02,  3.3831e-02, -2.8061e-02,\n",
       "                      -2.6613e-02, -2.6276e-02, -1.4435e-02, -3.3432e-02, -3.8628e-03,\n",
       "                       4.6632e-02,  2.5846e-02, -2.2668e-02,  6.3054e-02, -1.0879e-02,\n",
       "                      -7.9620e-03,  2.8252e-02,  6.9903e-04, -1.8922e-02,  2.3501e-02,\n",
       "                       3.3908e-02,  1.9348e-02, -2.3409e-02,  3.1527e-02, -1.0022e-02,\n",
       "                      -4.9859e-02,  1.7097e-02, -1.1320e-02, -3.3463e-02,  3.8690e-02,\n",
       "                      -1.3417e-02,  5.1747e-02, -1.8919e-02, -5.9902e-03, -1.9544e-02,\n",
       "                       1.0680e-02,  6.9221e-03,  7.0716e-03,  1.3174e-02,  7.4392e-03,\n",
       "                      -2.8518e-02, -2.2731e-02,  8.3109e-02,  1.6202e-02,  6.3554e-02,\n",
       "                      -6.0361e-03, -1.0670e-03, -3.0796e-02, -5.8610e-02,  9.8201e-03,\n",
       "                      -5.1586e-03, -1.4518e-02,  9.4684e-03, -2.2489e-02,  3.9282e-02,\n",
       "                      -1.0210e-02,  8.2050e-03, -3.1120e-02, -1.6071e-02, -1.5244e-02,\n",
       "                      -3.3569e-02,  4.5159e-03, -1.2754e-02,  1.7854e-02, -1.6759e-02,\n",
       "                       1.0063e-02,  2.3056e-02, -2.1792e-02, -3.0049e-02, -1.9480e-02,\n",
       "                      -2.4269e-02, -3.8570e-02,  1.9192e-02,  1.1147e-02,  1.4440e-02,\n",
       "                      -1.3474e-02,  2.2107e-02, -1.4927e-02,  1.1547e-02, -4.6997e-02,\n",
       "                       7.6167e-02,  8.9367e-03, -1.2797e-02,  3.4675e-02, -2.5822e-02,\n",
       "                       9.4820e-03,  3.8152e-02, -1.4008e-03,  2.2138e-03,  3.8086e-02,\n",
       "                       2.7372e-02, -1.8593e-02, -2.0833e-02, -1.1569e-03,  4.4977e-02,\n",
       "                      -1.0372e-02, -7.1596e-03,  4.3219e-03,  3.2602e-02, -1.9086e-02,\n",
       "                      -3.8704e-03, -2.4702e-02,  8.0792e-03,  3.6457e-02, -1.6408e-02,\n",
       "                       6.4451e-02, -2.0553e-02, -4.7925e-03, -4.1339e-02,  4.2574e-02,\n",
       "                       4.0154e-02, -3.0648e-02,  4.7486e-03, -4.8674e-02, -3.7174e-03,\n",
       "                       7.5372e-04,  1.1979e-02,  6.4450e-02,  2.0620e-02,  1.1011e-02,\n",
       "                       6.6325e-02, -3.8013e-02,  2.4567e-02, -2.4458e-02,  1.5904e-02,\n",
       "                      -1.3264e-02,  2.0044e-02,  3.2091e-02,  1.7868e-02, -2.0635e-02,\n",
       "                      -2.6878e-02, -1.6271e-02,  1.3618e-02, -4.5530e-02,  1.3537e-02,\n",
       "                       5.9674e-02, -4.2642e-04,  4.1187e-02, -4.3870e-02,  3.5217e-02,\n",
       "                      -5.5036e-03, -4.2032e-02, -1.7024e-02,  9.0096e-02,  1.0990e-02,\n",
       "                       7.0908e-03,  8.7931e-03, -2.0919e-02,  5.1763e-03, -2.8121e-02,\n",
       "                      -2.4014e-02, -3.9048e-02,  2.6000e-02,  2.9348e-02, -2.1626e-02,\n",
       "                      -4.6632e-02,  3.2504e-03,  1.1490e-02,  8.8762e-03,  5.1383e-02,\n",
       "                       2.0661e-02,  4.3680e-02, -2.2143e-02,  5.8196e-02,  8.8175e-03,\n",
       "                       4.7057e-02, -3.0585e-02, -1.2389e-02, -3.5440e-02,  4.0492e-02,\n",
       "                      -1.3339e-04, -2.0034e-03, -3.3566e-02,  5.6528e-02, -2.1348e-02,\n",
       "                       3.9590e-03, -5.3306e-03, -1.6852e-02, -2.1047e-02,  3.5639e-02,\n",
       "                      -1.6895e-02,  5.6147e-02,  1.2477e-03,  6.1261e-02, -4.2451e-03,\n",
       "                      -4.9502e-02,  4.7818e-02, -1.0344e-02,  7.3455e-02, -1.7588e-02,\n",
       "                      -1.8559e-02,  8.0552e-03,  4.0609e-02,  2.3400e-03,  4.4264e-03,\n",
       "                      -3.2693e-02,  5.8489e-02,  1.8333e-02,  1.1998e-02,  5.4163e-02,\n",
       "                      -1.0971e-02, -3.0371e-02, -4.9338e-03,  1.3687e-02,  4.3225e-02,\n",
       "                       6.7148e-02,  1.4917e-02, -4.0111e-02,  1.2590e-02, -2.9557e-02,\n",
       "                      -1.0344e-02,  3.6250e-02, -3.1385e-02, -3.3276e-02, -9.2465e-03,\n",
       "                      -9.5345e-03,  6.0155e-02, -1.1213e-02, -7.3239e-03, -3.3507e-02,\n",
       "                      -2.6570e-02,  1.8409e-02, -1.3384e-03,  6.8010e-02,  1.1153e-02,\n",
       "                       8.4791e-03, -1.5373e-02, -4.1260e-02,  4.8112e-02, -1.8949e-02,\n",
       "                      -3.6999e-02,  8.9455e-03, -1.7969e-02,  1.4158e-02,  2.3254e-02,\n",
       "                       3.8978e-02, -6.1899e-02, -3.4249e-02,  1.1622e-02, -2.7691e-02,\n",
       "                      -2.0922e-02,  1.1014e-02, -9.5552e-03,  4.1222e-02,  3.9987e-02,\n",
       "                       8.5370e-02,  6.2091e-02, -5.9159e-03, -8.9324e-04,  4.8517e-03,\n",
       "                       1.2310e-02,  2.0460e-02,  5.7480e-02,  1.3781e-02,  4.0997e-03,\n",
       "                      -3.5585e-02, -4.4090e-02, -4.1221e-03, -3.0881e-02,  7.2109e-03,\n",
       "                       1.0301e-03,  2.8474e-03,  6.5431e-02,  3.9754e-02,  5.3380e-02,\n",
       "                       2.9707e-02, -3.9105e-03, -3.1727e-02,  5.8318e-02,  6.6092e-02,\n",
       "                      -3.8355e-02, -3.1163e-02, -1.2734e-03,  1.8741e-02,  1.1619e-02,\n",
       "                      -2.0010e-02, -4.9607e-02,  4.2631e-02, -3.5611e-02,  1.8461e-02,\n",
       "                       6.4621e-03, -6.6002e-04,  2.2937e-02,  4.2202e-02,  3.1475e-02,\n",
       "                       2.7135e-02, -2.8503e-02,  5.4787e-02, -1.3708e-02,  2.2416e-02,\n",
       "                      -1.4539e-02, -5.4458e-02, -3.7459e-02, -3.8315e-02,  4.8708e-02,\n",
       "                       2.8163e-02, -2.5657e-02,  2.6614e-02,  3.0143e-02, -2.5108e-02,\n",
       "                      -2.7303e-02,  2.1417e-02, -8.0630e-04,  3.1859e-02, -1.2845e-02,\n",
       "                      -5.0889e-03,  5.0409e-03, -3.9183e-02,  3.7994e-03,  2.6897e-02,\n",
       "                      -3.1681e-02, -3.6213e-02, -1.0554e-02, -2.5733e-02, -5.2979e-02,\n",
       "                      -1.3864e-02,  2.7330e-03, -4.0177e-02,  4.8409e-02,  2.1774e-02,\n",
       "                       1.4038e-02, -2.5529e-03, -4.3100e-02,  2.9571e-02,  3.8632e-04,\n",
       "                       3.4783e-02,  5.7831e-02, -7.2740e-03, -3.5057e-02,  1.7130e-02,\n",
       "                      -2.4951e-02,  1.8955e-02,  1.7792e-02,  5.3579e-02,  2.4366e-02,\n",
       "                      -9.1021e-03, -6.0911e-03, -3.5898e-02, -3.7800e-03, -2.0098e-03,\n",
       "                       1.9019e-02,  6.2569e-02, -1.3298e-02, -3.7903e-02, -4.7295e-02,\n",
       "                       5.8646e-02,  7.8098e-02, -1.8399e-02, -4.3852e-02,  3.4032e-02,\n",
       "                       4.5148e-02,  6.6232e-02,  2.9183e-02,  2.1263e-02,  5.4021e-03,\n",
       "                       3.0891e-02, -4.4181e-03, -1.8981e-02,  2.4023e-02, -6.0803e-03,\n",
       "                      -8.8602e-03,  7.0116e-03, -1.5746e-02, -1.9727e-02, -3.5271e-02,\n",
       "                      -4.3126e-02, -3.3461e-02,  3.0738e-02,  3.2507e-02,  2.5775e-02,\n",
       "                      -4.4789e-02,  3.5640e-02, -2.6806e-02, -4.4836e-02, -2.1285e-02,\n",
       "                      -5.0809e-02, -1.4578e-02,  1.8299e-02,  5.4772e-02, -1.2985e-02,\n",
       "                       5.3792e-02,  1.5592e-02, -2.9289e-02, -1.5418e-02, -2.0092e-02,\n",
       "                       2.9167e-02, -1.5530e-02, -1.9912e-02, -2.9197e-02,  2.2272e-02,\n",
       "                      -5.3689e-02,  7.8221e-03, -2.0080e-02,  4.1193e-03,  1.0368e-02,\n",
       "                      -2.7054e-02,  1.9599e-02,  3.9978e-04,  3.9081e-02,  5.1501e-02,\n",
       "                      -9.2357e-03, -1.9788e-02, -1.3054e-02, -2.4027e-02,  2.1002e-02,\n",
       "                       3.7997e-02, -5.9758e-03])),\n",
       "             ('line_relu_stack.4.weight',\n",
       "              tensor([[ 0.0352,  0.0051,  0.0277,  ..., -0.0012,  0.0432, -0.0202],\n",
       "                      [ 0.0358, -0.0049, -0.0106,  ...,  0.0324, -0.0363, -0.0345],\n",
       "                      [ 0.0134, -0.0727,  0.0264,  ..., -0.0267, -0.0261,  0.0166],\n",
       "                      ...,\n",
       "                      [ 0.0936, -0.0199,  0.1052,  ..., -0.0427,  0.0066, -0.0308],\n",
       "                      [ 0.1092, -0.0319, -0.0249,  ..., -0.0193, -0.0371, -0.0043],\n",
       "                      [-0.0202,  0.0273, -0.0081,  ...,  0.0052,  0.0388, -0.0089]])),\n",
       "             ('line_relu_stack.4.bias',\n",
       "              tensor([ 0.0004,  0.0286,  0.0285,  0.0197, -0.0952,  0.4098,  0.1280,  0.0632,\n",
       "                      -0.0388, -0.1002]))])"
      ]
     },
     "execution_count": 54,
     "metadata": {},
     "output_type": "execute_result"
    }
   ],
   "source": [
    "model.state_dict()"
   ]
  },
  {
   "cell_type": "code",
   "execution_count": 55,
   "metadata": {},
   "outputs": [],
   "source": [
    "torch.save(model.state_dict(), 'model_weights.pth')"
   ]
  },
  {
   "cell_type": "code",
   "execution_count": 56,
   "metadata": {},
   "outputs": [
    {
     "data": {
      "text/plain": [
       "<All keys matched successfully>"
      ]
     },
     "execution_count": 56,
     "metadata": {},
     "output_type": "execute_result"
    }
   ],
   "source": [
    "model_load = NeuralNetwork()\n",
    "model_load.load_state_dict(torch.load('model_weights.pth'))"
   ]
  },
  {
   "cell_type": "code",
   "execution_count": 57,
   "metadata": {},
   "outputs": [
    {
     "data": {
      "text/plain": [
       "NeuralNetwork(\n",
       "  (flatten): Flatten(start_dim=1, end_dim=-1)\n",
       "  (line_relu_stack): Sequential(\n",
       "    (0): Linear(in_features=784, out_features=512, bias=True)\n",
       "    (1): ReLU()\n",
       "    (2): Linear(in_features=512, out_features=512, bias=True)\n",
       "    (3): ReLU()\n",
       "    (4): Linear(in_features=512, out_features=10, bias=True)\n",
       "    (5): ReLU()\n",
       "  )\n",
       ")"
      ]
     },
     "execution_count": 57,
     "metadata": {},
     "output_type": "execute_result"
    }
   ],
   "source": [
    "model_load.eval()"
   ]
  },
  {
   "cell_type": "code",
   "execution_count": 59,
   "metadata": {},
   "outputs": [],
   "source": [
    "torch.save(model, 'model.pth')"
   ]
  },
  {
   "cell_type": "code",
   "execution_count": 60,
   "metadata": {},
   "outputs": [],
   "source": [
    "model_load = torch.load('model.pth')"
   ]
  },
  {
   "cell_type": "code",
   "execution_count": 61,
   "metadata": {},
   "outputs": [],
   "source": [
    "import torch.onnx as onnx"
   ]
  },
  {
   "cell_type": "code",
   "execution_count": null,
   "metadata": {},
   "outputs": [],
   "source": []
  }
 ],
 "metadata": {
  "kernelspec": {
   "display_name": "Python 3",
   "language": "python",
   "name": "python3"
  },
  "language_info": {
   "codemirror_mode": {
    "name": "ipython",
    "version": 3
   },
   "file_extension": ".py",
   "mimetype": "text/x-python",
   "name": "python",
   "nbconvert_exporter": "python",
   "pygments_lexer": "ipython3",
   "version": "3.7.11"
  }
 },
 "nbformat": 4,
 "nbformat_minor": 4
}
