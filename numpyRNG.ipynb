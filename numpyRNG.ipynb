{
 "cells": [
  {
   "cell_type": "markdown",
   "id": "e5cbc645-dbac-4d45-be8c-c240ae0c7343",
   "metadata": {},
   "source": [
    "+ BitGenerator: create sequences\n",
    "+ Generator: use those sequences to sample from different distributions"
   ]
  },
  {
   "cell_type": "markdown",
   "id": "35deb98f-729d-4c94-9210-44b54b66526e",
   "metadata": {},
   "source": [
    "Since Numpy v1.17.0, the Generator van be intialized with a number of different BitGenerators\n",
    "\n",
    "Random Numpy number routines: NEP 19"
   ]
  },
  {
   "cell_type": "code",
   "execution_count": 1,
   "id": "18bc9a3d-3099-45d4-a6bd-c61f63574004",
   "metadata": {},
   "outputs": [],
   "source": [
    "from numpy.random import default_rng # default_rng is a new instance of generator, \n",
    "                                     # which has better statistical properties legacy RandomState, \n",
    "                                     # such as random_sample, rand, randint\n",
    "rng = default_rng()\n",
    "vals = rng.standard_normal(10)"
   ]
  },
  {
   "cell_type": "code",
   "execution_count": 2,
   "id": "af3a6311-bfda-4d48-a76a-913d702438cc",
   "metadata": {},
   "outputs": [
    {
     "data": {
      "text/plain": [
       "array([-0.82056305, -2.4898683 ,  0.62495203,  0.79185817, -1.57989144,\n",
       "        0.82792347,  0.2623867 , -0.58139083, -0.47502098, -0.85138979])"
      ]
     },
     "execution_count": 2,
     "metadata": {},
     "output_type": "execute_result"
    }
   ],
   "source": [
    "vals"
   ]
  },
  {
   "cell_type": "code",
   "execution_count": 3,
   "id": "fa6bc36d-309e-4dbf-b8f2-492046e86114",
   "metadata": {},
   "outputs": [
    {
     "data": {
      "text/plain": [
       "-1.4238250364546312"
      ]
     },
     "execution_count": 3,
     "metadata": {},
     "output_type": "execute_result"
    }
   ],
   "source": [
    "from numpy.random import Generator, PCG64\n",
    "rng = Generator(PCG64(12345))\n",
    "rng.standard_normal()"
   ]
  },
  {
   "cell_type": "code",
   "execution_count": 4,
   "id": "56f8ce3a-6b61-4b64-8199-59a0cf8bba0f",
   "metadata": {},
   "outputs": [
    {
     "data": {
      "text/plain": [
       "-1.4238250364546312"
      ]
     },
     "execution_count": 4,
     "metadata": {},
     "output_type": "execute_result"
    }
   ],
   "source": [
    "rng = default_rng(12345)\n",
    "rng.standard_normal()"
   ]
  },
  {
   "cell_type": "markdown",
   "id": "a7c6c769-afca-41ec-9339-25913a28f6c3",
   "metadata": {},
   "source": [
    "Examples"
   ]
  },
  {
   "cell_type": "code",
   "execution_count": 5,
   "id": "52290230-879b-4ece-875b-9e66615a01f5",
   "metadata": {},
   "outputs": [
    {
     "data": {
      "text/plain": [
       "array([7, 3, 2, 7])"
      ]
     },
     "execution_count": 5,
     "metadata": {},
     "output_type": "execute_result"
    }
   ],
   "source": [
    "# random integers from low (inclusive) to high (exclusive)\n",
    "rng.integers(0, 10, 4)"
   ]
  },
  {
   "cell_type": "code",
   "execution_count": 6,
   "id": "937d07d8-16b5-4aca-9d95-5d24fa155ad1",
   "metadata": {},
   "outputs": [
    {
     "data": {
      "text/plain": [
       "0.6762546707509746"
      ]
     },
     "execution_count": 6,
     "metadata": {},
     "output_type": "execute_result"
    }
   ],
   "source": [
    "# random floats in [0, 1)\n",
    "rng.random()"
   ]
  },
  {
   "cell_type": "code",
   "execution_count": 7,
   "id": "f4ee43a8-2dc0-4b12-8bd4-d2d3de8228c8",
   "metadata": {},
   "outputs": [
    {
     "name": "stdout",
     "output_type": "stream",
     "text": [
      "[3]\n",
      "[2 3 1]\n",
      "[2 3 1]\n"
     ]
    }
   ],
   "source": [
    "# random sample from a give array\n",
    "print(\n",
    "    rng.choice([1, 2, 3], 1)\n",
    ")\n",
    "print(\n",
    "    rng.choice([1, 2, 3], 3)\n",
    ")\n",
    "print(\n",
    "    rng.choice([1, 2, 3], 3, replace=False)\n",
    ")"
   ]
  },
  {
   "cell_type": "code",
   "execution_count": 8,
   "id": "ab9c3a02-0ff7-4f63-ada4-6a2824817ccf",
   "metadata": {},
   "outputs": [
    {
     "data": {
      "text/plain": [
       "b'-\\x9e\\xa8:w\\xbd9\\xac'"
      ]
     },
     "execution_count": 8,
     "metadata": {},
     "output_type": "execute_result"
    }
   ],
   "source": [
    "# random bytes \n",
    "rng.bytes(8)"
   ]
  },
  {
   "cell_type": "code",
   "execution_count": 9,
   "id": "5ed74efb-c913-4c80-9406-1e6067cbe8db",
   "metadata": {},
   "outputs": [
    {
     "data": {
      "text/plain": [
       "array([0.17833593, 0.72957711, 0.3197939 , 0.63584491, 0.58547838,\n",
       "       0.37733095, 0.66775679, 0.5676277 , 0.98606722, 0.69002562])"
      ]
     },
     "execution_count": 9,
     "metadata": {},
     "output_type": "execute_result"
    }
   ],
   "source": [
    "rng.beta(1,1,10)"
   ]
  },
  {
   "cell_type": "code",
   "execution_count": 10,
   "id": "183bb521-852a-4227-a88c-ce409bb63bd8",
   "metadata": {},
   "outputs": [
    {
     "data": {
      "text/plain": [
       "array([1, 3, 2, 2, 3, 2, 2, 3, 3, 2])"
      ]
     },
     "execution_count": 10,
     "metadata": {},
     "output_type": "execute_result"
    }
   ],
   "source": [
    "rng.binomial(10, 0.3, 10)"
   ]
  },
  {
   "cell_type": "code",
   "execution_count": 11,
   "id": "8361a52f-0603-4a34-b85c-713ea3d2fd68",
   "metadata": {},
   "outputs": [
    {
     "data": {
      "text/plain": [
       "array([0.17290206, 2.69742915, 1.50914335, 2.40108175, 0.30126929,\n",
       "       2.70873286, 1.11104923, 0.31855413, 0.33836534, 2.34961109])"
      ]
     },
     "execution_count": 11,
     "metadata": {},
     "output_type": "execute_result"
    }
   ],
   "source": [
    "rng.chisquare(2, 10)"
   ]
  },
  {
   "cell_type": "code",
   "execution_count": 12,
   "id": "579ff297-7f25-414b-aee3-5206c8fb6471",
   "metadata": {},
   "outputs": [
    {
     "data": {
      "text/plain": [
       "array([0.29117591, 1.43149027, 0.58704392, 0.30897818, 4.46967924,\n",
       "       0.100007  , 0.18071266, 0.82828908, 0.97308074, 1.04407401])"
      ]
     },
     "execution_count": 12,
     "metadata": {},
     "output_type": "execute_result"
    }
   ],
   "source": [
    "rng.exponential(1.0, 10)"
   ]
  },
  {
   "cell_type": "code",
   "execution_count": 13,
   "id": "ba86a88a-79a4-4a06-a984-9d461b41a271",
   "metadata": {},
   "outputs": [
    {
     "data": {
      "text/plain": [
       "-0.7016908087073603"
      ]
     },
     "execution_count": 13,
     "metadata": {},
     "output_type": "execute_result"
    }
   ],
   "source": [
    "rng.normal() # standard normal "
   ]
  },
  {
   "cell_type": "code",
   "execution_count": 14,
   "id": "eb42f5d0-6aae-4313-b199-8813111ca8b1",
   "metadata": {},
   "outputs": [
    {
     "data": {
      "text/plain": [
       "array([1.40857365, 6.63665124, 3.8579342 , 5.00157105])"
      ]
     },
     "execution_count": 14,
     "metadata": {},
     "output_type": "execute_result"
    }
   ],
   "source": [
    "rng.normal(5, 2, 4) # mu, sigma, size"
   ]
  },
  {
   "cell_type": "code",
   "execution_count": 15,
   "id": "48226c03-18a9-40ea-b7b3-0ab03b806e43",
   "metadata": {},
   "outputs": [
    {
     "data": {
      "text/plain": [
       "array([[-1.06364272,  1.3017145 ,  0.74787294],\n",
       "       [ 0.98087591, -0.11041869,  0.46791853],\n",
       "       [ 0.89060715,  1.02300937,  0.31238339],\n",
       "       [-0.06190469, -0.35947965, -0.74864398],\n",
       "       [-0.96547891,  0.36003466, -0.24455253],\n",
       "       [-1.99585661, -0.15524762,  1.06383087],\n",
       "       [-0.27517157, -1.85333593, -0.12434193],\n",
       "       [ 0.78497452,  0.2019986 , -0.42807444],\n",
       "       [ 1.8482889 ,  1.89995289, -0.09842503],\n",
       "       [ 0.81344544,  0.39249439,  0.7814429 ]])"
      ]
     },
     "execution_count": 15,
     "metadata": {},
     "output_type": "execute_result"
    }
   ],
   "source": [
    "rng.normal(0, 1, (10,3))"
   ]
  },
  {
   "cell_type": "code",
   "execution_count": 16,
   "id": "467376d6-748e-4b83-ab03-f0c62ca577a2",
   "metadata": {},
   "outputs": [
    {
     "data": {
      "text/plain": [
       "array([[ 1.45327152,  0.82018605,  0.08770534],\n",
       "       [-0.65350565, -0.81188688, -0.02553817],\n",
       "       [ 1.15818454,  0.30052087,  0.05305665],\n",
       "       [ 0.25727152,  0.03574286,  0.54723669],\n",
       "       [-1.12296158, -1.97524767, -0.42515005],\n",
       "       [-1.14907382,  1.61513805, -0.15847686],\n",
       "       [-0.25287335, -1.53815403,  0.28208603],\n",
       "       [-0.62361213,  1.12182226,  0.84122103],\n",
       "       [-0.7758961 ,  0.41071644, -2.7224161 ],\n",
       "       [-0.6733048 ,  1.24622153,  0.79020803]])"
      ]
     },
     "execution_count": 16,
     "metadata": {},
     "output_type": "execute_result"
    }
   ],
   "source": [
    "rng.standard_normal((10,3))"
   ]
  },
  {
   "cell_type": "code",
   "execution_count": null,
   "id": "ffe792f4-983b-4698-831f-3c8c614d9894",
   "metadata": {},
   "outputs": [],
   "source": []
  }
 ],
 "metadata": {
  "kernelspec": {
   "display_name": "Python 3 (ipykernel)",
   "language": "python",
   "name": "python3"
  },
  "language_info": {
   "codemirror_mode": {
    "name": "ipython",
    "version": 3
   },
   "file_extension": ".py",
   "mimetype": "text/x-python",
   "name": "python",
   "nbconvert_exporter": "python",
   "pygments_lexer": "ipython3",
   "version": "3.7.11"
  }
 },
 "nbformat": 4,
 "nbformat_minor": 5
}
