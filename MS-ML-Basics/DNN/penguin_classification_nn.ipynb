{
 "cells": [
  {
   "cell_type": "code",
   "execution_count": 1,
   "metadata": {},
   "outputs": [
    {
     "data": {
      "text/html": [
       "<div>\n",
       "<style scoped>\n",
       "    .dataframe tbody tr th:only-of-type {\n",
       "        vertical-align: middle;\n",
       "    }\n",
       "\n",
       "    .dataframe tbody tr th {\n",
       "        vertical-align: top;\n",
       "    }\n",
       "\n",
       "    .dataframe thead th {\n",
       "        text-align: right;\n",
       "    }\n",
       "</style>\n",
       "<table border=\"1\" class=\"dataframe\">\n",
       "  <thead>\n",
       "    <tr style=\"text-align: right;\">\n",
       "      <th></th>\n",
       "      <th>CulmenLength</th>\n",
       "      <th>CulmenDepth</th>\n",
       "      <th>FlipperLength</th>\n",
       "      <th>BodyMass</th>\n",
       "      <th>Species</th>\n",
       "    </tr>\n",
       "  </thead>\n",
       "  <tbody>\n",
       "    <tr>\n",
       "      <th>0</th>\n",
       "      <td>39.1</td>\n",
       "      <td>18.7</td>\n",
       "      <td>181.0</td>\n",
       "      <td>3750.0</td>\n",
       "      <td>0</td>\n",
       "    </tr>\n",
       "    <tr>\n",
       "      <th>1</th>\n",
       "      <td>39.5</td>\n",
       "      <td>17.4</td>\n",
       "      <td>186.0</td>\n",
       "      <td>3800.0</td>\n",
       "      <td>0</td>\n",
       "    </tr>\n",
       "    <tr>\n",
       "      <th>2</th>\n",
       "      <td>40.3</td>\n",
       "      <td>18.0</td>\n",
       "      <td>195.0</td>\n",
       "      <td>3250.0</td>\n",
       "      <td>0</td>\n",
       "    </tr>\n",
       "    <tr>\n",
       "      <th>3</th>\n",
       "      <td>NaN</td>\n",
       "      <td>NaN</td>\n",
       "      <td>NaN</td>\n",
       "      <td>NaN</td>\n",
       "      <td>0</td>\n",
       "    </tr>\n",
       "    <tr>\n",
       "      <th>4</th>\n",
       "      <td>36.7</td>\n",
       "      <td>19.3</td>\n",
       "      <td>193.0</td>\n",
       "      <td>3450.0</td>\n",
       "      <td>0</td>\n",
       "    </tr>\n",
       "  </tbody>\n",
       "</table>\n",
       "</div>"
      ],
      "text/plain": [
       "   CulmenLength  CulmenDepth  FlipperLength  BodyMass  Species\n",
       "0          39.1         18.7          181.0    3750.0        0\n",
       "1          39.5         17.4          186.0    3800.0        0\n",
       "2          40.3         18.0          195.0    3250.0        0\n",
       "3           NaN          NaN            NaN       NaN        0\n",
       "4          36.7         19.3          193.0    3450.0        0"
      ]
     },
     "execution_count": 1,
     "metadata": {},
     "output_type": "execute_result"
    }
   ],
   "source": [
    "import pandas as pd\n",
    "penguins = pd.read_csv('penguins.csv')\n",
    "penguins.head()"
   ]
  },
  {
   "cell_type": "code",
   "execution_count": 2,
   "metadata": {},
   "outputs": [
    {
     "name": "stdout",
     "output_type": "stream",
     "text": [
      "<class 'pandas.core.frame.DataFrame'>\n",
      "RangeIndex: 344 entries, 0 to 343\n",
      "Data columns (total 5 columns):\n",
      " #   Column         Non-Null Count  Dtype  \n",
      "---  ------         --------------  -----  \n",
      " 0   CulmenLength   342 non-null    float64\n",
      " 1   CulmenDepth    342 non-null    float64\n",
      " 2   FlipperLength  342 non-null    float64\n",
      " 3   BodyMass       342 non-null    float64\n",
      " 4   Species        344 non-null    int64  \n",
      "dtypes: float64(4), int64(1)\n",
      "memory usage: 13.6 KB\n"
     ]
    }
   ],
   "source": [
    "penguins.info()"
   ]
  },
  {
   "cell_type": "code",
   "execution_count": 3,
   "metadata": {},
   "outputs": [
    {
     "data": {
      "text/plain": [
       "CulmenLength     2\n",
       "CulmenDepth      2\n",
       "FlipperLength    2\n",
       "BodyMass         2\n",
       "Species          0\n",
       "dtype: int64"
      ]
     },
     "execution_count": 3,
     "metadata": {},
     "output_type": "execute_result"
    }
   ],
   "source": [
    "penguins.isnull().sum()"
   ]
  },
  {
   "cell_type": "code",
   "execution_count": 4,
   "metadata": {},
   "outputs": [],
   "source": [
    "penguins = penguins.dropna()"
   ]
  },
  {
   "cell_type": "code",
   "execution_count": 5,
   "metadata": {},
   "outputs": [
    {
     "data": {
      "text/html": [
       "<div>\n",
       "<style scoped>\n",
       "    .dataframe tbody tr th:only-of-type {\n",
       "        vertical-align: middle;\n",
       "    }\n",
       "\n",
       "    .dataframe tbody tr th {\n",
       "        vertical-align: top;\n",
       "    }\n",
       "\n",
       "    .dataframe thead th {\n",
       "        text-align: right;\n",
       "    }\n",
       "</style>\n",
       "<table border=\"1\" class=\"dataframe\">\n",
       "  <thead>\n",
       "    <tr style=\"text-align: right;\">\n",
       "      <th></th>\n",
       "      <th>CulmenLength</th>\n",
       "      <th>CulmenDepth</th>\n",
       "      <th>FlipperLength</th>\n",
       "      <th>BodyMass</th>\n",
       "      <th>Species</th>\n",
       "    </tr>\n",
       "  </thead>\n",
       "  <tbody>\n",
       "    <tr>\n",
       "      <th>count</th>\n",
       "      <td>342.000000</td>\n",
       "      <td>342.000000</td>\n",
       "      <td>342.000000</td>\n",
       "      <td>342.000000</td>\n",
       "      <td>342.000000</td>\n",
       "    </tr>\n",
       "    <tr>\n",
       "      <th>mean</th>\n",
       "      <td>43.921930</td>\n",
       "      <td>17.151170</td>\n",
       "      <td>200.915205</td>\n",
       "      <td>4201.754386</td>\n",
       "      <td>0.757310</td>\n",
       "    </tr>\n",
       "    <tr>\n",
       "      <th>std</th>\n",
       "      <td>5.459584</td>\n",
       "      <td>1.974793</td>\n",
       "      <td>14.061714</td>\n",
       "      <td>801.954536</td>\n",
       "      <td>0.763648</td>\n",
       "    </tr>\n",
       "    <tr>\n",
       "      <th>min</th>\n",
       "      <td>32.100000</td>\n",
       "      <td>13.100000</td>\n",
       "      <td>172.000000</td>\n",
       "      <td>2700.000000</td>\n",
       "      <td>0.000000</td>\n",
       "    </tr>\n",
       "    <tr>\n",
       "      <th>25%</th>\n",
       "      <td>39.225000</td>\n",
       "      <td>15.600000</td>\n",
       "      <td>190.000000</td>\n",
       "      <td>3550.000000</td>\n",
       "      <td>0.000000</td>\n",
       "    </tr>\n",
       "    <tr>\n",
       "      <th>50%</th>\n",
       "      <td>44.450000</td>\n",
       "      <td>17.300000</td>\n",
       "      <td>197.000000</td>\n",
       "      <td>4050.000000</td>\n",
       "      <td>1.000000</td>\n",
       "    </tr>\n",
       "    <tr>\n",
       "      <th>75%</th>\n",
       "      <td>48.500000</td>\n",
       "      <td>18.700000</td>\n",
       "      <td>213.000000</td>\n",
       "      <td>4750.000000</td>\n",
       "      <td>1.000000</td>\n",
       "    </tr>\n",
       "    <tr>\n",
       "      <th>max</th>\n",
       "      <td>59.600000</td>\n",
       "      <td>21.500000</td>\n",
       "      <td>231.000000</td>\n",
       "      <td>6300.000000</td>\n",
       "      <td>2.000000</td>\n",
       "    </tr>\n",
       "  </tbody>\n",
       "</table>\n",
       "</div>"
      ],
      "text/plain": [
       "       CulmenLength  CulmenDepth  FlipperLength     BodyMass     Species\n",
       "count    342.000000   342.000000     342.000000   342.000000  342.000000\n",
       "mean      43.921930    17.151170     200.915205  4201.754386    0.757310\n",
       "std        5.459584     1.974793      14.061714   801.954536    0.763648\n",
       "min       32.100000    13.100000     172.000000  2700.000000    0.000000\n",
       "25%       39.225000    15.600000     190.000000  3550.000000    0.000000\n",
       "50%       44.450000    17.300000     197.000000  4050.000000    1.000000\n",
       "75%       48.500000    18.700000     213.000000  4750.000000    1.000000\n",
       "max       59.600000    21.500000     231.000000  6300.000000    2.000000"
      ]
     },
     "execution_count": 5,
     "metadata": {},
     "output_type": "execute_result"
    }
   ],
   "source": [
    "penguins.describe()"
   ]
  },
  {
   "cell_type": "code",
   "execution_count": 6,
   "metadata": {},
   "outputs": [],
   "source": [
    "penguins.FlipperLength = penguins.FlipperLength/10\n",
    "penguins.BodyMass = penguins.BodyMass/100"
   ]
  },
  {
   "cell_type": "code",
   "execution_count": 7,
   "metadata": {},
   "outputs": [],
   "source": [
    "for i in range(1, 3):\n",
    "    penguins = penguins.append(penguins)"
   ]
  },
  {
   "cell_type": "code",
   "execution_count": 8,
   "metadata": {},
   "outputs": [],
   "source": [
    "sample = penguins.sample(10)"
   ]
  },
  {
   "cell_type": "code",
   "execution_count": 9,
   "metadata": {},
   "outputs": [
    {
     "name": "stdout",
     "output_type": "stream",
     "text": [
      "['CulmenLength' 'CulmenDepth' 'FlipperLength' 'BodyMass' 'Species'] SpeciesName\n",
      "[ 40.9 16.8 19.1 37.0 0 ] Adelie\n",
      "[ 37.6 19.3 18.1 33.0 0 ] Adelie\n",
      "[ 39.6 17.2 19.6 35.5 0 ] Adelie\n",
      "[ 40.9 18.9 18.4 39.0 0 ] Adelie\n",
      "[ 40.5 17.9 18.7 32.0 0 ] Adelie\n",
      "[ 48.2 15.6 22.1 51.0 1 ] Gentoo\n",
      "[ 42.0 19.5 20.0 40.5 0 ] Adelie\n",
      "[ 52.1 17.0 23.0 55.5 1 ] Gentoo\n",
      "[ 41.1 18.2 19.2 40.5 0 ] Adelie\n",
      "[ 39.5 16.7 17.8 32.5 0 ] Adelie\n"
     ]
    }
   ],
   "source": [
    "penguin_classes = ['Adelie', 'Gentoo', 'Chinstrap']\n",
    "print(sample.columns[0:5].values, 'SpeciesName')\n",
    "for index, row in penguins.sample(10).iterrows():\n",
    "    print('[',row[0], row[1], row[2],row[3], int(row[4]), ']',penguin_classes[int(row[-1])])"
   ]
  },
  {
   "cell_type": "code",
   "execution_count": 10,
   "metadata": {},
   "outputs": [
    {
     "name": "stdout",
     "output_type": "stream",
     "text": [
      "['CulmenLength', 'CulmenDepth', 'FlipperLength', 'BodyMass']\n",
      "Species\n"
     ]
    }
   ],
   "source": [
    "from sklearn.model_selection import train_test_split\n",
    "features = list(penguins.columns.values[:-1])\n",
    "label = penguins.columns.values[-1]\n",
    "print(features)\n",
    "print(label)\n",
    "X_train, X_test, y_train, y_test = train_test_split(penguins[features].values, penguins[label].values, test_size=0.3, random_state=0)"
   ]
  },
  {
   "cell_type": "code",
   "execution_count": 11,
   "metadata": {},
   "outputs": [
    {
     "name": "stdout",
     "output_type": "stream",
     "text": [
      "1.9.0.post2\n"
     ]
    }
   ],
   "source": [
    "import torch \n",
    "import torch.nn as nn\n",
    "import torch.utils.data as td\n",
    "\n",
    "torch.manual_seed(0)\n",
    "print(torch.__version__)"
   ]
  },
  {
   "cell_type": "code",
   "execution_count": 12,
   "metadata": {},
   "outputs": [],
   "source": [
    "train_x = torch.Tensor(X_train).float()\n",
    "tran_y = torch.Tensor(y_train).long()\n",
    "train_ds = td.TensorDataset(train_x, tran_y)\n",
    "train_loader = td.DataLoader(train_ds, batch_size=20, shuffle=False, num_workers=1)\n",
    "\n",
    "test_x = torch.Tensor(X_test).float()\n",
    "test_y = torch.Tensor(y_test).long()\n",
    "test_ds = td.TensorDataset(test_x,test_y)\n",
    "test_loader = td.DataLoader(test_ds, batch_size=20, shuffle=False, num_workers=1)"
   ]
  },
  {
   "cell_type": "code",
   "execution_count": 13,
   "metadata": {},
   "outputs": [
    {
     "name": "stdout",
     "output_type": "stream",
     "text": [
      "PenguinNet(\n",
      "  (fc1): Linear(in_features=4, out_features=10, bias=True)\n",
      "  (fc2): Linear(in_features=10, out_features=10, bias=True)\n",
      "  (fc3): Linear(in_features=10, out_features=3, bias=True)\n",
      ")\n"
     ]
    }
   ],
   "source": [
    "hl = 10\n",
    "\n",
    "class PenguinNet(nn.Module):\n",
    "    def __init__(self):\n",
    "        super(PenguinNet, self).__init__()\n",
    "        self.fc1 = nn.Linear(len(features), hl)\n",
    "        self.fc2 = nn.Linear(hl, hl)\n",
    "        self.fc3 = nn.Linear(hl, len(penguin_classes))\n",
    "    def forward(self, x):\n",
    "        x = torch.relu(self.fc1(x))\n",
    "        x = torch.relu(self.fc2(x))\n",
    "        x = torch.softmax(self.fc3(x), dim=1)\n",
    "        return x\n",
    "\n",
    "model = PenguinNet()\n",
    "print(model)"
   ]
  },
  {
   "cell_type": "code",
   "execution_count": 14,
   "metadata": {},
   "outputs": [],
   "source": [
    "def train(data_loader, model, loss_fn, optimizer):\n",
    "    # set the model to training mode\n",
    "    model.train()\n",
    "    train_loss = 0\n",
    "    \n",
    "    for batch, (X, y) in enumerate(data_loader):\n",
    "        optimizer.zero_grad()\n",
    "        pred = model(X)\n",
    "        loss = loss_fn(pred, y)\n",
    "        train_loss += loss.item()\n",
    "        \n",
    "        optimizer.zero_grad()\n",
    "        loss.backward()\n",
    "        optimizer.step()\n",
    "    \n",
    "    avg_loss = train_loss/(batch+1)\n",
    "    print(f'Train Average loss {avg_loss}')\n",
    "    return avg_loss"
   ]
  },
  {
   "cell_type": "code",
   "execution_count": 15,
   "metadata": {},
   "outputs": [],
   "source": [
    "def test(data_loader, model, loss_fn):\n",
    "    # set the model to evaluation mode\n",
    "    model.eval()\n",
    "    test_loss = 0\n",
    "    correct = 0\n",
    "    \n",
    "    with torch.no_grad():\n",
    "        batch_count = 0\n",
    "        for batch, (X, y) in enumerate(data_loader):\n",
    "            batch_count += 1\n",
    "            pred = model(X)\n",
    "            loss = loss_fn(pred, y)\n",
    "            test_loss += loss.item()\n",
    "            \n",
    "            _, predicted = torch.max(pred.data, 1)\n",
    "            correct += torch.sum(y==predicted).item()\n",
    "    avg_loss = test_loss / batch_count\n",
    "    print(f'Test Average loss {avg_loss}, Accuracy {correct}/{len(data_loader.dataset)} = {correct/len(data_loader.dataset)}')\n",
    "    return avg_loss"
   ]
  },
  {
   "cell_type": "code",
   "execution_count": 16,
   "metadata": {},
   "outputs": [],
   "source": [
    "loss_criteria = nn.CrossEntropyLoss()\n",
    "optimizer = torch.optim.Adam(model.parameters(), lr=0.001)"
   ]
  },
  {
   "cell_type": "code",
   "execution_count": 17,
   "metadata": {},
   "outputs": [
    {
     "name": "stdout",
     "output_type": "stream",
     "text": [
      "Epoch: 1\n",
      "Train Average loss 1.0914984916647275\n",
      "Test Average loss 1.02553406499681, Accuracy 246/411 = 0.5985401459854015\n",
      "Epoch: 2\n",
      "Train Average loss 1.0009490872422855\n",
      "Test Average loss 0.9824494889804295, Accuracy 314/411 = 0.7639902676399026\n",
      "Epoch: 3\n",
      "Train Average loss 0.9539049789309502\n",
      "Test Average loss 0.9379085415885562, Accuracy 321/411 = 0.781021897810219\n",
      "Epoch: 4\n",
      "Train Average loss 0.9067416662971178\n",
      "Test Average loss 0.8931661361739749, Accuracy 322/411 = 0.7834549878345499\n",
      "Epoch: 5\n",
      "Train Average loss 0.8602620090047518\n",
      "Test Average loss 0.8530265887578329, Accuracy 322/411 = 0.7834549878345499\n",
      "Epoch: 6\n",
      "Train Average loss 0.8189095159371694\n",
      "Test Average loss 0.8167579968770345, Accuracy 323/411 = 0.7858880778588808\n",
      "Epoch: 7\n",
      "Train Average loss 0.7832467916111151\n",
      "Test Average loss 0.7825750907262167, Accuracy 334/411 = 0.8126520681265207\n",
      "Epoch: 8\n",
      "Train Average loss 0.7503491354485353\n",
      "Test Average loss 0.7488679516883123, Accuracy 353/411 = 0.8588807785888077\n",
      "Epoch: 9\n",
      "Train Average loss 0.7195376480619112\n",
      "Test Average loss 0.7180914254415602, Accuracy 373/411 = 0.9075425790754258\n",
      "Epoch: 10\n",
      "Train Average loss 0.6926132465402285\n",
      "Test Average loss 0.6926077831359136, Accuracy 393/411 = 0.9562043795620438\n",
      "Epoch: 11\n",
      "Train Average loss 0.6708058044314384\n",
      "Test Average loss 0.6721443704196385, Accuracy 393/411 = 0.9562043795620438\n",
      "Epoch: 12\n",
      "Train Average loss 0.6537444939215978\n",
      "Test Average loss 0.6562348746118092, Accuracy 394/411 = 0.9586374695863747\n",
      "Epoch: 13\n",
      "Train Average loss 0.64045608167847\n",
      "Test Average loss 0.6438680915605455, Accuracy 397/411 = 0.9659367396593674\n",
      "Epoch: 14\n",
      "Train Average loss 0.6300506591796875\n",
      "Test Average loss 0.6342266769636244, Accuracy 397/411 = 0.9659367396593674\n",
      "Epoch: 15\n",
      "Train Average loss 0.6218061707913876\n",
      "Test Average loss 0.6261999408404032, Accuracy 397/411 = 0.9659367396593674\n",
      "Epoch: 16\n",
      "Train Average loss 0.6150291884938875\n",
      "Test Average loss 0.619776998247419, Accuracy 397/411 = 0.9659367396593674\n",
      "Epoch: 17\n",
      "Train Average loss 0.6094961514075597\n",
      "Test Average loss 0.6143622199694315, Accuracy 397/411 = 0.9659367396593674\n",
      "Epoch: 18\n",
      "Train Average loss 0.6049045287072659\n",
      "Test Average loss 0.6098112605866932, Accuracy 397/411 = 0.9659367396593674\n",
      "Epoch: 19\n",
      "Train Average loss 0.6010279568533102\n",
      "Test Average loss 0.6059036453564962, Accuracy 397/411 = 0.9659367396593674\n",
      "Epoch: 20\n",
      "Train Average loss 0.5976956225931644\n",
      "Test Average loss 0.6025001747267587, Accuracy 400/411 = 0.9732360097323601\n",
      "Epoch: 21\n",
      "Train Average loss 0.5948156329492728\n",
      "Test Average loss 0.5996244124003819, Accuracy 400/411 = 0.9732360097323601\n",
      "Epoch: 22\n",
      "Train Average loss 0.592312807838122\n",
      "Test Average loss 0.5970093891734168, Accuracy 400/411 = 0.9732360097323601\n",
      "Epoch: 23\n",
      "Train Average loss 0.5901358301440874\n",
      "Test Average loss 0.5947439329964774, Accuracy 400/411 = 0.9732360097323601\n",
      "Epoch: 24\n",
      "Train Average loss 0.5881909926732382\n",
      "Test Average loss 0.5927049574397859, Accuracy 402/411 = 0.9781021897810219\n",
      "Epoch: 25\n",
      "Train Average loss 0.5864713154733181\n",
      "Test Average loss 0.5908528821808952, Accuracy 402/411 = 0.9781021897810219\n",
      "Epoch: 26\n",
      "Train Average loss 0.5849093943834305\n",
      "Test Average loss 0.5891794051442828, Accuracy 402/411 = 0.9781021897810219\n",
      "Epoch: 27\n",
      "Train Average loss 0.5835156862934431\n",
      "Test Average loss 0.5877162984439305, Accuracy 402/411 = 0.9781021897810219\n",
      "Epoch: 28\n",
      "Train Average loss 0.5822576781113943\n",
      "Test Average loss 0.5863542244547889, Accuracy 402/411 = 0.9781021897810219\n",
      "Epoch: 29\n",
      "Train Average loss 0.5811057612299919\n",
      "Test Average loss 0.5851354598999023, Accuracy 402/411 = 0.9781021897810219\n",
      "Epoch: 30\n",
      "Train Average loss 0.5800571193297704\n",
      "Test Average loss 0.5840253063610622, Accuracy 402/411 = 0.9781021897810219\n",
      "Epoch: 31\n",
      "Train Average loss 0.5790822406609853\n",
      "Test Average loss 0.582967548143296, Accuracy 402/411 = 0.9781021897810219\n",
      "Epoch: 32\n",
      "Train Average loss 0.5781884950896105\n",
      "Test Average loss 0.582008835815248, Accuracy 402/411 = 0.9781021897810219\n",
      "Epoch: 33\n",
      "Train Average loss 0.577365397165219\n",
      "Test Average loss 0.581083493573325, Accuracy 404/411 = 0.9829683698296837\n",
      "Epoch: 34\n",
      "Train Average loss 0.5765962985654672\n",
      "Test Average loss 0.580242517448607, Accuracy 404/411 = 0.9829683698296837\n",
      "Epoch: 35\n",
      "Train Average loss 0.5758839063346386\n",
      "Test Average loss 0.5794275005658468, Accuracy 404/411 = 0.9829683698296837\n",
      "Epoch: 36\n",
      "Train Average loss 0.5752125705281893\n",
      "Test Average loss 0.5786800781885783, Accuracy 404/411 = 0.9829683698296837\n",
      "Epoch: 37\n",
      "Train Average loss 0.5745885893702507\n",
      "Test Average loss 0.5779671016193572, Accuracy 405/411 = 0.9854014598540146\n",
      "Epoch: 38\n",
      "Train Average loss 0.5740002443393072\n",
      "Test Average loss 0.5772992826643444, Accuracy 407/411 = 0.9902676399026764\n",
      "Epoch: 39\n",
      "Train Average loss 0.573451142758131\n",
      "Test Average loss 0.5766624865077791, Accuracy 407/411 = 0.9902676399026764\n",
      "Epoch: 40\n",
      "Train Average loss 0.5729325339198112\n",
      "Test Average loss 0.5760606129964193, Accuracy 407/411 = 0.9902676399026764\n",
      "Epoch: 41\n",
      "Train Average loss 0.572443342457215\n",
      "Test Average loss 0.5754823684692383, Accuracy 407/411 = 0.9902676399026764\n",
      "Epoch: 42\n",
      "Train Average loss 0.5719788285593191\n",
      "Test Average loss 0.5749275826272511, Accuracy 407/411 = 0.9902676399026764\n",
      "Epoch: 43\n",
      "Train Average loss 0.5715389822920164\n",
      "Test Average loss 0.5743973084858486, Accuracy 408/411 = 0.9927007299270073\n",
      "Epoch: 44\n",
      "Train Average loss 0.5711203664541245\n",
      "Test Average loss 0.5738882195381891, Accuracy 408/411 = 0.9927007299270073\n",
      "Epoch: 45\n",
      "Train Average loss 0.5707238105436166\n",
      "Test Average loss 0.5734031682922727, Accuracy 408/411 = 0.9927007299270073\n",
      "Epoch: 46\n",
      "Train Average loss 0.570347378651301\n",
      "Test Average loss 0.5729386238824754, Accuracy 408/411 = 0.9927007299270073\n",
      "Epoch: 47\n",
      "Train Average loss 0.5699885102609793\n",
      "Test Average loss 0.5724907489050002, Accuracy 408/411 = 0.9927007299270073\n",
      "Epoch: 48\n",
      "Train Average loss 0.5696455823878447\n",
      "Test Average loss 0.5720586322602772, Accuracy 408/411 = 0.9927007299270073\n",
      "Epoch: 49\n",
      "Train Average loss 0.5693187055488428\n",
      "Test Average loss 0.5716430998983837, Accuracy 408/411 = 0.9927007299270073\n",
      "Epoch: 50\n",
      "Train Average loss 0.5690066876510779\n",
      "Test Average loss 0.5712436806587946, Accuracy 408/411 = 0.9927007299270073\n"
     ]
    }
   ],
   "source": [
    "epoch_nums = []\n",
    "training_loss = []\n",
    "validation_loss = []\n",
    "\n",
    "\n",
    "epochs = 50\n",
    "for epoch in range(1, epochs + 1):\n",
    "\n",
    "    print('Epoch: {}'.format(epoch))\n",
    "    \n",
    "    train_loss = train(train_loader, model, loss_criteria, optimizer)\n",
    "    \n",
    "    test_loss = test(test_loader, model, loss_criteria)\n",
    "\n",
    "    epoch_nums.append(epoch)\n",
    "    training_loss.append(train_loss)\n",
    "    validation_loss.append(test_loss)"
   ]
  },
  {
   "cell_type": "code",
   "execution_count": 18,
   "metadata": {},
   "outputs": [
    {
     "data": {
      "image/png": "[encoded data removed]",
      "text/plain": [
       "<Figure size 432x288 with 1 Axes>"
      ]
     },
     "metadata": {
      "needs_background": "light"
     },
     "output_type": "display_data"
    }
   ],
   "source": [
    "import matplotlib.pyplot as plt\n",
    "plt.plot(epoch_nums, training_loss)\n",
    "plt.plot(epoch_nums, validation_loss)\n",
    "plt.legend(['training', 'validation'])\n",
    "plt.show()"
   ]
  },
  {
   "cell_type": "code",
   "execution_count": 19,
   "metadata": {},
   "outputs": [
    {
     "data": {
      "image/png": "[encoded data removed]",
      "text/plain": [
       "<Figure size 432x288 with 2 Axes>"
      ]
     },
     "metadata": {
      "needs_background": "light"
     },
     "output_type": "display_data"
    }
   ],
   "source": [
    "from sklearn.metrics import confusion_matrix\n",
    "import numpy as np\n",
    "model.eval()\n",
    "\n",
    "x = torch.Tensor(X_test).float()\n",
    "_, predicted = torch.max(model(x).data, 1)\n",
    "\n",
    "cm = confusion_matrix(y_test, predicted.numpy())\n",
    "plt.imshow(cm, interpolation='nearest', cmap=plt.cm.Blues)\n",
    "plt.colorbar()\n",
    "tick_marks = np.arange(len(penguin_classes))\n",
    "plt.show()"
   ]
  },
  {
   "cell_type": "code",
   "execution_count": 20,
   "metadata": {},
   "outputs": [],
   "source": [
    "model_file = 'penguin_classifier.pt'\n",
    "torch.save(model.state_dict(), model_file)\n",
    "#del model"
   ]
  },
  {
   "cell_type": "code",
   "execution_count": 31,
   "metadata": {},
   "outputs": [],
   "source": [
    "x_new = np.array([[50.4, 15.3, 20, 50]])\n",
    "# model = PenguinNet()\n",
    "# model.load_state_dict(torch.load(model_file))\n",
    "# model.eval()\n",
    "\n",
    "# x = torch.Tensor(x_new).float()\n",
    "# _, predicted = torch.max(model(x).data, 1)"
   ]
  },
  {
   "cell_type": "code",
   "execution_count": 22,
   "metadata": {},
   "outputs": [
    {
     "data": {
      "text/plain": [
       "array([[51.1, 16.5, 22.5, 52.5],\n",
       "       [50.7, 19.7, 20.3, 40.5],\n",
       "       [49.5, 16.2, 22.9, 58. ],\n",
       "       ...,\n",
       "       [48.7, 15.7, 20.8, 53.5],\n",
       "       [46.2, 14.4, 21.4, 46.5],\n",
       "       [39.1, 18.7, 18.1, 37.5]])"
      ]
     },
     "execution_count": 22,
     "metadata": {},
     "output_type": "execute_result"
    }
   ],
   "source": [
    "X_train"
   ]
  },
  {
   "cell_type": "code",
   "execution_count": 25,
   "metadata": {},
   "outputs": [
    {
     "data": {
      "text/plain": [
       "tensor([[9.7298e-05, 9.9907e-01, 8.3680e-04],\n",
       "        [1.0505e-02, 1.5375e-03, 9.8796e-01],\n",
       "        [3.0750e-05, 9.9997e-01, 1.6881e-06],\n",
       "        ...,\n",
       "        [2.7600e-05, 9.9990e-01, 6.7719e-05],\n",
       "        [2.2333e-04, 9.9805e-01, 1.7292e-03],\n",
       "        [9.9952e-01, 5.3397e-05, 4.2193e-04]], grad_fn=<SoftmaxBackward>)"
      ]
     },
     "execution_count": 25,
     "metadata": {},
     "output_type": "execute_result"
    }
   ],
   "source": [
    "model.eval()\n",
    "model(torch.tensor(X_train).float())"
   ]
  },
  {
   "cell_type": "code",
   "execution_count": 32,
   "metadata": {},
   "outputs": [
    {
     "data": {
      "text/plain": [
       "tensor([[4.6631e-06, 9.9672e-01, 3.2777e-03]], grad_fn=<SoftmaxBackward>)"
      ]
     },
     "execution_count": 32,
     "metadata": {},
     "output_type": "execute_result"
    }
   ],
   "source": [
    "model(torch.tensor(x_new).float())"
   ]
  },
  {
   "cell_type": "code",
   "execution_count": null,
   "metadata": {},
   "outputs": [],
   "source": []
  }
 ],
 "metadata": {
  "kernelspec": {
   "display_name": "Python 3",
   "language": "python",
   "name": "python3"
  },
  "language_info": {
   "codemirror_mode": {
    "name": "ipython",
    "version": 3
   },
   "file_extension": ".py",
   "mimetype": "text/x-python",
   "name": "python",
   "nbconvert_exporter": "python",
   "pygments_lexer": "ipython3",
   "version": "3.7.11"
  }
 },
 "nbformat": 4,
 "nbformat_minor": 4
}
