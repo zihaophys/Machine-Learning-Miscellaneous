{
 "cells": [
  {
   "cell_type": "code",
   "execution_count": 1,
   "id": "cff0d9a6-c838-4db2-b1ee-4fd4991e2027",
   "metadata": {},
   "outputs": [],
   "source": [
    "import numpy as np\n",
    "import matplotlib.pyplot as plt \n",
    "from numpy.random import default_rng\n",
    "rng = default_rng()\n",
    "\n",
    "import pandas as pd "
   ]
  },
  {
   "cell_type": "code",
   "execution_count": 2,
   "id": "38016125-8d33-49d9-9dce-6d3ad6d6339f",
   "metadata": {},
   "outputs": [],
   "source": [
    "from sklearn.linear_model import LinearRegression, RidgeCV, Ridge\n",
    "from sklearn.metrics import mean_squared_error"
   ]
  },
  {
   "cell_type": "code",
   "execution_count": 3,
   "id": "70ab5ec7-0d1b-4ddf-addd-23bb8683f293",
   "metadata": {},
   "outputs": [
    {
     "data": {
      "text/plain": [
       "1.0207624252996754"
      ]
     },
     "execution_count": 3,
     "metadata": {},
     "output_type": "execute_result"
    }
   ],
   "source": [
    "N = 100\n",
    "mu = rng.standard_normal(N)\n",
    "z = mu + rng.standard_normal(N)\n",
    "\n",
    "data = pd.DataFrame({'z':z, 'mu': mu})\n",
    "df = pd.get_dummies(data, columns=['z'])\n",
    "df.rename(columns={f'{t}':f'z{i}' for i, t in enumerate(df.columns.values[1:])}, inplace=True)\n",
    "df['z'] = z\n",
    "\n",
    "features = df.columns.values[1:-1]\n",
    "X, y = df[features].values, df['z'].values\n",
    "\n",
    "reg = LinearRegression(fit_intercept=False)\n",
    "reg.fit(X, y)\n",
    "mean_squared_error(reg.predict(X), mu)"
   ]
  },
  {
   "cell_type": "code",
   "execution_count": 27,
   "id": "c28d1d3b-2c01-41e3-8ffa-3a40b977d676",
   "metadata": {},
   "outputs": [
    {
     "data": {
      "text/plain": [
       "0.49242153442573217"
      ]
     },
     "execution_count": 27,
     "metadata": {},
     "output_type": "execute_result"
    }
   ],
   "source": [
    "js = Ridge(alpha=1, fit_intercept=False)\n",
    "js.fit(X, y)\n",
    "mean_squared_error(js.predict(X), mu)"
   ]
  },
  {
   "cell_type": "code",
   "execution_count": 14,
   "id": "db81f6a5-f22c-4c47-a5b3-b4ab9014af88",
   "metadata": {},
   "outputs": [],
   "source": []
  }
 ],
 "metadata": {
  "kernelspec": {
   "display_name": "Python 3 (ipykernel)",
   "language": "python",
   "name": "python3"
  },
  "language_info": {
   "codemirror_mode": {
    "name": "ipython",
    "version": 3
   },
   "file_extension": ".py",
   "mimetype": "text/x-python",
   "name": "python",
   "nbconvert_exporter": "python",
   "pygments_lexer": "ipython3",
   "version": "3.7.11"
  }
 },
 "nbformat": 4,
 "nbformat_minor": 5
}
