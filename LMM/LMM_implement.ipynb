{
 "cells": [
  {
   "cell_type": "markdown",
   "id": "a40bcfc7-c580-47c5-8b81-c9fdb90e3683",
   "metadata": {
    "tags": []
   },
   "source": [
    "### Problem 3"
   ]
  },
  {
   "cell_type": "markdown",
   "id": "eda01761-8fe9-4bba-9b9e-b8ff3cb4c1d8",
   "metadata": {},
   "source": [
    "$$\n",
    "z_{i,j} = \\beta_0 + \\mu_i + \\eta_j + \\epsilon_{i,j}\n",
    "$$\n",
    "$$\n",
    "\\mu_i\\sim\\mathcal{N}(0, \\sigma_1^2)\n",
    "$$\n",
    "$$\n",
    "\\eta_j\\sim\\mathcal{N}(0, \\sigma_2^2)\n",
    "$$\n",
    "$$\n",
    "\\epsilon_{i,j}\\sim\\mathcal{N}(0, \\sigma_{\\epsilon}^2)\n",
    "$$"
   ]
  },
  {
   "cell_type": "markdown",
   "id": "552308ca-51cd-42b3-894c-66b71ee50b48",
   "metadata": {},
   "source": [
    "#### Sol:"
   ]
  },
  {
   "cell_type": "markdown",
   "id": "d0554c93-7def-4440-9ff7-4410d380d886",
   "metadata": {},
   "source": [
    "Matrix Form:\n",
    "$$\n",
    "\\bf{z} = \\bf {e}\\beta_0 + X\\mu + Y\\eta + \\epsilon\n",
    "$$\n",
    "Under the assumed prior, the posterior is given by:\n",
    "$$\n",
    "{\\bf z} | \\beta_0, \\sigma_1^2, \\sigma_2^2, \\sigma_\\epsilon^2 \\sim \\mathcal{N}({\\bf e}\\beta_0, {\\bf YY^T}\\sigma_2^2+{\\bf XX^T}\\sigma_1^2+\\sigma_\\epsilon^2{\\bf I})\n",
    "$$\n",
    "Loglikelihood:\n",
    "$$\n",
    "{\\bf LL}(\\beta_0, \\sigma_1^2, \\sigma_2^2, \\sigma_\\epsilon^2)\n",
    "=-\\frac{1}{2}\\left(\n",
    "\\ln |{\\bf YY^T}\\sigma_2^2+{\\bf XX^T}\\sigma_1^2+\\sigma_\\epsilon^2{\\bf I}| + ({\\bf z} - {\\bf e}\\beta_0)^T|{\\bf YY^T}\\sigma_2^2+{\\bf XX^T}\\sigma_1^2+\\sigma_\\epsilon^2{\\bf I}|^{-1} ({\\bf z} - {\\bf e}\\beta_0) + n\\ln 2\\pi\n",
    "\\right)\n",
    "$$\n",
    "where $n=I\\times J$.Denote $K(\\sigma_1^2, \\sigma_2^2) = {\\bf YY^T}\\sigma_2^2+{\\bf XX^T}\\sigma_1^2$"
   ]
  },
  {
   "cell_type": "markdown",
   "id": "f161cf11-9284-4f03-ac99-cd17c64a62ca",
   "metadata": {},
   "source": [
    "Denote ${\\bf K}(\\sigma_1^2, \\sigma_2^2) = {\\bf YY^T}\\sigma_2^2+{\\bf XX^T}\\sigma_1^2$, then \n",
    "$$\n",
    "{\\bf LL}(\\beta_0, \\sigma_1^2, \\sigma_2^2, \\sigma_\\epsilon^2)\n",
    "=-\\frac{1}{2}\\left(\n",
    "\\ln |{\\bf K} + \\sigma_\\epsilon^2 {\\bf I}| +({\\bf z} - {\\bf e}\\beta_0)^T|{\\bf K}+\\sigma_\\epsilon^2{\\bf I}|^{-1} ({\\bf z} - {\\bf e}\\beta_0) + N\\ln 2\\pi\n",
    "\\right)\n",
    "$$"
   ]
  },
  {
   "cell_type": "markdown",
   "id": "c9ae9858-c6ad-4cce-95fa-6210b9f0f8cc",
   "metadata": {},
   "source": [
    "Follow the Lecture notes, we decompose matrix $\\bf K=USU^T $. Then refering to the lecture notes Page 20, we obtain \n",
    "$$\n",
    "\\hat{\\beta} = \\left[\\sum_{n=1}^N \\frac{1}{S_{ii} + \\sigma_\\epsilon^2} (U^T e)_i^2\\right]^{-1}\n",
    "\\left[\\sum_{n=1}^N \\frac{1}{S_{ii} + \\sigma_\\epsilon^2} (U^T e)_i(U^T z)_i\\right]\n",
    "$$\n",
    "Note that $\\bf U$ and $\\bf S$ are functions of $(\\sigma_1^2, \\sigma_2^2)$."
   ]
  },
  {
   "cell_type": "markdown",
   "id": "6001deb3-3f3b-4708-a547-75defe441987",
   "metadata": {},
   "source": [
    "Substituting $\\hat{\\beta}$ into the $\\bf LL$ and take the partial derivative w.r.t. $\\sigma_1^2$ and $\\sigma_2^2$ respectively:"
   ]
  },
  {
   "cell_type": "markdown",
   "id": "01f67bf7-4671-4439-9cc9-5ac63de1940d",
   "metadata": {},
   "source": [
    "I cannot go further..."
   ]
  },
  {
   "cell_type": "markdown",
   "id": "ffd4dbea-eed4-4f26-b229-a80812a5b737",
   "metadata": {},
   "source": [
    "#### We can use EM algorithm to solve it!"
   ]
  },
  {
   "cell_type": "code",
   "execution_count": 1,
   "id": "f9c18fd4-60bc-4beb-b756-5fd7daa7d347",
   "metadata": {},
   "outputs": [],
   "source": [
    "import numpy as np\n",
    "I = 4\n",
    "J = 3\n",
    "N = I*J"
   ]
  },
  {
   "cell_type": "code",
   "execution_count": 2,
   "id": "e04e73fa-bcde-481a-a1d8-339fb5492853",
   "metadata": {},
   "outputs": [],
   "source": [
    "x = np.zeros((J,I))\n",
    "x[:,0] = 1\n",
    "X = x\n",
    "for i in range(1,I):\n",
    "    x = np.zeros((J,I))\n",
    "    x[:,i] = 1\n",
    "    X = np.concatenate((X,x), axis=0)\n",
    "y = np.identity(J)\n",
    "Y = y\n",
    "for i in range(I-1):\n",
    "    Y = np.concatenate((Y,y), axis=0)"
   ]
  },
  {
   "cell_type": "code",
   "execution_count": null,
   "id": "721ed99b-dcfe-4bea-a5dc-5de78320f0a5",
   "metadata": {},
   "outputs": [],
   "source": []
  }
 ],
 "metadata": {
  "kernelspec": {
   "display_name": "Python 3 (ipykernel)",
   "language": "python",
   "name": "python3"
  },
  "language_info": {
   "codemirror_mode": {
    "name": "ipython",
    "version": 3
   },
   "file_extension": ".py",
   "mimetype": "text/x-python",
   "name": "python",
   "nbconvert_exporter": "python",
   "pygments_lexer": "ipython3",
   "version": "3.7.11"
  }
 },
 "nbformat": 4,
 "nbformat_minor": 5
}
