{
 "cells": [
  {
   "cell_type": "markdown",
   "id": "a40bcfc7-c580-47c5-8b81-c9fdb90e3683",
   "metadata": {
    "tags": []
   },
   "source": [
    "### Problem 3"
   ]
  },
  {
   "cell_type": "markdown",
   "id": "eda01761-8fe9-4bba-9b9e-b8ff3cb4c1d8",
   "metadata": {},
   "source": [
    "$$\n",
    "z_{i,j} = \\beta_0 + \\mu_i + \\eta_j + \\epsilon_{i,j}\n",
    "$$\n",
    "$$\n",
    "\\mu_i\\sim\\mathcal{N}(0, \\sigma_1^2)\n",
    "$$\n",
    "$$\n",
    "\\eta_j\\sim\\mathcal{N}(0, \\sigma_2^2)\n",
    "$$\n",
    "$$\n",
    "\\epsilon_{i,j}\\sim\\mathcal{N}(0, \\sigma_{\\epsilon}^2)\n",
    "$$"
   ]
  },
  {
   "cell_type": "markdown",
   "id": "552308ca-51cd-42b3-894c-66b71ee50b48",
   "metadata": {},
   "source": [
    "#### Sol:"
   ]
  },
  {
   "cell_type": "markdown",
   "id": "d0554c93-7def-4440-9ff7-4410d380d886",
   "metadata": {},
   "source": [
    "Matrix Form:\n",
    "$$\n",
    "\\bf{z} = \\bf {e}\\beta_0 + X\\mu + Y\\eta + \\epsilon\n",
    "$$\n",
    "Under the assumed prior, the posterior is given by:\n",
    "$$\n",
    "{\\bf z} | \\beta_0, \\sigma_1^2, \\sigma_2^2, \\sigma_\\epsilon^2 \\sim \\mathcal{N}({\\bf e}\\beta_0, {\\bf YY^T}\\sigma_2^2+{\\bf XX^T}\\sigma_1^2+\\sigma_\\epsilon^2{\\bf I})\n",
    "$$\n",
    "Loglikelihood:\n",
    "$$\n",
    "{\\bf LL}(\\beta_0, \\sigma_1^2, \\sigma_2^2, \\sigma_\\epsilon^2)\n",
    "=-\\frac{1}{2}\\left(\n",
    "\\ln |{\\bf YY^T}\\sigma_2^2+{\\bf XX^T}\\sigma_1^2+\\sigma_\\epsilon^2{\\bf I}| + ({\\bf z} - {\\bf e}\\beta_0)^T|{\\bf YY^T}\\sigma_2^2+{\\bf XX^T}\\sigma_1^2+\\sigma_\\epsilon^2{\\bf I}|^{-1} ({\\bf z} - {\\bf e}\\beta_0) + n\\ln 2\\pi\n",
    "\\right)\n",
    "$$\n",
    "where $n=I\\times J$.Denote $K(\\sigma_1^2, \\sigma_2^2) = {\\bf YY^T}\\sigma_2^2+{\\bf XX^T}\\sigma_1^2$"
   ]
  },
  {
   "cell_type": "markdown",
   "id": "f161cf11-9284-4f03-ac99-cd17c64a62ca",
   "metadata": {},
   "source": [
    "Denote ${\\bf K}(\\sigma_1^2, \\sigma_2^2) = {\\bf YY^T}\\sigma_2^2+{\\bf XX^T}\\sigma_1^2$, then \n",
    "$$\n",
    "{\\bf LL}(\\beta_0, \\sigma_1^2, \\sigma_2^2, \\sigma_\\epsilon^2)\n",
    "=-\\frac{1}{2}\\left(\n",
    "\\ln |{\\bf K} + \\sigma_\\epsilon^2 {\\bf I}| +({\\bf z} - {\\bf e}\\beta_0)^T|{\\bf K}+\\sigma_\\epsilon^2{\\bf I}|^{-1} ({\\bf z} - {\\bf e}\\beta_0) + N\\ln 2\\pi\n",
    "\\right)\n",
    "$$"
   ]
  },
  {
   "cell_type": "markdown",
   "id": "c9ae9858-c6ad-4cce-95fa-6210b9f0f8cc",
   "metadata": {},
   "source": [
    "Follow the Lecture notes, we decompose matrix $\\bf K=USU^T $. Then refering to the lecture notes Page 20, we obtain \n",
    "$$\n",
    "\\hat{\\beta} = \\left[\\sum_{n=1}^N \\frac{1}{S_{ii} + \\sigma_\\epsilon^2} (U^T e)_i^2\\right]^{-1}\n",
    "\\left[\\sum_{n=1}^N \\frac{1}{S_{ii} + \\sigma_\\epsilon^2} (U^T e)_i(U^T z)_i\\right]\n",
    "$$\n",
    "Note that $\\bf U$ and $\\bf S$ are functions of $(\\sigma_1^2, \\sigma_2^2)$."
   ]
  },
  {
   "cell_type": "markdown",
   "id": "6001deb3-3f3b-4708-a547-75defe441987",
   "metadata": {},
   "source": [
    "Substituting $\\hat{\\beta}$ into the $\\bf LL$ and take the partial derivative w.r.t. $\\sigma_1^2$ and $\\sigma_2^2$ respectively:"
   ]
  },
  {
   "cell_type": "markdown",
   "id": "01f67bf7-4671-4439-9cc9-5ac63de1940d",
   "metadata": {},
   "source": [
    "I cannot go further..."
   ]
  },
  {
   "cell_type": "markdown",
   "id": "ffd4dbea-eed4-4f26-b229-a80812a5b737",
   "metadata": {},
   "source": [
    "#### We can use EM algorithm to solve it!"
   ]
  },
  {
   "cell_type": "code",
   "execution_count": 3,
   "id": "f9c18fd4-60bc-4beb-b756-5fd7daa7d347",
   "metadata": {},
   "outputs": [],
   "source": [
    "import numpy as np\n",
    "import matplotlib.pyplot as plt\n",
    "import pandas as pd"
   ]
  },
  {
   "cell_type": "code",
   "execution_count": 6,
   "id": "e04e73fa-bcde-481a-a1d8-339fb5492853",
   "metadata": {},
   "outputs": [],
   "source": [
    "df = pd.read_csv(\"../data/score.txt\", delimiter=' ')"
   ]
  },
  {
   "cell_type": "code",
   "execution_count": 9,
   "id": "a83965c0-2b4f-4732-9c85-df8a8a8bf73a",
   "metadata": {},
   "outputs": [
    {
     "data": {
      "text/html": [
       "<div>\n",
       "<style scoped>\n",
       "    .dataframe tbody tr th:only-of-type {\n",
       "        vertical-align: middle;\n",
       "    }\n",
       "\n",
       "    .dataframe tbody tr th {\n",
       "        vertical-align: top;\n",
       "    }\n",
       "\n",
       "    .dataframe thead th {\n",
       "        text-align: right;\n",
       "    }\n",
       "</style>\n",
       "<table border=\"1\" class=\"dataframe\">\n",
       "  <thead>\n",
       "    <tr style=\"text-align: right;\">\n",
       "      <th></th>\n",
       "      <th>score</th>\n",
       "      <th>school</th>\n",
       "      <th>subject</th>\n",
       "    </tr>\n",
       "  </thead>\n",
       "  <tbody>\n",
       "    <tr>\n",
       "      <th>0</th>\n",
       "      <td>72.9</td>\n",
       "      <td>1</td>\n",
       "      <td>1</td>\n",
       "    </tr>\n",
       "    <tr>\n",
       "      <th>1</th>\n",
       "      <td>72.6</td>\n",
       "      <td>1</td>\n",
       "      <td>1</td>\n",
       "    </tr>\n",
       "    <tr>\n",
       "      <th>2</th>\n",
       "      <td>72.2</td>\n",
       "      <td>1</td>\n",
       "      <td>1</td>\n",
       "    </tr>\n",
       "    <tr>\n",
       "      <th>3</th>\n",
       "      <td>74.9</td>\n",
       "      <td>1</td>\n",
       "      <td>1</td>\n",
       "    </tr>\n",
       "    <tr>\n",
       "      <th>4</th>\n",
       "      <td>74.9</td>\n",
       "      <td>1</td>\n",
       "      <td>1</td>\n",
       "    </tr>\n",
       "    <tr>\n",
       "      <th>...</th>\n",
       "      <td>...</td>\n",
       "      <td>...</td>\n",
       "      <td>...</td>\n",
       "    </tr>\n",
       "    <tr>\n",
       "      <th>2995</th>\n",
       "      <td>75.9</td>\n",
       "      <td>30</td>\n",
       "      <td>15</td>\n",
       "    </tr>\n",
       "    <tr>\n",
       "      <th>2996</th>\n",
       "      <td>67.3</td>\n",
       "      <td>30</td>\n",
       "      <td>15</td>\n",
       "    </tr>\n",
       "    <tr>\n",
       "      <th>2997</th>\n",
       "      <td>69.2</td>\n",
       "      <td>30</td>\n",
       "      <td>15</td>\n",
       "    </tr>\n",
       "    <tr>\n",
       "      <th>2998</th>\n",
       "      <td>70.9</td>\n",
       "      <td>30</td>\n",
       "      <td>15</td>\n",
       "    </tr>\n",
       "    <tr>\n",
       "      <th>2999</th>\n",
       "      <td>74.2</td>\n",
       "      <td>30</td>\n",
       "      <td>15</td>\n",
       "    </tr>\n",
       "  </tbody>\n",
       "</table>\n",
       "<p>3000 rows × 3 columns</p>\n",
       "</div>"
      ],
      "text/plain": [
       "      score  school  subject\n",
       "0      72.9       1        1\n",
       "1      72.6       1        1\n",
       "2      72.2       1        1\n",
       "3      74.9       1        1\n",
       "4      74.9       1        1\n",
       "...     ...     ...      ...\n",
       "2995   75.9      30       15\n",
       "2996   67.3      30       15\n",
       "2997   69.2      30       15\n",
       "2998   70.9      30       15\n",
       "2999   74.2      30       15\n",
       "\n",
       "[3000 rows x 3 columns]"
      ]
     },
     "execution_count": 9,
     "metadata": {},
     "output_type": "execute_result"
    }
   ],
   "source": [
    "df"
   ]
  },
  {
   "cell_type": "code",
   "execution_count": 21,
   "id": "e4dab918-636d-4f70-abf8-b574b26b96d0",
   "metadata": {},
   "outputs": [],
   "source": [
    "X1 = pd.get_dummies(df.school).values\n",
    "X2 = pd.get_dummies(df.subject).values\n",
    "y = df.score.values-73.222"
   ]
  },
  {
   "cell_type": "code",
   "execution_count": 12,
   "id": "721ed99b-dcfe-4bea-a5dc-5de78320f0a5",
   "metadata": {},
   "outputs": [],
   "source": [
    "class VCM3:\n",
    "    '''\n",
    "    three-variance-component model\n",
    "    '''\n",
    "    def __init__(self, X1, X2, y):\n",
    "        self.X1 = X1\n",
    "        self.X2 = X2\n",
    "        self.X = np.concatenate((X1, X2), axis=1)\n",
    "        self.y = y \n",
    "        self.p1 = X1.shape[1]\n",
    "        self.p2 = X2.shape[1]\n",
    "        self.n = y.shape[0]\n",
    "        \n",
    "    def mu_1_sigma_1(self, a, b, c):\n",
    "        p1 = self.p1\n",
    "        n = self.n\n",
    "        X1 = self.X1\n",
    "        X2 = self.X2\n",
    "        y = self.y\n",
    "        \n",
    "        sigma_1 = np.linalg.inv(a*np.identity(p1) + X1.T@np.linalg.inv(X2@X2.T/b+np.identity(n)/c)@X1)\n",
    "        mu_1 = sigma_1@X1.T@np.linalg.inv(X2@X2.T/b+np.identity(n)/c) @y\n",
    "        \n",
    "        return mu_1, sigma_1\n",
    "    \n",
    "    def mu_2_sigma_2(self, a, b, c):\n",
    "        p2 = self.p2\n",
    "        n = self.n\n",
    "        X1 = self.X1\n",
    "        X2 = self.X2\n",
    "        y = self.y\n",
    "        \n",
    "        sigma_2 = np.linalg.inv(b*np.identity(p2) + X2.T@np.linalg.inv(X1@X1.T/a+np.identity(n)/c)@X2)\n",
    "        mu_2 = sigma_2@X2.T@np.linalg.inv(X1@X1.T/a+np.identity(n)/c) @y\n",
    "        \n",
    "        return mu_2, sigma_2\n",
    "    \n",
    "    def mu_r_sigma_r(self, a, b, c):\n",
    "        p1 = self.p1\n",
    "        p2 = self.p2\n",
    "        n = self.n\n",
    "        X1 = self.X1\n",
    "        X2 = self.X2\n",
    "        X = self.X\n",
    "        y = self.y  \n",
    "        \n",
    "        A = a*np.identity(p1) + c*X1.T@X1\n",
    "        B = c*X1.T@X2\n",
    "        C = c*X2.T@X1\n",
    "        D = b*np.identity(p2) + c*X2.T@X2\n",
    "        \n",
    "        sigma_r = np.linalg.inv(\\\n",
    "                    np.concatenate((np.concatenate((A, B), axis=1), \\\n",
    "                                    np.concatenate((C, D), axis=1)), \\\n",
    "                                   axis=0))\n",
    "        mu_r = c*sigma_r@X.T@y\n",
    "        \n",
    "        return mu_r, sigma_r\n",
    "    \n",
    "    def llh(self, a, b, c):\n",
    "        p1 = self.p1\n",
    "        p2 = self.p2\n",
    "        n = self.n\n",
    "        X1 = self.X1\n",
    "        X2 = self.X2\n",
    "        X = self.X\n",
    "        y = self.y  \n",
    "        \n",
    "        tmp = np.identity(n)/c + X1@X1.T/a + X2@X2.T/b \n",
    "        sign, logdet = np.linalg.slogdet(tmp)\n",
    "        \n",
    "        t = logdet + y.T@np.linalg.inv(tmp)@y + n*np.log(2*np.pi)\n",
    "        return -1/2*t    \n",
    "    \n",
    "    def solve(self, time_step, a0, b0, c0, tol=1e-6):\n",
    "        p1 = self.p1\n",
    "        p2 = self.p2\n",
    "        n = self.n\n",
    "        X = self.X\n",
    "        y = self.y\n",
    "        \n",
    "        llhs = []\n",
    "        llhs.append(self.llh(a0, b0, c0))\n",
    "        a, b, c = a0, b0, c0\n",
    "        for t in range(time_step):\n",
    "            mu_1, sigma_1 = self.mu_1_sigma_1(a, b, c)\n",
    "            mu_2, sigma_2 = self.mu_2_sigma_2(a, b, c)\n",
    "            mu_r, sigma_r = self.mu_r_sigma_r(a, b, c)\n",
    "            a = p1/(mu_1.T@mu_1 + np.trace(sigma_1))\n",
    "            b = p2/(mu_2.T@mu_2 + np.trace(sigma_2))\n",
    "            c = n/(np.linalg.norm(y-X@mu_r)**2 + np.trace(X.T@X@sigma_r))\n",
    "\n",
    "            llhs.append(self.llh(a, b, c))\n",
    "            if llhs[-1]-llhs[-2] < tol:\n",
    "                break\n",
    "        return a, b, c, llhs"
   ]
  },
  {
   "cell_type": "code",
   "execution_count": 22,
   "id": "5f390692-75ff-4c35-9d29-f1276acb89d9",
   "metadata": {},
   "outputs": [],
   "source": [
    "model = VCM3(X1, X2, y)\n",
    "a, b, c, lhs = model.solve(2000000, 1, 1, 1)"
   ]
  },
  {
   "cell_type": "code",
   "execution_count": 23,
   "id": "105f0c15-218b-4fe0-88b2-dc534f529012",
   "metadata": {},
   "outputs": [
    {
     "data": {
      "text/plain": [
       "(22.787646090885247, 34.08280400732777, 9.841616354246375)"
      ]
     },
     "execution_count": 23,
     "metadata": {},
     "output_type": "execute_result"
    },
    {
     "data": {
      "image/png": "[encoded data removed]",
      "text/plain": [
       "<Figure size 432x288 with 1 Axes>"
      ]
     },
     "metadata": {
      "needs_background": "light"
     },
     "output_type": "display_data"
    }
   ],
   "source": [
    "plt.plot(max(lhs)-lhs)\n",
    "plt.yscale('log')\n",
    "1/a, 1/b, 1/c"
   ]
  },
  {
   "cell_type": "code",
   "execution_count": null,
   "id": "5a33319a-d36d-43f1-b4b6-1ed57c3cf553",
   "metadata": {},
   "outputs": [],
   "source": []
  }
 ],
 "metadata": {
  "kernelspec": {
   "display_name": "Python 3 (ipykernel)",
   "language": "python",
   "name": "python3"
  },
  "language_info": {
   "codemirror_mode": {
    "name": "ipython",
    "version": 3
   },
   "file_extension": ".py",
   "mimetype": "text/x-python",
   "name": "python",
   "nbconvert_exporter": "python",
   "pygments_lexer": "ipython3",
   "version": "3.7.11"
  }
 },
 "nbformat": 4,
 "nbformat_minor": 5
}
