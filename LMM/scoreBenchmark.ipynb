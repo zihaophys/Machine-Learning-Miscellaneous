{
 "cells": [
  {
   "cell_type": "code",
   "execution_count": 1,
   "id": "4f4e5302-d61f-4a16-998f-a67c1d269595",
   "metadata": {},
   "outputs": [
    {
     "name": "stderr",
     "output_type": "stream",
     "text": [
      "载入需要的程辑包：Matrix\n",
      "\n"
     ]
    },
    {
     "data": {
      "text/plain": [
       "Linear mixed model fit by REML ['lmerMod']\n",
       "Formula: score ~ (1 | school) + (1 | subject)\n",
       "   Data: data\n",
       "\n",
       "REML criterion at convergence: 15626.6\n",
       "\n",
       "Scaled residuals: \n",
       "    Min      1Q  Median      3Q     Max \n",
       "-4.5689 -0.6506  0.0130  0.6732  3.1935 \n",
       "\n",
       "Random effects:\n",
       " Groups   Name        Variance Std.Dev.\n",
       " school   (Intercept) 22.986   4.794   \n",
       " subject  (Intercept) 35.911   5.993   \n",
       " Residual              9.842   3.137   \n",
       "Number of obs: 3000, groups:  school, 30; subject, 15\n",
       "\n",
       "Fixed effects:\n",
       "            Estimate Std. Error t value\n",
       "(Intercept)   73.222      1.779   41.17"
      ]
     },
     "metadata": {},
     "output_type": "display_data"
    }
   ],
   "source": [
    "data <- read.csv(\"../data/score.txt\", sep=' ')\n",
    "library(lme4)\n",
    "mixed.lmer <- lmer(score ~ (1|school) + (1|subject), data=data)\n",
    "summary(mixed.lmer)"
   ]
  },
  {
   "cell_type": "code",
   "execution_count": null,
   "id": "ec444986-05b8-4a6f-8053-446c30a0f6f4",
   "metadata": {},
   "outputs": [],
   "source": []
  }
 ],
 "metadata": {
  "kernelspec": {
   "display_name": "R",
   "language": "R",
   "name": "ir"
  },
  "language_info": {
   "codemirror_mode": "r",
   "file_extension": ".r",
   "mimetype": "text/x-r-source",
   "name": "R",
   "pygments_lexer": "r",
   "version": "4.1.1"
  }
 },
 "nbformat": 4,
 "nbformat_minor": 5
}
